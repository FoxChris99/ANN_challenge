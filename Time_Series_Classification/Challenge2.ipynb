{
  "nbformat": 4,
  "nbformat_minor": 0,
  "metadata": {
    "colab": {
      "provenance": [],
      "collapsed_sections": [
        "YOHLTtnQYp6c",
        "izXa12JluG-x",
        "WDOnIO5rtzCP",
        "m7_MRrCOv3FS",
        "u3ApiEnYUddf",
        "bTqxD5Vt5GUL",
        "Zo-7YuY_2SnC",
        "MfwqXBgrAEy-",
        "Pu2ANl0OhIXo",
        "EQQJqURlHqHK",
        "blKziPcZ34EK",
        "ewHt33KshDl4",
        "rzP0v1i_ozYJ",
        "LLXCwfSPmq_h",
        "nkF_hb0j0is8",
        "1FQvWwCvB7QK",
        "ffOU5qU3_H3I",
        "jncLMhsp0qlk"
      ]
    },
    "kernelspec": {
      "name": "python3",
      "display_name": "Python 3"
    },
    "language_info": {
      "name": "python"
    },
    "gpuClass": "standard",
    "accelerator": "GPU"
  },
  "cells": [
    {
      "cell_type": "markdown",
      "source": [
        "######Google Drive and import libraries"
      ],
      "metadata": {
        "id": "YOHLTtnQYp6c"
      }
    },
    {
      "cell_type": "code",
      "execution_count": null,
      "metadata": {
        "id": "YI7N_MxmvgiJ",
        "colab": {
          "base_uri": "https://localhost:8080/"
        },
        "outputId": "8a032db4-8e17-4a15-8a9c-1cf21019303c"
      },
      "outputs": [
        {
          "output_type": "stream",
          "name": "stdout",
          "text": [
            "Mounted at /gdrive\n"
          ]
        }
      ],
      "source": [
        "from google.colab import drive\n",
        "drive.mount('/gdrive')"
      ]
    },
    {
      "cell_type": "code",
      "source": [
        "%cd /gdrive/MyDrive/Challenge2/"
      ],
      "metadata": {
        "colab": {
          "base_uri": "https://localhost:8080/"
        },
        "id": "Q5FKTEMkn1SZ",
        "outputId": "b6766020-0970-479e-ff15-f436dc492287"
      },
      "execution_count": null,
      "outputs": [
        {
          "output_type": "stream",
          "name": "stdout",
          "text": [
            "/gdrive/MyDrive/Challenge2\n"
          ]
        }
      ]
    },
    {
      "cell_type": "code",
      "source": [
        "#!unzip training_dataset_homework2"
      ],
      "metadata": {
        "colab": {
          "base_uri": "https://localhost:8080/"
        },
        "id": "qd8MfGTEn3hp",
        "outputId": "cf1e29eb-6fc2-4df8-997c-a0dc248c8c63"
      },
      "execution_count": null,
      "outputs": [
        {
          "output_type": "stream",
          "name": "stdout",
          "text": [
            "Archive:  training_dataset_homework2.zip\n",
            "  inflating: y_train.npy             \n",
            "  inflating: x_train.npy             \n"
          ]
        }
      ]
    },
    {
      "cell_type": "code",
      "source": [
        "import tensorflow as tf\n",
        "import numpy as np\n",
        "import os\n",
        "import random\n",
        "import pandas as pd\n",
        "import seaborn as sns\n",
        "import matplotlib.pyplot as plt\n",
        "plt.rc('font', size=16) \n",
        "from sklearn.metrics import accuracy_score, f1_score, precision_score, recall_score\n",
        "from sklearn.metrics import confusion_matrix\n",
        "from sklearn.preprocessing import MinMaxScaler\n",
        "import warnings\n",
        "import logging\n",
        "from sklearn.model_selection import train_test_split\n",
        "\n",
        "tfk = tf.keras\n",
        "tfkl = tf.keras.layers\n",
        "\n",
        "# Random seed for reproducibility\n",
        "seed = 127\n",
        "\n",
        "random.seed(seed)\n",
        "os.environ['PYTHONHASHSEED'] = str(seed)\n",
        "np.random.seed(seed)\n",
        "tf.random.set_seed(seed)\n",
        "tf.compat.v1.set_random_seed(seed)"
      ],
      "metadata": {
        "id": "uw265dpMn8xg"
      },
      "execution_count": null,
      "outputs": []
    },
    {
      "cell_type": "markdown",
      "source": [
        "#### Data loading and inspection"
      ],
      "metadata": {
        "id": "izXa12JluG-x"
      }
    },
    {
      "cell_type": "code",
      "source": [
        "X = np.load(\"x_train.npy\")\n",
        "y = np.load(\"y_train.npy\")\n",
        "print(X.shape,y.shape)"
      ],
      "metadata": {
        "colab": {
          "base_uri": "https://localhost:8080/"
        },
        "id": "ZSyaHNjMoTvZ",
        "outputId": "9f8dbf94-a6ac-43b4-de79-c7e1169c22fd"
      },
      "execution_count": null,
      "outputs": [
        {
          "output_type": "stream",
          "name": "stdout",
          "text": [
            "(2429, 36, 6) (2429,)\n"
          ]
        }
      ]
    },
    {
      "cell_type": "code",
      "source": [
        "#Unbalance in the data\n",
        "sns.countplot(y)"
      ],
      "metadata": {
        "colab": {
          "base_uri": "https://localhost:8080/",
          "height": 344
        },
        "id": "sjjlL2qB9xVT",
        "outputId": "29abff14-0d30-4424-ef5a-e442a6d7a248"
      },
      "execution_count": null,
      "outputs": [
        {
          "output_type": "stream",
          "name": "stderr",
          "text": [
            "/usr/local/lib/python3.8/dist-packages/seaborn/_decorators.py:36: FutureWarning: Pass the following variable as a keyword arg: x. From version 0.12, the only valid positional argument will be `data`, and passing other arguments without an explicit keyword will result in an error or misinterpretation.\n",
            "  warnings.warn(\n"
          ]
        },
        {
          "output_type": "execute_result",
          "data": {
            "text/plain": [
              "<matplotlib.axes._subplots.AxesSubplot at 0x7fb6baf4a430>"
            ]
          },
          "metadata": {},
          "execution_count": 57
        },
        {
          "output_type": "display_data",
          "data": {
            "text/plain": [
              "<Figure size 432x288 with 1 Axes>"
            ],
            "image/png": "[encoded data removed]"
          },
          "metadata": {
            "needs_background": "light"
          }
        }
      ]
    },
    {
      "cell_type": "code",
      "source": [
        "#Split into train-validation (our test) set\n",
        "X_train, X_val, y_train, y_val = train_test_split(X, y, test_size=0.1, random_state=seed)"
      ],
      "metadata": {
        "id": "bedlUr9sorN5"
      },
      "execution_count": null,
      "outputs": []
    },
    {
      "cell_type": "code",
      "source": [
        "#Split into train-validation (our test) set\n",
        "X_train, X_val, y_train, y_val = train_test_split(X, y, test_size=0.2, random_state=seed)"
      ],
      "metadata": {
        "id": "3CnsoTlG0-Eq"
      },
      "execution_count": null,
      "outputs": []
    },
    {
      "cell_type": "code",
      "source": [
        "from sklearn.utils import class_weight\n",
        "cws = class_weight.compute_class_weight(class_weight = \"balanced\" , classes = np.unique(y_train), y= y_train)"
      ],
      "metadata": {
        "id": "MnFS9iE_Hj33"
      },
      "execution_count": null,
      "outputs": []
    },
    {
      "cell_type": "code",
      "source": [
        "# Convert the sparse labels to categorical values\n",
        "y_train = tfk.utils.to_categorical(y_train)\n",
        "y_val = tfk.utils.to_categorical(y_val)\n",
        "X_train.shape, y_train.shape, X_val.shape, y_val.shape"
      ],
      "metadata": {
        "colab": {
          "base_uri": "https://localhost:8080/"
        },
        "id": "lPJXnbMKrBHw",
        "outputId": "621218b2-3bcf-417a-9c42-a9b1ff873c32"
      },
      "execution_count": null,
      "outputs": [
        {
          "output_type": "execute_result",
          "data": {
            "text/plain": [
              "((1943, 36, 6), (1943, 12), (486, 36, 6), (486, 12))"
            ]
          },
          "metadata": {},
          "execution_count": 7
        }
      ]
    },
    {
      "cell_type": "markdown",
      "source": [
        "######normalize/standardize data (eventually)"
      ],
      "metadata": {
        "id": "OhQi-Y5FDfos"
      }
    },
    {
      "cell_type": "markdown",
      "source": [
        "normalize each time series"
      ],
      "metadata": {
        "id": "h7IMMEiVzx0s"
      }
    },
    {
      "cell_type": "code",
      "source": [
        "# means = np.array([[np.mean(X_train[:,:,i].reshape(2064*36))] for i in range(6)])\n",
        "# stds = np.array([[np.std(X_train[:,:,i].reshape(2064*36))] for i in range(6)])\n",
        "# means2 = np.array([[np.mean(X_val[:,:,i].reshape(365*36))] for i in range(6)])\n",
        "# stds2 = np.array([[np.std(X_val[:,:,i].reshape(365*36))] for i in range(6)])\n",
        "# means,stds"
      ],
      "metadata": {
        "id": "2w5PtjGnMlLm"
      },
      "execution_count": null,
      "outputs": []
    },
    {
      "cell_type": "code",
      "source": [
        "# X_train[0,:,0].std(),X_train[0,:,0].mean()"
      ],
      "metadata": {
        "colab": {
          "base_uri": "https://localhost:8080/"
        },
        "id": "210FR-hOhRSb",
        "outputId": "d9eaec9f-908e-4cbc-d485-eab91b959d87"
      },
      "execution_count": null,
      "outputs": [
        {
          "output_type": "execute_result",
          "data": {
            "text/plain": [
              "(18.707681227483285, 5.523425)"
            ]
          },
          "metadata": {},
          "execution_count": 10
        }
      ]
    },
    {
      "cell_type": "code",
      "source": [
        "# #normalize each time series\n",
        "# for i in range(6):\n",
        "#   for j in range(len(X_train[:,0,0])):\n",
        "#     X_train[j,:,i] = (X_train[j,:,i] - X_train[j,:,i].mean())/X_train[j,:,i].std()"
      ],
      "metadata": {
        "id": "uvJPQrJrgNWs"
      },
      "execution_count": null,
      "outputs": []
    },
    {
      "cell_type": "code",
      "source": [
        "# for i in range(6):\n",
        "#   for j in range(len(X_val[:,0,0])):\n",
        "#     X_val[j,:,i] = (X_val[j,:,i] - X_val[j,:,i].mean())/X_val[j,:,i].std()"
      ],
      "metadata": {
        "id": "Ip0HJeHChOVT"
      },
      "execution_count": null,
      "outputs": []
    },
    {
      "cell_type": "code",
      "source": [
        "# X_train[0,:,0].std(),X_train[0,:,0].mean()"
      ],
      "metadata": {
        "colab": {
          "base_uri": "https://localhost:8080/"
        },
        "id": "TtYYVrZEhib8",
        "outputId": "c59d12dc-5082-442b-f7c5-166cbe53952d"
      },
      "execution_count": null,
      "outputs": [
        {
          "output_type": "execute_result",
          "data": {
            "text/plain": [
              "(1.0, 1.0793834961633467e-17)"
            ]
          },
          "metadata": {},
          "execution_count": 12
        }
      ]
    },
    {
      "cell_type": "markdown",
      "source": [
        "normalize all time series"
      ],
      "metadata": {
        "id": "uRqvHqU3z3Xc"
      }
    },
    {
      "cell_type": "code",
      "source": [
        "# means = np.array([[np.max(X_train[:,:,i].reshape(2064*36))] for i in range(6)])\n",
        "# stds = np.array([[np.min(X_train[:,:,i].reshape(2064*36))] for i in range(6)])\n",
        "# means2 = np.array([[np.max(X_val[:,:,i].reshape(365*36))] for i in range(6)])\n",
        "# stds2 = np.array([[np.min(X_val[:,:,i].reshape(365*36))] for i in range(6)])\n",
        "# means,stds"
      ],
      "metadata": {
        "id": "_6rHJ2AJRXI2"
      },
      "execution_count": null,
      "outputs": []
    },
    {
      "cell_type": "code",
      "source": [
        "# #Normalize all\n",
        "# for i in range(6):\n",
        "#   X_train[:,:,i] = (X_train[:,:,i] - means[i]) / stds[i]\n",
        "#   X_val[:,:,i] = (X_val[:,:,i] - means2[i]) / stds2[i]"
      ],
      "metadata": {
        "id": "SDxV9MDnLoQ9"
      },
      "execution_count": null,
      "outputs": []
    },
    {
      "cell_type": "markdown",
      "source": [
        "minmax scaler"
      ],
      "metadata": {
        "id": "jDH9K3E-z6Gc"
      }
    },
    {
      "cell_type": "code",
      "source": [
        "# X_train = X_train.reshape(2064*36,6)\n",
        "# X_val = X_val.reshape(365*36,6)\n",
        "# scaler = MinMaxScaler()\n",
        "# scaler = scaler.fit(X_train)\n",
        "# scaler2 = scaler.fit(X_val)\n",
        "\n",
        "# X_train = scaler.transform(X_train).reshape(2064,36,6)\n",
        "# X_val = scaler2.transform(X_val).reshape(365,36,6)"
      ],
      "metadata": {
        "id": "G7_w0GUmgnRY"
      },
      "execution_count": null,
      "outputs": []
    },
    {
      "cell_type": "code",
      "source": [],
      "metadata": {
        "id": "2ukXPgVwx0uq"
      },
      "execution_count": null,
      "outputs": []
    },
    {
      "cell_type": "markdown",
      "source": [
        "#### Building Neural Network models"
      ],
      "metadata": {
        "id": "WDOnIO5rtzCP"
      }
    },
    {
      "cell_type": "code",
      "source": [
        "input_shape = X.shape[1:]\n",
        "classes = y_train.shape[-1]\n",
        "batch_size = 32\n",
        "epochs = 200"
      ],
      "metadata": {
        "id": "56Rts_JzrcBR"
      },
      "execution_count": null,
      "outputs": []
    },
    {
      "cell_type": "code",
      "source": [
        "input_shape,classes"
      ],
      "metadata": {
        "colab": {
          "base_uri": "https://localhost:8080/"
        },
        "id": "3hq24n-RrhXZ",
        "outputId": "225dd8a6-34b3-46b9-dc87-face98eee21f"
      },
      "execution_count": null,
      "outputs": [
        {
          "output_type": "execute_result",
          "data": {
            "text/plain": [
              "((36, 6), 12)"
            ]
          },
          "metadata": {},
          "execution_count": 9
        }
      ]
    },
    {
      "cell_type": "markdown",
      "source": [
        "#####1st model: BiLSTM"
      ],
      "metadata": {
        "id": "m7_MRrCOv3FS"
      }
    },
    {
      "cell_type": "code",
      "source": [
        "#Validation\n",
        "# Accuracy: 0.6502\n",
        "# Precision: 0.5298\n",
        "# Recall: 0.4797\n",
        "# F1: 0.4858\n",
        "def build_BiLSTM_classifier(input_shape, classes): #68% val, 62% mio test\n",
        "    # Build the neural network layer by layer\n",
        "    input_layer = tfkl.Input(shape=input_shape, name='Input')\n",
        "\n",
        "    # Feature extractor\n",
        "    bilstm = tfkl.Bidirectional(tfkl.LSTM(128, return_sequences=True))(input_layer)\n",
        "    bilstm = tfkl.AveragePooling1D()(bilstm)\n",
        "    bilstm = tfkl.Bidirectional(tfkl.LSTM(128))(bilstm)\n",
        "    dropout = tfkl.Dropout(.3, seed=seed)(bilstm)\n",
        "\n",
        "    # Classifier\n",
        "    classifier = tfkl.Dense(128, activation='relu')(dropout)\n",
        "    dropout = tfkl.Dropout(.3, seed=seed)(classifier)\n",
        "    classifier = tfkl.Dense(128, activation='relu')(dropout)\n",
        "    output_layer = tfkl.Dense(classes, activation='softmax')(classifier)\n",
        "\n",
        "    # Connect input and output through the Model class\n",
        "    model = tfk.Model(inputs=input_layer, outputs=output_layer, name='model')\n",
        "\n",
        "    # Compile the model\n",
        "    model.compile(loss=tfk.losses.CategoricalCrossentropy(), optimizer=tfk.optimizers.Adam(), metrics='accuracy')\n",
        "\n",
        "    # Return the model\n",
        "    return model"
      ],
      "metadata": {
        "id": "RWEIkn2lAMfn"
      },
      "execution_count": null,
      "outputs": []
    },
    {
      "cell_type": "code",
      "source": [
        "model = build_BiLSTM_classifier(input_shape, classes)\n",
        "model.summary()"
      ],
      "metadata": {
        "colab": {
          "base_uri": "https://localhost:8080/"
        },
        "id": "DFoxBsw900hh",
        "outputId": "2538fa84-cb4f-4a9a-a91d-20221c3579ab"
      },
      "execution_count": null,
      "outputs": [
        {
          "output_type": "stream",
          "name": "stdout",
          "text": [
            "Model: \"model\"\n",
            "_________________________________________________________________\n",
            " Layer (type)                Output Shape              Param #   \n",
            "=================================================================\n",
            " Input (InputLayer)          [(None, 36, 6)]           0         \n",
            "                                                                 \n",
            " bidirectional_6 (Bidirectio  (None, 36, 256)          138240    \n",
            " nal)                                                            \n",
            "                                                                 \n",
            " dropout_9 (Dropout)         (None, 36, 256)           0         \n",
            "                                                                 \n",
            " bidirectional_7 (Bidirectio  (None, 64)               73984     \n",
            " nal)                                                            \n",
            "                                                                 \n",
            " dropout_10 (Dropout)        (None, 64)                0         \n",
            "                                                                 \n",
            " dense_9 (Dense)             (None, 128)               8320      \n",
            "                                                                 \n",
            " dropout_11 (Dropout)        (None, 128)               0         \n",
            "                                                                 \n",
            " dense_10 (Dense)            (None, 128)               16512     \n",
            "                                                                 \n",
            " dense_11 (Dense)            (None, 12)                1548      \n",
            "                                                                 \n",
            "=================================================================\n",
            "Total params: 238,604\n",
            "Trainable params: 238,604\n",
            "Non-trainable params: 0\n",
            "_________________________________________________________________\n"
          ]
        }
      ]
    },
    {
      "cell_type": "markdown",
      "source": [
        "#####2nd model: LSTM"
      ],
      "metadata": {
        "id": "kDBDsYDhwNw5"
      }
    },
    {
      "cell_type": "code",
      "source": [
        "# Accuracy: 0.6626\n",
        "# Precision: 0.5647\n",
        "# Recall: 0.5479\n",
        "# F1: 0.548\n",
        "def build_LSTM_classifier(input_shape, classes):\n",
        "    # Build the neural network layer by layer\n",
        "    input_layer = tfkl.Input(shape=input_shape, name='Input')\n",
        "\n",
        "    # Feature extractor\n",
        "    lstm = tfkl.LSTM(128,return_sequences=True)(input_layer)\n",
        "    lstm = tfkl.LSTM(128)(lstm)\n",
        "    dropout = tfkl.Dropout(.2, seed=seed)(lstm)\n",
        "\n",
        "    # Classifier\n",
        "\n",
        "    classifier = tfkl.Dense(128, activation='relu')(dropout)\n",
        "    dropout = tfkl.Dropout(.2, seed=seed)(classifier)\n",
        "    classifier = tfkl.Dense(128, activation='relu')(dropout)\n",
        "    output_layer = tfkl.Dense(classes, activation='softmax')(classifier)\n",
        "\n",
        "    # Connect input and output through the Model class\n",
        "    model = tfk.Model(inputs=input_layer, outputs=output_layer, name='model')\n",
        "\n",
        "    # Compile the model\n",
        "    model.compile(loss=tfk.losses.CategoricalCrossentropy(), optimizer=tfk.optimizers.Adam(), metrics='accuracy')\n",
        "\n",
        "    # Return the model\n",
        "    return model"
      ],
      "metadata": {
        "id": "mlcduO3hR6eX"
      },
      "execution_count": null,
      "outputs": []
    },
    {
      "cell_type": "code",
      "source": [
        "# Accuracy: 0.6626\n",
        "# Precision: 0.5647\n",
        "# Recall: 0.5479\n",
        "# F1: 0.548\n",
        "def build_LSTM_classifier(input_shape, classes):\n",
        "    # Build the neural network layer by layer\n",
        "    input_layer = tfkl.Input(shape=input_shape, name='Input')\n",
        "\n",
        "    # Feature extractor\n",
        "    lstm = tfkl.LSTM(128, dropout = 0.2, recurrent_dropout = 0.2,return_sequences=True)(input_layer)\n",
        "    lstm = tfkl.LSTM(128, dropout = 0.2, recurrent_dropout = 0.2)(lstm)\n",
        "    dropout = tfkl.Dropout(.2, seed=seed)(lstm)\n",
        "\n",
        "    # Classifier\n",
        "\n",
        "    classifier = tfkl.Dense(128, activation='relu')(dropout)\n",
        "    dropout = tfkl.Dropout(.2, seed=seed)(classifier)\n",
        "    classifier = tfkl.Dense(128, activation='relu')(dropout)\n",
        "    output_layer = tfkl.Dense(classes, activation='softmax')(classifier)\n",
        "\n",
        "    # Connect input and output through the Model class\n",
        "    model = tfk.Model(inputs=input_layer, outputs=output_layer, name='model')\n",
        "\n",
        "    # Compile the model\n",
        "    model.compile(loss=tfk.losses.CategoricalCrossentropy(), optimizer=tfk.optimizers.Adam(), metrics='accuracy')\n",
        "\n",
        "    # Return the model\n",
        "    return model"
      ],
      "metadata": {
        "id": "OoK_4UFhDMWY"
      },
      "execution_count": null,
      "outputs": []
    },
    {
      "cell_type": "code",
      "source": [
        "model = build_LSTM_classifier(input_shape, classes)\n",
        "model.summary()"
      ],
      "metadata": {
        "colab": {
          "base_uri": "https://localhost:8080/"
        },
        "id": "G3qNov1Vro_Z",
        "outputId": "ae349005-8a79-449f-9e2c-1c5fa03047b4"
      },
      "execution_count": null,
      "outputs": [
        {
          "output_type": "stream",
          "name": "stderr",
          "text": [
            "WARNING:tensorflow:Layer lstm will not use cuDNN kernels since it doesn't meet the criteria. It will use a generic GPU kernel as fallback when running on GPU.\n",
            "WARNING:tensorflow:Layer lstm_1 will not use cuDNN kernels since it doesn't meet the criteria. It will use a generic GPU kernel as fallback when running on GPU.\n"
          ]
        },
        {
          "output_type": "stream",
          "name": "stdout",
          "text": [
            "Model: \"model\"\n",
            "_________________________________________________________________\n",
            " Layer (type)                Output Shape              Param #   \n",
            "=================================================================\n",
            " Input (InputLayer)          [(None, 36, 6)]           0         \n",
            "                                                                 \n",
            " lstm (LSTM)                 (None, 36, 128)           69120     \n",
            "                                                                 \n",
            " lstm_1 (LSTM)               (None, 128)               131584    \n",
            "                                                                 \n",
            " dropout (Dropout)           (None, 128)               0         \n",
            "                                                                 \n",
            " dense (Dense)               (None, 128)               16512     \n",
            "                                                                 \n",
            " dropout_1 (Dropout)         (None, 128)               0         \n",
            "                                                                 \n",
            " dense_1 (Dense)             (None, 128)               16512     \n",
            "                                                                 \n",
            " dense_2 (Dense)             (None, 12)                1548      \n",
            "                                                                 \n",
            "=================================================================\n",
            "Total params: 235,276\n",
            "Trainable params: 235,276\n",
            "Non-trainable params: 0\n",
            "_________________________________________________________________\n"
          ]
        }
      ]
    },
    {
      "cell_type": "markdown",
      "source": [
        "#####3rd model: CNN"
      ],
      "metadata": {
        "id": "u3ApiEnYUddf"
      }
    },
    {
      "cell_type": "code",
      "source": [
        "# Accuracy: 0.7449\n",
        "# Precision: 0.7555\n",
        "# Recall: 0.6735\n",
        "# F1: 0.6961\n",
        "def build_1DCNN_classifier(input_shape, classes):#70% test set X_val con 0.1 val split su X-train\n",
        "#69% con data augm sia val che test\n",
        "    # Build the neural network layer by layer\n",
        "    input_layer = tfkl.Input(shape=input_shape, name='Input')\n",
        "\n",
        "    # Feature extractor\n",
        "    cnn = tfkl.Conv1D(128,3,padding='same',activation='relu')(input_layer)\n",
        "    cnn = tfkl.AveragePooling1D()(cnn)# \n",
        "    cnn = tfkl.Conv1D(256,3,padding='valid',activation='relu')(cnn)\n",
        "    gap = tfkl.GlobalAveragePooling1D()(cnn)\n",
        "    dropout = tfkl.Dropout(.3, seed=seed)(gap)\n",
        "\n",
        "    # Classifier\n",
        "    classifier = tfkl.Dense(128, activation='relu')(dropout)\n",
        "    dropout = tfkl.Dropout(.3, seed=seed)(classifier)\n",
        "    classifier = tfkl.Dense(128, activation='relu')(dropout)\n",
        "    output_layer = tfkl.Dense(classes, activation='softmax')(classifier)\n",
        "\n",
        "    # Connect input and output through the Model class\n",
        "    model = tfk.Model(inputs=input_layer, outputs=output_layer, name='model')\n",
        "\n",
        "    # Compile the model\n",
        "    model.compile(loss=tfk.losses.CategoricalCrossentropy(), optimizer=tfk.optimizers.Adam(), metrics='accuracy')\n",
        "\n",
        "    # Return the model\n",
        "    return model"
      ],
      "metadata": {
        "id": "ju7OK8AI8Rpm"
      },
      "execution_count": null,
      "outputs": []
    },
    {
      "cell_type": "code",
      "source": [
        "# Accuracy: 0.7449\n",
        "# Precision: 0.7555\n",
        "# Recall: 0.6735\n",
        "# F1: 0.6961\n",
        "def build_1DCNN_classifier(input_shape, classes):#70% test set X_val con 0.1 val split su X-train\n",
        "#69% con data augm sia val che test\n",
        "    # Build the neural network layer by layer\n",
        "    input_layer = tfkl.Input(shape=input_shape, name='Input')\n",
        "\n",
        "    # Feature extractor\n",
        "    cnn = tfkl.Conv1D(128,3,padding='same',activation='relu')(input_layer)\n",
        "    cnn = tfkl.AveragePooling1D()(cnn)# \n",
        "    cnn = tfkl.Conv1D(256,3,padding='same',activation='relu')(cnn)\n",
        "    gap = tfkl.GlobalAveragePooling1D()(cnn)\n",
        "    dropout = tfkl.Dropout(.3, seed=seed)(gap)\n",
        "\n",
        "    # Classifier\n",
        "    classifier = tfkl.Dense(128, activation='relu')(dropout)\n",
        "    dropout = tfkl.Dropout(.3, seed=seed)(classifier)\n",
        "    classifier = tfkl.Dense(128, activation='relu')(dropout)\n",
        "    output_layer = tfkl.Dense(classes, activation='softmax')(classifier)\n",
        "\n",
        "    # Connect input and output through the Model class\n",
        "    model = tfk.Model(inputs=input_layer, outputs=output_layer, name='model')\n",
        "\n",
        "    # Compile the model\n",
        "    model.compile(loss=tfk.losses.CategoricalCrossentropy(), optimizer=tfk.optimizers.Adam(), metrics='accuracy')\n",
        "\n",
        "    # Return the model\n",
        "    return model"
      ],
      "metadata": {
        "id": "LtV_tgCi_Kww"
      },
      "execution_count": null,
      "outputs": []
    },
    {
      "cell_type": "code",
      "source": [
        "# Accuracy: 0.6749\n",
        "# Precision: 0.6903\n",
        "# Recall: 0.4914\n",
        "# F1: 0.5303\n",
        "#68% sia val che test con data augm prob = 0.7, time warp, magnitude warp, scaler\n",
        "def build_1DCNN_classifier2(input_shape, classes):#68%val, 67-70%% sul test set X_val #67% hidden test set\n",
        "    # Build the neural network layer by layer\n",
        "    input_layer = tfkl.Input(shape=input_shape, name='Input')\n",
        "\n",
        "    # Feature extractor\n",
        "    cnn = tfkl.Conv1D(16,3,padding='same',activation='relu')(input_layer)\n",
        "    cnn = tfkl.Conv1D(32,3,padding='same',activation='relu')(cnn)\n",
        "    cnn = tfkl.Conv1D(64,3,padding='same',activation='relu')(cnn)\n",
        "\n",
        "    gap = tfkl.GlobalAveragePooling1D()(cnn)\n",
        "    dropout = tfkl.Dropout(.3, seed=seed)(gap)\n",
        "\n",
        "    # Classifier\n",
        "    classifier = tfkl.Dense(128, activation='relu')(dropout)\n",
        "    dropout = tfkl.Dropout(.3, seed=seed)(classifier)\n",
        "    classifier = tfkl.Dense(128, activation='relu')(dropout)\n",
        "    output_layer = tfkl.Dense(classes, activation='softmax')(classifier)\n",
        "\n",
        "    # Connect input and output through the Model class\n",
        "    model = tfk.Model(inputs=input_layer, outputs=output_layer, name='model')\n",
        "\n",
        "    # Compile the model\n",
        "    model.compile(loss=tfk.losses.CategoricalCrossentropy(), optimizer=tfk.optimizers.Adam(), metrics='accuracy')\n",
        "\n",
        "    # Return the model\n",
        "    return model"
      ],
      "metadata": {
        "id": "2F9fiGD-4lnn"
      },
      "execution_count": null,
      "outputs": []
    },
    {
      "cell_type": "code",
      "source": [
        "def build_1DCNN_classifier3(input_shape, classes):\n",
        "    # Build the neural network layer by layer\n",
        "    input_layer = tfkl.Input(shape=input_shape, name='Input')\n",
        "\n",
        "    # Feature extractor\n",
        "    cnn = tfkl.Conv1D(128,3,padding='same',activation='relu')(input_layer)\n",
        "    cnn = tfkl.Conv1D(256,3,dilation_rate = 2,padding='same',activation='relu')(cnn)\n",
        "    gap = tfkl.GlobalAveragePooling1D()(cnn)\n",
        "    dropout = tfkl.Dropout(.3, seed=seed)(gap)\n",
        "\n",
        "    # Classifier\n",
        "    classifier = tfkl.Dense(128, activation='relu')(dropout)\n",
        "    dropout = tfkl.Dropout(.3, seed=seed)(classifier)\n",
        "    classifier = tfkl.Dense(128, activation='relu')(dropout)\n",
        "    output_layer = tfkl.Dense(classes, activation='softmax')(classifier)\n",
        "\n",
        "    # Connect input and output through the Model class\n",
        "    model = tfk.Model(inputs=input_layer, outputs=output_layer, name='model')\n",
        "\n",
        "    # Compile the model\n",
        "    model.compile(loss=tfk.losses.CategoricalCrossentropy(), optimizer=tfk.optimizers.Adam(), metrics='accuracy')\n",
        "\n",
        "    # Return the model\n",
        "    return model"
      ],
      "metadata": {
        "id": "QZGvcDWhNx1o"
      },
      "execution_count": null,
      "outputs": []
    },
    {
      "cell_type": "code",
      "source": [
        "model = build_1DCNN_classifier(input_shape, classes)\n",
        "model.summary()"
      ],
      "metadata": {
        "colab": {
          "base_uri": "https://localhost:8080/"
        },
        "id": "C5t3QHU3UplY",
        "outputId": "5a2e3ab9-6e91-400c-e227-6f94d53a313a"
      },
      "execution_count": null,
      "outputs": [
        {
          "output_type": "stream",
          "name": "stdout",
          "text": [
            "Model: \"model\"\n",
            "_________________________________________________________________\n",
            " Layer (type)                Output Shape              Param #   \n",
            "=================================================================\n",
            " Input (InputLayer)          [(None, 36, 6)]           0         \n",
            "                                                                 \n",
            " conv1d_2 (Conv1D)           (None, 36, 128)           2432      \n",
            "                                                                 \n",
            " average_pooling1d_1 (Averag  (None, 18, 128)          0         \n",
            " ePooling1D)                                                     \n",
            "                                                                 \n",
            " conv1d_3 (Conv1D)           (None, 16, 256)           98560     \n",
            "                                                                 \n",
            " global_average_pooling1d_1   (None, 256)              0         \n",
            " (GlobalAveragePooling1D)                                        \n",
            "                                                                 \n",
            " dropout_6 (Dropout)         (None, 256)               0         \n",
            "                                                                 \n",
            " dense_9 (Dense)             (None, 128)               32896     \n",
            "                                                                 \n",
            " dropout_7 (Dropout)         (None, 128)               0         \n",
            "                                                                 \n",
            " dense_10 (Dense)            (None, 128)               16512     \n",
            "                                                                 \n",
            " dense_11 (Dense)            (None, 12)                1548      \n",
            "                                                                 \n",
            "=================================================================\n",
            "Total params: 151,948\n",
            "Trainable params: 151,948\n",
            "Non-trainable params: 0\n",
            "_________________________________________________________________\n"
          ]
        }
      ]
    },
    {
      "cell_type": "markdown",
      "source": [
        "#####4th model: CNN + BiLSTM"
      ],
      "metadata": {
        "id": "bTqxD5Vt5GUL"
      }
    },
    {
      "cell_type": "code",
      "source": [
        "#Validation\n",
        "# Accuracy: 0.6955\n",
        "# Precision: 0.6901\n",
        "# Recall: 0.6331\n",
        "# F1: 0.6516\n",
        "def build_CONV_LSTM_model(input_shape, classes):\n",
        "    # Build the neural network layer by layer\n",
        "    input_layer = tfkl.Input(shape=input_shape, name='Input')\n",
        "\n",
        "    convlstm = tfkl.Conv1D(32, 3, padding='same', activation='relu')(input_layer)\n",
        "    convlstm = tfkl.Conv1D(64, 3, padding='same', activation='relu')(convlstm)\n",
        "    convlstm = tfkl.Conv1D(128, 3, padding='same', activation='relu')(convlstm)\n",
        "\n",
        "    convlstm = tfkl.Bidirectional(tfkl.LSTM(128, return_sequences=True))(convlstm)\n",
        "    convlstm = tfkl.Bidirectional(tfkl.LSTM(128))(convlstm)\n",
        "\n",
        "    convlstm = tfkl.Dropout(.2)(convlstm)\n",
        "\n",
        "    convlstm = tfkl.Dense(64, activation='relu')(convlstm)\n",
        "\n",
        "    convlstm = tfkl.Dropout(.2, seed=seed)(convlstm)\n",
        "\n",
        "    convlstm = tfkl.Dense(64, activation='relu')(convlstm)\n",
        "\n",
        "    output_layer = tfkl.Dense(classes, activation='softmax')(convlstm)\n",
        "\n",
        "    # Connect input and output through the Model class\n",
        "    model = tfk.Model(inputs=input_layer, outputs=output_layer, name='model')\n",
        "\n",
        "    # Compile the model\n",
        "    model.compile(loss=tfk.losses.CategoricalCrossentropy(), optimizer=tfk.optimizers.Adam(), metrics='accuracy')\n",
        "\n",
        "    # Return the model\n",
        "    return model    \n"
      ],
      "metadata": {
        "id": "wcv3p20w4m16"
      },
      "execution_count": null,
      "outputs": []
    },
    {
      "cell_type": "code",
      "source": [
        "model = build_CONV_LSTM_model(input_shape=input_shape, classes = 12)\n",
        "model.summary()"
      ],
      "metadata": {
        "colab": {
          "base_uri": "https://localhost:8080/"
        },
        "id": "cYaaPqHM5Dv7",
        "outputId": "3b7c4b6e-40dc-494b-db1c-384b5dc27de5"
      },
      "execution_count": null,
      "outputs": [
        {
          "output_type": "stream",
          "name": "stdout",
          "text": [
            "Model: \"model\"\n",
            "_________________________________________________________________\n",
            " Layer (type)                Output Shape              Param #   \n",
            "=================================================================\n",
            " Input (InputLayer)          [(None, 36, 6)]           0         \n",
            "                                                                 \n",
            " conv1d_24 (Conv1D)          (None, 36, 128)           2432      \n",
            "                                                                 \n",
            " conv1d_25 (Conv1D)          (None, 36, 256)           98560     \n",
            "                                                                 \n",
            " lstm_14 (LSTM)              (None, 36, 128)           197120    \n",
            "                                                                 \n",
            " lstm_15 (LSTM)              (None, 128)               131584    \n",
            "                                                                 \n",
            " dropout_30 (Dropout)        (None, 128)               0         \n",
            "                                                                 \n",
            " dense_39 (Dense)            (None, 64)                8256      \n",
            "                                                                 \n",
            " dropout_31 (Dropout)        (None, 64)                0         \n",
            "                                                                 \n",
            " dense_40 (Dense)            (None, 64)                4160      \n",
            "                                                                 \n",
            " dense_41 (Dense)            (None, 12)                780       \n",
            "                                                                 \n",
            "=================================================================\n",
            "Total params: 442,892\n",
            "Trainable params: 442,892\n",
            "Non-trainable params: 0\n",
            "_________________________________________________________________\n"
          ]
        }
      ]
    },
    {
      "cell_type": "markdown",
      "source": [
        "####Train"
      ],
      "metadata": {
        "id": "Zo-7YuY_2SnC"
      }
    },
    {
      "cell_type": "markdown",
      "source": [
        "#####Vanilla Train"
      ],
      "metadata": {
        "id": "MfwqXBgrAEy-"
      }
    },
    {
      "cell_type": "code",
      "source": [
        "# Train the model\n",
        "history = model.fit(\n",
        "    x = X_train,\n",
        "    y = y_train,\n",
        "    batch_size = batch_size,\n",
        "    epochs = 300,\n",
        "    validation_data= (X_val,y_val),\n",
        "    callbacks = [\n",
        "        tfk.callbacks.EarlyStopping(monitor='val_accuracy', mode='max', patience=70, restore_best_weights=True),\n",
        "        tfk.callbacks.ReduceLROnPlateau(monitor='val_accuracy', mode='max', patience=30, factor=0.5, min_lr=1e-5)\n",
        "    ]\n",
        ").history"
      ],
      "metadata": {
        "id": "tggD-eiWkt5N",
        "colab": {
          "base_uri": "https://localhost:8080/"
        },
        "outputId": "ae145ca5-cf5d-4bfa-9115-f62f52884ca3"
      },
      "execution_count": null,
      "outputs": [
        {
          "output_type": "stream",
          "name": "stdout",
          "text": [
            "Epoch 1/300\n",
            "61/61 [==============================] - 22s 263ms/step - loss: 1.9189 - accuracy: 0.3793 - val_loss: 1.6062 - val_accuracy: 0.4362 - lr: 0.0010\n",
            "Epoch 2/300\n",
            "61/61 [==============================] - 16s 257ms/step - loss: 1.4691 - accuracy: 0.4771 - val_loss: 1.4244 - val_accuracy: 0.5041 - lr: 0.0010\n",
            "Epoch 3/300\n",
            "61/61 [==============================] - 16s 260ms/step - loss: 1.3123 - accuracy: 0.5353 - val_loss: 1.2871 - val_accuracy: 0.5576 - lr: 0.0010\n",
            "Epoch 4/300\n",
            "61/61 [==============================] - 16s 261ms/step - loss: 1.2341 - accuracy: 0.5703 - val_loss: 1.1972 - val_accuracy: 0.5988 - lr: 0.0010\n",
            "Epoch 5/300\n",
            "61/61 [==============================] - 16s 257ms/step - loss: 1.1684 - accuracy: 0.5929 - val_loss: 1.2628 - val_accuracy: 0.6008 - lr: 0.0010\n",
            "Epoch 6/300\n",
            "61/61 [==============================] - 16s 267ms/step - loss: 1.1209 - accuracy: 0.6073 - val_loss: 1.2159 - val_accuracy: 0.6091 - lr: 0.0010\n",
            "Epoch 7/300\n",
            "61/61 [==============================] - 16s 255ms/step - loss: 1.0909 - accuracy: 0.6207 - val_loss: 1.1719 - val_accuracy: 0.5864 - lr: 0.0010\n",
            "Epoch 8/300\n",
            "61/61 [==============================] - 16s 260ms/step - loss: 1.0595 - accuracy: 0.6382 - val_loss: 1.1342 - val_accuracy: 0.6276 - lr: 0.0010\n",
            "Epoch 9/300\n",
            "61/61 [==============================] - 17s 285ms/step - loss: 1.0138 - accuracy: 0.6402 - val_loss: 1.1148 - val_accuracy: 0.6173 - lr: 0.0010\n",
            "Epoch 10/300\n",
            "61/61 [==============================] - 15s 252ms/step - loss: 0.9925 - accuracy: 0.6526 - val_loss: 1.1019 - val_accuracy: 0.6481 - lr: 0.0010\n",
            "Epoch 11/300\n",
            "61/61 [==============================] - 15s 249ms/step - loss: 0.9597 - accuracy: 0.6722 - val_loss: 1.1298 - val_accuracy: 0.6070 - lr: 0.0010\n",
            "Epoch 12/300\n",
            "61/61 [==============================] - 16s 266ms/step - loss: 0.9492 - accuracy: 0.6763 - val_loss: 1.0826 - val_accuracy: 0.6461 - lr: 0.0010\n",
            "Epoch 13/300\n",
            "61/61 [==============================] - 16s 256ms/step - loss: 0.8978 - accuracy: 0.6861 - val_loss: 1.0705 - val_accuracy: 0.6543 - lr: 0.0010\n",
            "Epoch 14/300\n",
            "61/61 [==============================] - 16s 265ms/step - loss: 0.8872 - accuracy: 0.7020 - val_loss: 1.1263 - val_accuracy: 0.6358 - lr: 0.0010\n",
            "Epoch 15/300\n",
            "61/61 [==============================] - 16s 255ms/step - loss: 0.8643 - accuracy: 0.6922 - val_loss: 1.1242 - val_accuracy: 0.6152 - lr: 0.0010\n",
            "Epoch 16/300\n",
            "61/61 [==============================] - 16s 256ms/step - loss: 0.8519 - accuracy: 0.7010 - val_loss: 1.1053 - val_accuracy: 0.6461 - lr: 0.0010\n",
            "Epoch 17/300\n",
            "61/61 [==============================] - 16s 256ms/step - loss: 0.8235 - accuracy: 0.7025 - val_loss: 1.1249 - val_accuracy: 0.6461 - lr: 0.0010\n",
            "Epoch 18/300\n",
            "61/61 [==============================] - 16s 260ms/step - loss: 0.8322 - accuracy: 0.6948 - val_loss: 1.0991 - val_accuracy: 0.6132 - lr: 0.0010\n",
            "Epoch 19/300\n",
            "61/61 [==============================] - 16s 267ms/step - loss: 0.8035 - accuracy: 0.7262 - val_loss: 1.1291 - val_accuracy: 0.6317 - lr: 0.0010\n",
            "Epoch 20/300\n",
            "61/61 [==============================] - 17s 286ms/step - loss: 0.7811 - accuracy: 0.7205 - val_loss: 1.1083 - val_accuracy: 0.6255 - lr: 0.0010\n",
            "Epoch 21/300\n",
            "61/61 [==============================] - 15s 254ms/step - loss: 0.7783 - accuracy: 0.7313 - val_loss: 1.0815 - val_accuracy: 0.6276 - lr: 0.0010\n",
            "Epoch 22/300\n",
            "61/61 [==============================] - 16s 257ms/step - loss: 0.7713 - accuracy: 0.7329 - val_loss: 1.1449 - val_accuracy: 0.6193 - lr: 0.0010\n",
            "Epoch 23/300\n",
            "61/61 [==============================] - 15s 253ms/step - loss: 0.7387 - accuracy: 0.7370 - val_loss: 1.1705 - val_accuracy: 0.6337 - lr: 0.0010\n",
            "Epoch 24/300\n",
            "61/61 [==============================] - 16s 257ms/step - loss: 0.7079 - accuracy: 0.7488 - val_loss: 1.1237 - val_accuracy: 0.6214 - lr: 0.0010\n",
            "Epoch 25/300\n",
            "61/61 [==============================] - 16s 258ms/step - loss: 0.6511 - accuracy: 0.7602 - val_loss: 1.1864 - val_accuracy: 0.6235 - lr: 0.0010\n",
            "Epoch 26/300\n",
            "61/61 [==============================] - 16s 262ms/step - loss: 0.6415 - accuracy: 0.7746 - val_loss: 1.1086 - val_accuracy: 0.6543 - lr: 0.0010\n",
            "Epoch 27/300\n",
            "61/61 [==============================] - 16s 259ms/step - loss: 0.6481 - accuracy: 0.7499 - val_loss: 1.1472 - val_accuracy: 0.6193 - lr: 0.0010\n",
            "Epoch 28/300\n",
            "61/61 [==============================] - 16s 258ms/step - loss: 0.6546 - accuracy: 0.7710 - val_loss: 1.2073 - val_accuracy: 0.6420 - lr: 0.0010\n",
            "Epoch 29/300\n",
            "61/61 [==============================] - 16s 262ms/step - loss: 0.6182 - accuracy: 0.7802 - val_loss: 1.2564 - val_accuracy: 0.6193 - lr: 0.0010\n",
            "Epoch 30/300\n",
            "61/61 [==============================] - 16s 259ms/step - loss: 0.5905 - accuracy: 0.7838 - val_loss: 1.3033 - val_accuracy: 0.6235 - lr: 0.0010\n",
            "Epoch 31/300\n",
            "61/61 [==============================] - 17s 286ms/step - loss: 0.5945 - accuracy: 0.7900 - val_loss: 1.2341 - val_accuracy: 0.6358 - lr: 0.0010\n",
            "Epoch 32/300\n",
            "61/61 [==============================] - 16s 255ms/step - loss: 0.5805 - accuracy: 0.7941 - val_loss: 1.2050 - val_accuracy: 0.6564 - lr: 0.0010\n",
            "Epoch 33/300\n",
            "61/61 [==============================] - 16s 255ms/step - loss: 0.5677 - accuracy: 0.8127 - val_loss: 1.3377 - val_accuracy: 0.6296 - lr: 0.0010\n",
            "Epoch 34/300\n",
            "61/61 [==============================] - 16s 261ms/step - loss: 0.5758 - accuracy: 0.7900 - val_loss: 1.2824 - val_accuracy: 0.6317 - lr: 0.0010\n",
            "Epoch 35/300\n",
            "61/61 [==============================] - 16s 259ms/step - loss: 0.4845 - accuracy: 0.8245 - val_loss: 1.3176 - val_accuracy: 0.6379 - lr: 0.0010\n",
            "Epoch 36/300\n",
            "61/61 [==============================] - 16s 256ms/step - loss: 0.5264 - accuracy: 0.8101 - val_loss: 1.3883 - val_accuracy: 0.6152 - lr: 0.0010\n",
            "Epoch 37/300\n",
            "61/61 [==============================] - 18s 296ms/step - loss: 0.5053 - accuracy: 0.8101 - val_loss: 1.4179 - val_accuracy: 0.6173 - lr: 0.0010\n",
            "Epoch 38/300\n",
            "61/61 [==============================] - 23s 376ms/step - loss: 0.4953 - accuracy: 0.8245 - val_loss: 1.4536 - val_accuracy: 0.6049 - lr: 0.0010\n",
            "Epoch 39/300\n",
            "61/61 [==============================] - 16s 255ms/step - loss: 0.4908 - accuracy: 0.8255 - val_loss: 1.3327 - val_accuracy: 0.6481 - lr: 0.0010\n",
            "Epoch 40/300\n",
            "61/61 [==============================] - 15s 252ms/step - loss: 0.5219 - accuracy: 0.8152 - val_loss: 1.3820 - val_accuracy: 0.6255 - lr: 0.0010\n",
            "Epoch 41/300\n",
            "61/61 [==============================] - 16s 254ms/step - loss: 0.4713 - accuracy: 0.8322 - val_loss: 1.3335 - val_accuracy: 0.6193 - lr: 0.0010\n",
            "Epoch 42/300\n",
            "61/61 [==============================] - 19s 305ms/step - loss: 0.4799 - accuracy: 0.8286 - val_loss: 1.3246 - val_accuracy: 0.6420 - lr: 0.0010\n",
            "Epoch 43/300\n",
            "61/61 [==============================] - 15s 254ms/step - loss: 0.4552 - accuracy: 0.8374 - val_loss: 1.3431 - val_accuracy: 0.6276 - lr: 0.0010\n",
            "Epoch 44/300\n",
            "61/61 [==============================] - 16s 256ms/step - loss: 0.4556 - accuracy: 0.8394 - val_loss: 1.3342 - val_accuracy: 0.6255 - lr: 0.0010\n",
            "Epoch 45/300\n",
            "61/61 [==============================] - 15s 253ms/step - loss: 0.3957 - accuracy: 0.8677 - val_loss: 1.3563 - val_accuracy: 0.6399 - lr: 0.0010\n",
            "Epoch 46/300\n",
            "61/61 [==============================] - 16s 255ms/step - loss: 0.3845 - accuracy: 0.8580 - val_loss: 1.5068 - val_accuracy: 0.6049 - lr: 0.0010\n",
            "Epoch 47/300\n",
            "61/61 [==============================] - 16s 255ms/step - loss: 0.4306 - accuracy: 0.8580 - val_loss: 1.4594 - val_accuracy: 0.6337 - lr: 0.0010\n",
            "Epoch 48/300\n",
            "61/61 [==============================] - 16s 257ms/step - loss: 0.3899 - accuracy: 0.8626 - val_loss: 1.4812 - val_accuracy: 0.6173 - lr: 0.0010\n",
            "Epoch 49/300\n",
            "61/61 [==============================] - 16s 259ms/step - loss: 0.4157 - accuracy: 0.8626 - val_loss: 1.3565 - val_accuracy: 0.6523 - lr: 0.0010\n",
            "Epoch 50/300\n",
            "61/61 [==============================] - 16s 254ms/step - loss: 0.3693 - accuracy: 0.8734 - val_loss: 1.4689 - val_accuracy: 0.6379 - lr: 0.0010\n",
            "Epoch 51/300\n",
            "61/61 [==============================] - 15s 252ms/step - loss: 0.3617 - accuracy: 0.8703 - val_loss: 1.4731 - val_accuracy: 0.6214 - lr: 0.0010\n",
            "Epoch 52/300\n",
            "61/61 [==============================] - 15s 254ms/step - loss: 0.3573 - accuracy: 0.8708 - val_loss: 1.4753 - val_accuracy: 0.6091 - lr: 0.0010\n",
            "Epoch 53/300\n",
            "61/61 [==============================] - 17s 283ms/step - loss: 0.3527 - accuracy: 0.8755 - val_loss: 1.5146 - val_accuracy: 0.6132 - lr: 0.0010\n",
            "Epoch 54/300\n",
            "61/61 [==============================] - 16s 258ms/step - loss: 0.3125 - accuracy: 0.8873 - val_loss: 1.6679 - val_accuracy: 0.6070 - lr: 0.0010\n",
            "Epoch 55/300\n",
            "61/61 [==============================] - 15s 252ms/step - loss: 0.3242 - accuracy: 0.8852 - val_loss: 1.5410 - val_accuracy: 0.6070 - lr: 0.0010\n",
            "Epoch 56/300\n",
            "61/61 [==============================] - 16s 255ms/step - loss: 0.3437 - accuracy: 0.8847 - val_loss: 1.5297 - val_accuracy: 0.6193 - lr: 0.0010\n",
            "Epoch 57/300\n",
            "61/61 [==============================] - 15s 252ms/step - loss: 0.3474 - accuracy: 0.8857 - val_loss: 1.5020 - val_accuracy: 0.6214 - lr: 0.0010\n",
            "Epoch 58/300\n",
            "61/61 [==============================] - 16s 256ms/step - loss: 0.3026 - accuracy: 0.8986 - val_loss: 1.6357 - val_accuracy: 0.6091 - lr: 0.0010\n",
            "Epoch 59/300\n",
            "61/61 [==============================] - 15s 253ms/step - loss: 0.3241 - accuracy: 0.8796 - val_loss: 1.5812 - val_accuracy: 0.6111 - lr: 0.0010\n",
            "Epoch 60/300\n",
            "61/61 [==============================] - 15s 254ms/step - loss: 0.2980 - accuracy: 0.8909 - val_loss: 1.6280 - val_accuracy: 0.6111 - lr: 0.0010\n",
            "Epoch 61/300\n",
            "61/61 [==============================] - 15s 254ms/step - loss: 0.3023 - accuracy: 0.8940 - val_loss: 1.6533 - val_accuracy: 0.6111 - lr: 0.0010\n",
            "Epoch 62/300\n",
            "61/61 [==============================] - 15s 251ms/step - loss: 0.3242 - accuracy: 0.8857 - val_loss: 1.6715 - val_accuracy: 0.6008 - lr: 0.0010\n",
            "Epoch 63/300\n",
            "61/61 [==============================] - 15s 251ms/step - loss: 0.2622 - accuracy: 0.9089 - val_loss: 1.7037 - val_accuracy: 0.6193 - lr: 5.0000e-04\n",
            "Epoch 64/300\n",
            "61/61 [==============================] - 17s 275ms/step - loss: 0.2227 - accuracy: 0.9269 - val_loss: 1.7230 - val_accuracy: 0.6132 - lr: 5.0000e-04\n",
            "Epoch 65/300\n",
            "61/61 [==============================] - 16s 257ms/step - loss: 0.2233 - accuracy: 0.9197 - val_loss: 1.7093 - val_accuracy: 0.6255 - lr: 5.0000e-04\n",
            "Epoch 66/300\n",
            "61/61 [==============================] - 16s 257ms/step - loss: 0.2274 - accuracy: 0.9130 - val_loss: 1.7351 - val_accuracy: 0.6235 - lr: 5.0000e-04\n",
            "Epoch 67/300\n",
            "61/61 [==============================] - 15s 252ms/step - loss: 0.1989 - accuracy: 0.9326 - val_loss: 1.8452 - val_accuracy: 0.6317 - lr: 5.0000e-04\n",
            "Epoch 68/300\n",
            "61/61 [==============================] - 15s 249ms/step - loss: 0.2020 - accuracy: 0.9269 - val_loss: 1.8445 - val_accuracy: 0.6193 - lr: 5.0000e-04\n",
            "Epoch 69/300\n",
            "61/61 [==============================] - 15s 253ms/step - loss: 0.1752 - accuracy: 0.9444 - val_loss: 2.0014 - val_accuracy: 0.6049 - lr: 5.0000e-04\n",
            "Epoch 70/300\n",
            "61/61 [==============================] - 16s 255ms/step - loss: 0.2102 - accuracy: 0.9274 - val_loss: 1.9424 - val_accuracy: 0.5905 - lr: 5.0000e-04\n",
            "Epoch 71/300\n",
            "61/61 [==============================] - 15s 253ms/step - loss: 0.1873 - accuracy: 0.9408 - val_loss: 1.8923 - val_accuracy: 0.6214 - lr: 5.0000e-04\n",
            "Epoch 72/300\n",
            "61/61 [==============================] - 15s 248ms/step - loss: 0.1691 - accuracy: 0.9480 - val_loss: 1.9131 - val_accuracy: 0.6132 - lr: 5.0000e-04\n",
            "Epoch 73/300\n",
            "61/61 [==============================] - 15s 251ms/step - loss: 0.1821 - accuracy: 0.9418 - val_loss: 1.8898 - val_accuracy: 0.6193 - lr: 5.0000e-04\n",
            "Epoch 74/300\n",
            "61/61 [==============================] - 15s 254ms/step - loss: 0.1624 - accuracy: 0.9470 - val_loss: 1.9039 - val_accuracy: 0.6214 - lr: 5.0000e-04\n",
            "Epoch 75/300\n",
            "61/61 [==============================] - 15s 253ms/step - loss: 0.1772 - accuracy: 0.9403 - val_loss: 1.8968 - val_accuracy: 0.6152 - lr: 5.0000e-04\n",
            "Epoch 76/300\n",
            "61/61 [==============================] - 17s 284ms/step - loss: 0.1655 - accuracy: 0.9470 - val_loss: 1.8583 - val_accuracy: 0.6173 - lr: 5.0000e-04\n",
            "Epoch 77/300\n",
            "61/61 [==============================] - 15s 249ms/step - loss: 0.1500 - accuracy: 0.9480 - val_loss: 1.9741 - val_accuracy: 0.6173 - lr: 5.0000e-04\n",
            "Epoch 78/300\n",
            "61/61 [==============================] - 15s 249ms/step - loss: 0.1632 - accuracy: 0.9434 - val_loss: 1.8158 - val_accuracy: 0.6235 - lr: 5.0000e-04\n",
            "Epoch 79/300\n",
            "61/61 [==============================] - 15s 248ms/step - loss: 0.1317 - accuracy: 0.9511 - val_loss: 1.8828 - val_accuracy: 0.6193 - lr: 5.0000e-04\n",
            "Epoch 80/300\n",
            "61/61 [==============================] - 16s 257ms/step - loss: 0.1322 - accuracy: 0.9506 - val_loss: 1.9780 - val_accuracy: 0.6193 - lr: 5.0000e-04\n",
            "Epoch 81/300\n",
            "61/61 [==============================] - 15s 251ms/step - loss: 0.1630 - accuracy: 0.9485 - val_loss: 1.9972 - val_accuracy: 0.6214 - lr: 5.0000e-04\n",
            "Epoch 82/300\n",
            "61/61 [==============================] - 15s 251ms/step - loss: 0.1607 - accuracy: 0.9470 - val_loss: 1.9911 - val_accuracy: 0.6235 - lr: 5.0000e-04\n",
            "Epoch 83/300\n",
            "61/61 [==============================] - 15s 249ms/step - loss: 0.1247 - accuracy: 0.9557 - val_loss: 2.0871 - val_accuracy: 0.6152 - lr: 5.0000e-04\n",
            "Epoch 84/300\n",
            "61/61 [==============================] - 16s 255ms/step - loss: 0.1123 - accuracy: 0.9593 - val_loss: 2.1344 - val_accuracy: 0.6214 - lr: 5.0000e-04\n",
            "Epoch 85/300\n",
            "61/61 [==============================] - 16s 255ms/step - loss: 0.1375 - accuracy: 0.9557 - val_loss: 2.1356 - val_accuracy: 0.6132 - lr: 5.0000e-04\n",
            "Epoch 86/300\n",
            "61/61 [==============================] - 15s 249ms/step - loss: 0.1514 - accuracy: 0.9521 - val_loss: 2.0928 - val_accuracy: 0.6296 - lr: 5.0000e-04\n",
            "Epoch 87/300\n",
            "61/61 [==============================] - 17s 279ms/step - loss: 0.1445 - accuracy: 0.9465 - val_loss: 2.1221 - val_accuracy: 0.5967 - lr: 5.0000e-04\n",
            "Epoch 88/300\n",
            "61/61 [==============================] - 15s 252ms/step - loss: 0.1540 - accuracy: 0.9454 - val_loss: 2.0298 - val_accuracy: 0.6440 - lr: 5.0000e-04\n",
            "Epoch 89/300\n",
            "61/61 [==============================] - 16s 255ms/step - loss: 0.1344 - accuracy: 0.9547 - val_loss: 2.0447 - val_accuracy: 0.6481 - lr: 5.0000e-04\n",
            "Epoch 90/300\n",
            "61/61 [==============================] - 16s 256ms/step - loss: 0.1312 - accuracy: 0.9593 - val_loss: 2.0242 - val_accuracy: 0.6440 - lr: 5.0000e-04\n",
            "Epoch 91/300\n",
            "61/61 [==============================] - 16s 259ms/step - loss: 0.1308 - accuracy: 0.9480 - val_loss: 2.0551 - val_accuracy: 0.6399 - lr: 5.0000e-04\n",
            "Epoch 92/300\n",
            "61/61 [==============================] - 16s 257ms/step - loss: 0.1342 - accuracy: 0.9542 - val_loss: 2.0846 - val_accuracy: 0.6111 - lr: 5.0000e-04\n",
            "Epoch 93/300\n",
            "61/61 [==============================] - 15s 252ms/step - loss: 0.1235 - accuracy: 0.9532 - val_loss: 2.0508 - val_accuracy: 0.6440 - lr: 2.5000e-04\n",
            "Epoch 94/300\n",
            "61/61 [==============================] - 15s 253ms/step - loss: 0.1146 - accuracy: 0.9609 - val_loss: 2.0648 - val_accuracy: 0.6358 - lr: 2.5000e-04\n",
            "Epoch 95/300\n",
            "61/61 [==============================] - 16s 258ms/step - loss: 0.0982 - accuracy: 0.9665 - val_loss: 2.0817 - val_accuracy: 0.6358 - lr: 2.5000e-04\n",
            "Epoch 96/300\n",
            "61/61 [==============================] - 16s 255ms/step - loss: 0.0956 - accuracy: 0.9645 - val_loss: 2.0698 - val_accuracy: 0.6276 - lr: 2.5000e-04\n",
            "Epoch 97/300\n",
            "61/61 [==============================] - 16s 266ms/step - loss: 0.0898 - accuracy: 0.9717 - val_loss: 2.1106 - val_accuracy: 0.6296 - lr: 2.5000e-04\n",
            "Epoch 98/300\n",
            "61/61 [==============================] - 17s 267ms/step - loss: 0.1020 - accuracy: 0.9645 - val_loss: 2.0909 - val_accuracy: 0.6276 - lr: 2.5000e-04\n",
            "Epoch 99/300\n",
            "61/61 [==============================] - 16s 258ms/step - loss: 0.0789 - accuracy: 0.9696 - val_loss: 2.0876 - val_accuracy: 0.6317 - lr: 2.5000e-04\n",
            "Epoch 100/300\n",
            "61/61 [==============================] - 16s 259ms/step - loss: 0.1128 - accuracy: 0.9599 - val_loss: 2.1784 - val_accuracy: 0.6276 - lr: 2.5000e-04\n",
            "Epoch 101/300\n",
            "61/61 [==============================] - 16s 257ms/step - loss: 0.0911 - accuracy: 0.9732 - val_loss: 2.1659 - val_accuracy: 0.6296 - lr: 2.5000e-04\n",
            "Epoch 102/300\n",
            "61/61 [==============================] - 16s 264ms/step - loss: 0.0882 - accuracy: 0.9686 - val_loss: 2.1831 - val_accuracy: 0.6276 - lr: 2.5000e-04\n"
          ]
        }
      ]
    },
    {
      "cell_type": "markdown",
      "source": [
        "#####Train with Class Weights"
      ],
      "metadata": {
        "id": "Pu2ANl0OhIXo"
      }
    },
    {
      "cell_type": "code",
      "source": [
        "weights = {i : cws[i] for i in range(12)}"
      ],
      "metadata": {
        "id": "86UUOryeICkO"
      },
      "execution_count": null,
      "outputs": []
    },
    {
      "cell_type": "code",
      "source": [
        "#lower weights\n",
        "for i in range(12):\n",
        "  weights[i]=1\n",
        "  if(i!=2 and i!= 3 and i!= 6 and i!=9):\n",
        "    weights[i]=2\n"
      ],
      "metadata": {
        "id": "q532599PnVS3"
      },
      "execution_count": null,
      "outputs": []
    },
    {
      "cell_type": "code",
      "source": [
        "weights"
      ],
      "metadata": {
        "colab": {
          "base_uri": "https://localhost:8080/"
        },
        "id": "0apVU0Lin8cg",
        "outputId": "b3fb1254-1637-44a0-cbeb-65f2ab820d7f"
      },
      "execution_count": null,
      "outputs": [
        {
          "output_type": "execute_result",
          "data": {
            "text/plain": [
              "{0: 2, 1: 2, 2: 1, 3: 1, 4: 2, 5: 2, 6: 1, 7: 2, 8: 2, 9: 1, 10: 2, 11: 2}"
            ]
          },
          "metadata": {},
          "execution_count": 100
        }
      ]
    },
    {
      "cell_type": "code",
      "source": [
        "# Train the model\n",
        "history = model.fit(\n",
        "    x = X_train,\n",
        "    y = y_train,\n",
        "    batch_size = batch_size,\n",
        "    epochs = 300,\n",
        "    validation_data = (X_val,y_val),\n",
        "    class_weight = weights,\n",
        "    callbacks = [\n",
        "        tfk.callbacks.EarlyStopping(monitor='val_accuracy', mode='max', patience=50, restore_best_weights=True),\n",
        "        tfk.callbacks.ReduceLROnPlateau(monitor='val_accuracy', mode='max', patience=20, factor=0.5, min_lr=1e-4)\n",
        "    ]\n",
        ").history"
      ],
      "metadata": {
        "id": "RQZBin2AGg04"
      },
      "execution_count": null,
      "outputs": []
    },
    {
      "cell_type": "markdown",
      "source": [
        "#####Train with Data Augmentation/ \"synthetic data from noise\" (it's more like jittering)"
      ],
      "metadata": {
        "id": "tUES5nhFyz7k"
      }
    },
    {
      "cell_type": "markdown",
      "source": [
        "######Data Augmentation"
      ],
      "metadata": {
        "id": "EQQJqURlHqHK"
      }
    },
    {
      "cell_type": "code",
      "source": [
        "def window_slice(x, reduce_ratio=0.9):\n",
        "    target_len = np.ceil(reduce_ratio*x.shape[1]).astype(int)\n",
        "    if target_len >= x.shape[1]:\n",
        "        return x\n",
        "    starts = np.random.randint(low=0, high=x.shape[1]-target_len, size=(x.shape[0])).astype(int)\n",
        "    ends = (target_len + starts).astype(int)\n",
        "    \n",
        "    ret = np.zeros_like(x)\n",
        "    for i, pat in enumerate(x):\n",
        "        for dim in range(x.shape[2]):\n",
        "            ret[i,:,dim] = np.interp(np.linspace(0, target_len, num=x.shape[1]), np.arange(target_len), pat[starts[i]:ends[i],dim]).T\n",
        "    return ret\n",
        "\n",
        "def magnitude_warp(x, sigma=0.2, knot=3):\n",
        "    from scipy.interpolate import CubicSpline\n",
        "    orig_steps = np.arange(x.shape[1])\n",
        "    \n",
        "    random_warps = np.random.normal(loc=1.0, scale=sigma, size=(x.shape[0], knot+2, x.shape[2]))\n",
        "    warp_steps = (np.ones((x.shape[2],1))*(np.linspace(0, x.shape[1]-1., num=knot+2))).T\n",
        "    ret = np.zeros_like(x)\n",
        "    for i, pat in enumerate(x):\n",
        "        warper = np.array([CubicSpline(warp_steps[:,dim], random_warps[i,:,dim])(orig_steps) for dim in range(x.shape[2])]).T\n",
        "        ret[i] = pat * warper\n",
        "\n",
        "    return ret\n",
        "\n",
        "def window_warp(x, window_ratio=0.1, scales=[0.5, 2.]):\n",
        "    warp_scales = np.random.choice(scales, x.shape[0])\n",
        "    warp_size = np.ceil(window_ratio*x.shape[1]).astype(int)\n",
        "    window_steps = np.arange(warp_size)\n",
        "        \n",
        "    window_starts = np.random.randint(low=1, high=x.shape[1]-warp_size-1, size=(x.shape[0])).astype(int)\n",
        "    window_ends = (window_starts + warp_size).astype(int)\n",
        "            \n",
        "    ret = np.zeros_like(x)\n",
        "    for i, pat in enumerate(x):\n",
        "        for dim in range(x.shape[2]):\n",
        "            start_seg = pat[:window_starts[i],dim]\n",
        "            window_seg = np.interp(np.linspace(0, warp_size-1, num=int(warp_size*warp_scales[i])), window_steps, pat[window_starts[i]:window_ends[i],dim])\n",
        "            end_seg = pat[window_ends[i]:,dim]\n",
        "            warped = np.concatenate((start_seg, window_seg, end_seg))                \n",
        "            ret[i,:,dim] = np.interp(np.arange(x.shape[1]), np.linspace(0, x.shape[1]-1., num=warped.size), warped).T\n",
        "    return ret\n",
        "\n",
        "def time_warp(x, sigma=0.1, knot=1):\n",
        "    from scipy.interpolate import CubicSpline\n",
        "    orig_steps = np.arange(x.shape[1])\n",
        "    \n",
        "    random_warps = np.random.normal(loc=1.0, scale=sigma, size=(x.shape[0], knot+2, x.shape[2]))\n",
        "    warp_steps = (np.ones((x.shape[2],1))*(np.linspace(0, x.shape[1]-1., num=knot+2))).T\n",
        "    \n",
        "    ret = np.zeros_like(x)\n",
        "    for i, pat in enumerate(x):\n",
        "        for dim in range(x.shape[2]):\n",
        "            time_warp = CubicSpline(warp_steps[:,dim], warp_steps[:,dim] * random_warps[i,:,dim])(orig_steps)\n",
        "            scale = (x.shape[1]-1)/time_warp[-1]\n",
        "            ret[i,:,dim] = np.interp(orig_steps, np.clip(scale*time_warp, 0, x.shape[1]-1), pat[:,dim]).T\n",
        "    return ret\n",
        "\n",
        "def scaling(x, sigma=0.1):\n",
        "    factor = np.random.normal(loc=1., scale=sigma, size=(x.shape[0],x.shape[2]))\n",
        "    return np.multiply(x, factor[:,np.newaxis,:])\n",
        "\n",
        "def jitter(x, sigma=1):\n",
        "    return x + np.random.normal(loc=0., scale=sigma, size=x.shape)"
      ],
      "metadata": {
        "id": "hyVEMcLKy3xK"
      },
      "execution_count": null,
      "outputs": []
    },
    {
      "cell_type": "code",
      "source": [
        "def select_random_transformations(x, prob = 0.7):\n",
        "    if(np.random.binomial(1, prob, size=None)==1):\n",
        "        x = scaling(x)\n",
        "    if(np.random.binomial(1, prob, size=None)==1):\n",
        "        x = time_warp(x)\n",
        "    if(np.random.binomial(1, prob, size=None)==1):\n",
        "        x = magnitude_warp(x)\n",
        "\n",
        "    return x    "
      ],
      "metadata": {
        "id": "TWdX4Lsb-u-_"
      },
      "execution_count": null,
      "outputs": []
    },
    {
      "cell_type": "code",
      "source": [
        "X_train2, X_val2, y_train2, y_val2 = train_test_split(X, y, test_size=0.15, random_state=seed+1)\n",
        "\n",
        "x_aug1 = X_train2.copy()\n",
        "y_aug1 = y_train2.copy()"
      ],
      "metadata": {
        "id": "RNEDi_Fi_IAO"
      },
      "execution_count": null,
      "outputs": []
    },
    {
      "cell_type": "code",
      "source": [
        "#Create new data for training to augment the worst classes (proportional to class weigths)\n",
        "for i in range(12):\n",
        "    \n",
        "    #if i==4 or i==5 or i ==7:\n",
        "    #if i!=9:\n",
        "\n",
        "        #consider the class i samples and make j times new augmented data\n",
        "        x_temp = X_train2[np.where(y_train2==i)[0],:,:]\n",
        "\n",
        "        for j in range(int(cws[i])):\n",
        "            x_temp = select_random_transformations(x_temp)\n",
        "            \n",
        "\n",
        "            x_aug1 = np.append(x_aug1, x_temp, axis=0)\n",
        "            #append the labels of the class i\n",
        "            y_aug1 = np.append(y_aug1,np.array([[i] for k in range(len(x_temp[:,0,0]))]))"
      ],
      "metadata": {
        "id": "oPm7qEsA_MpG"
      },
      "execution_count": null,
      "outputs": []
    },
    {
      "cell_type": "code",
      "source": [
        "# Convert the sparse labels to categorical values\n",
        "y_val2 = tfk.utils.to_categorical(y_val2)\n",
        "y_aug1 = tfk.utils.to_categorical(y_aug1)"
      ],
      "metadata": {
        "id": "9KJdGU-u-EBC"
      },
      "execution_count": null,
      "outputs": []
    },
    {
      "cell_type": "markdown",
      "source": [
        "######Synthetic dataset"
      ],
      "metadata": {
        "id": "blKziPcZ34EK"
      }
    },
    {
      "cell_type": "code",
      "source": [
        "def create_from_noise(x):\n",
        "    \n",
        "    new_x = x.copy()\n",
        "\n",
        "    for i in range(6):\n",
        "        for j in range(len(x[:,0,0])):\n",
        "            mean = x[j,:,i].mean()\n",
        "            std = x[j,:,i].std()\n",
        "            noise = x[j,:,i] - mean - std\n",
        "            noise_mean = noise.mean()\n",
        "            new_x[j,:,i] = x[j,:,i] + 0.2*np.random.normal(loc=0, scale=abs(noise_mean), size=x[j,:,i].shape) \n",
        "\n",
        "    return new_x"
      ],
      "metadata": {
        "id": "np6IecLPgOzP"
      },
      "execution_count": null,
      "outputs": []
    },
    {
      "cell_type": "code",
      "source": [
        "fig, ax = plt.subplots(nrows=3,ncols=2)\n",
        "i = 0\n",
        "for row in ax:\n",
        "    for col in row:\n",
        "        col.plot(X[2000,:,i])\n",
        "        col.plot(create_from_noise(X)[2000,:,i])\n",
        "        i+=1\n"
      ],
      "metadata": {
        "colab": {
          "base_uri": "https://localhost:8080/",
          "height": 270
        },
        "id": "EmjRknFyhQN3",
        "outputId": "584ed4f4-3dff-4fa7-8994-df3a6620e0c8"
      },
      "execution_count": null,
      "outputs": [
        {
          "output_type": "display_data",
          "data": {
            "text/plain": [
              "<Figure size 432x288 with 6 Axes>"
            ],
            "image/png": "[encoded data removed]"
          },
          "metadata": {
            "needs_background": "light"
          }
        }
      ]
    },
    {
      "cell_type": "code",
      "source": [
        "x_aug = X.copy()\n",
        "y_aug = y.copy()"
      ],
      "metadata": {
        "id": "dcJFFaip3PCb"
      },
      "execution_count": null,
      "outputs": []
    },
    {
      "cell_type": "code",
      "source": [
        "x_aug, X_val_aug, y_aug, y_val_aug = train_test_split(x_aug, y_aug, test_size=0.2, random_state=seed)"
      ],
      "metadata": {
        "id": "TMpoXP5J6yvC"
      },
      "execution_count": null,
      "outputs": []
    },
    {
      "cell_type": "code",
      "source": [
        "#Create new data from noise for training and validation (since the are very few samples for some classes)\n",
        "for i in range(12):\n",
        "    \n",
        "    if i==0 or i==4 or i==11:\n",
        "    #if i!=9 and i!=2 and i!=3 and i!=6 :\n",
        "\n",
        "        #consider the class i samples and make j times new augmented data\n",
        "        x_temp = x_aug[np.where(y_aug==i)[0],:,:]\n",
        "\n",
        "        for j in range(1):\n",
        "            x_temp = create_from_noise(x_temp)\n",
        "            \n",
        "\n",
        "            x_aug = np.append(x_aug, x_temp, axis=0)\n",
        "            #append the labels of the class i\n",
        "            y_aug = np.append(y_aug,np.array([[i] for k in range(len(x_temp[:,0,0]))]))"
      ],
      "metadata": {
        "id": "eMxCjHa8IUG7"
      },
      "execution_count": null,
      "outputs": []
    },
    {
      "cell_type": "code",
      "source": [
        "x_aug.shape,y_aug.shape"
      ],
      "metadata": {
        "colab": {
          "base_uri": "https://localhost:8080/"
        },
        "id": "qFAg0q9d_equ",
        "outputId": "503ae84f-c3af-4cbd-e6e2-7e88d0ea37bb"
      },
      "execution_count": null,
      "outputs": [
        {
          "output_type": "execute_result",
          "data": {
            "text/plain": [
              "((2068, 36, 6), (2068,))"
            ]
          },
          "metadata": {},
          "execution_count": 29
        }
      ]
    },
    {
      "cell_type": "code",
      "source": [
        "sns.countplot(y_aug)"
      ],
      "metadata": {
        "id": "eyfJ02os_ttd",
        "colab": {
          "base_uri": "https://localhost:8080/",
          "height": 345
        },
        "outputId": "0738bea9-1c32-4cbc-fc53-6284dd98dca2"
      },
      "execution_count": null,
      "outputs": [
        {
          "output_type": "stream",
          "name": "stderr",
          "text": [
            "/usr/local/lib/python3.8/dist-packages/seaborn/_decorators.py:36: FutureWarning: Pass the following variable as a keyword arg: x. From version 0.12, the only valid positional argument will be `data`, and passing other arguments without an explicit keyword will result in an error or misinterpretation.\n",
            "  warnings.warn(\n"
          ]
        },
        {
          "output_type": "execute_result",
          "data": {
            "text/plain": [
              "<matplotlib.axes._subplots.AxesSubplot at 0x7fc4356232e0>"
            ]
          },
          "metadata": {},
          "execution_count": 454
        },
        {
          "output_type": "display_data",
          "data": {
            "text/plain": [
              "<Figure size 432x288 with 1 Axes>"
            ],
            "image/png": "[encoded data removed]"
          },
          "metadata": {
            "needs_background": "light"
          }
        }
      ]
    },
    {
      "cell_type": "code",
      "source": [
        "# Convert the sparse labels to categorical values\n",
        "y_aug = tfk.utils.to_categorical(y_aug)\n",
        "y_val_aug = tfk.utils.to_categorical(y_val_aug)"
      ],
      "metadata": {
        "id": "LHUtk2rVA7qm"
      },
      "execution_count": null,
      "outputs": []
    },
    {
      "cell_type": "code",
      "source": [
        "# Train the model\n",
        "history = model.fit(\n",
        "    x = x_aug,\n",
        "    y = y_aug,\n",
        "    batch_size = batch_size,\n",
        "    epochs = 300,\n",
        "    validation_data = (X_val_aug, y_val_aug),\n",
        "    callbacks = [\n",
        "        tfk.callbacks.EarlyStopping(monitor='val_accuracy', mode='max', patience=50, restore_best_weights=True),\n",
        "        tfk.callbacks.ReduceLROnPlateau(monitor='val_accuracy', mode='max', patience=20, factor=0.5, min_lr=1e-4)\n",
        "    ]\n",
        ").history"
      ],
      "metadata": {
        "id": "ppd8Y2rt_3DO"
      },
      "execution_count": null,
      "outputs": []
    },
    {
      "cell_type": "code",
      "source": [
        "# Compute the confusion matrix on the validation set\n",
        "predictions = model.predict(X_val_aug)\n",
        "cm = confusion_matrix(np.argmax(y_val_aug, axis=-1), np.argmax(predictions, axis=-1))\n",
        "\n",
        "# Compute the classification metrics\n",
        "accuracy = accuracy_score(np.argmax(y_val_aug, axis=-1), np.argmax(predictions, axis=-1))\n",
        "precision = precision_score(np.argmax(y_val_aug, axis=-1), np.argmax(predictions, axis=-1), average='macro')\n",
        "recall = recall_score(np.argmax(y_val_aug, axis=-1), np.argmax(predictions, axis=-1), average='macro')\n",
        "f1 = f1_score(np.argmax(y_val_aug, axis=-1), np.argmax(predictions, axis=-1), average='macro')\n",
        "print('Accuracy:',accuracy.round(4))\n",
        "print('Precision:',precision.round(4))\n",
        "print('Recall:',recall.round(4))\n",
        "print('F1:',f1.round(4))\n",
        "\n",
        "# Plot the confusion matrix\n",
        "plt.figure(figsize=(10,8))\n",
        "sns.heatmap(cm.T, cmap='Blues', xticklabels=list(label_mapping.values()), yticklabels=list(label_mapping.values()))\n",
        "plt.xlabel('True labels')\n",
        "plt.ylabel('Predicted labels')\n",
        "plt.show()"
      ],
      "metadata": {
        "colab": {
          "base_uri": "https://localhost:8080/",
          "height": 678
        },
        "id": "WGXHrZSd4v7h",
        "outputId": "bf5b7b8c-28cb-4ed9-d5ca-3551345d0193"
      },
      "execution_count": null,
      "outputs": [
        {
          "output_type": "stream",
          "name": "stdout",
          "text": [
            "19/19 [==============================] - 0s 6ms/step\n",
            "Accuracy: 0.7171\n",
            "Precision: 0.6975\n",
            "Recall: 0.6268\n",
            "F1: 0.6479\n"
          ]
        },
        {
          "output_type": "display_data",
          "data": {
            "text/plain": [
              "<Figure size 720x576 with 2 Axes>"
            ],
            "image/png": "[encoded data removed]"
          },
          "metadata": {
            "needs_background": "light"
          }
        }
      ]
    },
    {
      "cell_type": "code",
      "source": [
        "# model.save(\"cnn_synth_7265\")"
      ],
      "metadata": {
        "colab": {
          "base_uri": "https://localhost:8080/"
        },
        "id": "2MnVP7M_8un5",
        "outputId": "6c3eb4aa-8873-4aa6-df32-3900aaa9eec3"
      },
      "execution_count": null,
      "outputs": [
        {
          "output_type": "stream",
          "name": "stderr",
          "text": [
            "WARNING:absl:Function `_wrapped_model` contains input name(s) Input with unsupported characters which will be renamed to input in the SavedModel.\n",
            "WARNING:absl:Found untraced functions such as _jit_compiled_convolution_op, _jit_compiled_convolution_op while saving (showing 2 of 2). These functions will not be directly callable after loading.\n"
          ]
        }
      ]
    },
    {
      "cell_type": "code",
      "source": [
        "# model.save(\"CNN3_data_augm_13_12\")"
      ],
      "metadata": {
        "colab": {
          "base_uri": "https://localhost:8080/"
        },
        "id": "hx8zr1xMLDd-",
        "outputId": "2693b2dc-7890-4184-ca48-bb54da765e3f"
      },
      "execution_count": null,
      "outputs": [
        {
          "output_type": "stream",
          "name": "stderr",
          "text": [
            "WARNING:absl:Function `_wrapped_model` contains input name(s) Input with unsupported characters which will be renamed to input in the SavedModel.\n",
            "WARNING:absl:Found untraced functions such as _jit_compiled_convolution_op, _jit_compiled_convolution_op, _jit_compiled_convolution_op while saving (showing 3 of 3). These functions will not be directly callable after loading.\n"
          ]
        }
      ]
    },
    {
      "cell_type": "markdown",
      "source": [
        "####History and Confusion Matrix"
      ],
      "metadata": {
        "id": "ewHt33KshDl4"
      }
    },
    {
      "cell_type": "code",
      "source": [
        "best_epoch = np.argmax(history['val_accuracy'])\n",
        "plt.figure(figsize=(17,4))\n",
        "plt.plot(history['loss'], label='Training loss', alpha=.8, color='#ff7f0e')\n",
        "plt.plot(history['val_loss'], label='Validation loss', alpha=.9, color='#5a9aa5')\n",
        "plt.axvline(x=best_epoch, label='Best epoch', alpha=.3, ls='--', color='#5a9aa5')\n",
        "plt.title('Categorical Crossentropy')\n",
        "plt.legend()\n",
        "plt.grid(alpha=.3)\n",
        "plt.show()\n",
        "\n",
        "plt.figure(figsize=(17,4))\n",
        "plt.plot(history['accuracy'], label='Training accuracy', alpha=.8, color='#ff7f0e')\n",
        "plt.plot(history['val_accuracy'], label='Validation accuracy', alpha=.9, color='#5a9aa5')\n",
        "plt.axvline(x=best_epoch, label='Best epoch', alpha=.3, ls='--', color='#5a9aa5')\n",
        "plt.title('Accuracy')\n",
        "plt.legend()\n",
        "plt.grid(alpha=.3)\n",
        "plt.show()\n",
        "\n",
        "plt.figure(figsize=(18,3))\n",
        "plt.plot(history['lr'], label='Learning Rate', alpha=.8, color='#ff7f0e')\n",
        "plt.axvline(x=best_epoch, label='Best epoch', alpha=.3, ls='--', color='#5a9aa5')\n",
        "plt.legend()\n",
        "plt.grid(alpha=.3)\n",
        "plt.show()"
      ],
      "metadata": {
        "id": "aLaz_8yttSjB"
      },
      "execution_count": null,
      "outputs": []
    },
    {
      "cell_type": "code",
      "source": [
        "# Predict the val set with the BiLSTM\n",
        "predictions = model.predict(X_val)"
      ],
      "metadata": {
        "colab": {
          "base_uri": "https://localhost:8080/"
        },
        "id": "MA-u5LnQvA7p",
        "outputId": "387e90f5-6324-443e-d624-d716a870871f"
      },
      "execution_count": null,
      "outputs": [
        {
          "output_type": "stream",
          "name": "stdout",
          "text": [
            "16/16 [==============================] - 1s 21ms/step\n"
          ]
        }
      ]
    },
    {
      "cell_type": "code",
      "source": [
        "# Map activities to integers\n",
        "label_mapping = {\n",
        "0: \"Wish\",\n",
        "1: \"Another\",\n",
        "2: \"Comfortably\",\n",
        "3: \"Money\",\n",
        "4: \"Breathe\",\n",
        "5: \"Time\",\n",
        "6: \"Brain\",\n",
        "7: \"Echoes\",\n",
        "8: \"Wearing\",\n",
        "9: \"Sorrow\",\n",
        "10: \"Hey\",\n",
        "11: \"Shine\"}"
      ],
      "metadata": {
        "id": "72sbM40EvN2Q"
      },
      "execution_count": null,
      "outputs": []
    },
    {
      "cell_type": "code",
      "source": [
        "# Compute the confusion matrix on the validation set\n",
        "cm = confusion_matrix(np.argmax(y_val, axis=-1), np.argmax(predictions, axis=-1))\n",
        "\n",
        "# Compute the classification metrics\n",
        "accuracy = accuracy_score(np.argmax(y_val, axis=-1), np.argmax(predictions, axis=-1))\n",
        "precision = precision_score(np.argmax(y_val, axis=-1), np.argmax(predictions, axis=-1), average='macro')\n",
        "recall = recall_score(np.argmax(y_val, axis=-1), np.argmax(predictions, axis=-1), average='macro')\n",
        "f1 = f1_score(np.argmax(y_val, axis=-1), np.argmax(predictions, axis=-1), average='macro')\n",
        "print('Accuracy:',accuracy.round(4))\n",
        "print('Precision:',precision.round(4))\n",
        "print('Recall:',recall.round(4))\n",
        "print('F1:',f1.round(4))\n",
        "\n",
        "# Plot the confusion matrix\n",
        "plt.figure(figsize=(10,8))\n",
        "sns.heatmap(cm.T, cmap='Blues', xticklabels=list(label_mapping.values()), yticklabels=list(label_mapping.values()))\n",
        "plt.xlabel('True labels')\n",
        "plt.ylabel('Predicted labels')\n",
        "plt.show()"
      ],
      "metadata": {
        "colab": {
          "base_uri": "https://localhost:8080/",
          "height": 660
        },
        "id": "YiyiLYfRdIDY",
        "outputId": "e66c66f4-314d-4aa6-ccfb-8831d0f049e4"
      },
      "execution_count": null,
      "outputs": [
        {
          "output_type": "stream",
          "name": "stdout",
          "text": [
            "Accuracy: 0.7305\n",
            "Precision: 0.695\n",
            "Recall: 0.603\n",
            "F1: 0.6342\n"
          ]
        },
        {
          "output_type": "display_data",
          "data": {
            "text/plain": [
              "<Figure size 720x576 with 2 Axes>"
            ],
            "image/png": "[encoded data removed]"
          },
          "metadata": {
            "needs_background": "light"
          }
        }
      ]
    },
    {
      "cell_type": "code",
      "source": [
        "# Compute the confusion matrix on the validation set\n",
        "cm = confusion_matrix(np.argmax(y_val, axis=-1), np.argmax(predictions, axis=-1))\n",
        "\n",
        "# Compute the classification metrics\n",
        "accuracy = accuracy_score(np.argmax(y_val, axis=-1), np.argmax(predictions, axis=-1))\n",
        "precision = precision_score(np.argmax(y_val, axis=-1), np.argmax(predictions, axis=-1), average='macro')\n",
        "recall = recall_score(np.argmax(y_val, axis=-1), np.argmax(predictions, axis=-1), average='macro')\n",
        "f1 = f1_score(np.argmax(y_val, axis=-1), np.argmax(predictions, axis=-1), average='macro')\n",
        "print('Accuracy:',accuracy.round(4))\n",
        "print('Precision:',precision.round(4))\n",
        "print('Recall:',recall.round(4))\n",
        "print('F1:',f1.round(4))\n",
        "\n",
        "# Plot the confusion matrix\n",
        "plt.figure(figsize=(10,8))\n",
        "sns.heatmap(cm.T, cmap='Blues', xticklabels=list(label_mapping.values()), yticklabels=list(label_mapping.values()))\n",
        "plt.xlabel('True labels')\n",
        "plt.ylabel('Predicted labels')\n",
        "plt.show()"
      ],
      "metadata": {
        "colab": {
          "base_uri": "https://localhost:8080/",
          "height": 660
        },
        "id": "BwlJRaY3tiWz",
        "outputId": "559ba547-1281-4208-ccc4-e3e7e5378a27"
      },
      "execution_count": null,
      "outputs": [
        {
          "output_type": "stream",
          "name": "stdout",
          "text": [
            "Accuracy: 0.7449\n",
            "Precision: 0.7555\n",
            "Recall: 0.6735\n",
            "F1: 0.6961\n"
          ]
        },
        {
          "output_type": "display_data",
          "data": {
            "text/plain": [
              "<Figure size 720x576 with 2 Axes>"
            ],
            "image/png": "[encoded data removed]"
          },
          "metadata": {
            "needs_background": "light"
          }
        }
      ]
    },
    {
      "cell_type": "markdown",
      "source": [
        "####Break Sequences (not good)"
      ],
      "metadata": {
        "id": "rzP0v1i_ozYJ"
      }
    },
    {
      "cell_type": "code",
      "source": [
        "X = np.load(\"x_train.npy\")\n",
        "y = np.load(\"y_train.npy\")\n",
        "print(X.shape,y.shape)"
      ],
      "metadata": {
        "colab": {
          "base_uri": "https://localhost:8080/"
        },
        "id": "b78EIToEzv7k",
        "outputId": "9fa79096-b168-4f44-b185-fbaec459c759"
      },
      "execution_count": null,
      "outputs": [
        {
          "output_type": "stream",
          "name": "stdout",
          "text": [
            "(2429, 36, 6) (2429,)\n"
          ]
        }
      ]
    },
    {
      "cell_type": "code",
      "source": [
        "X_train_break, X_val_break, y_train_break, y_val_break = train_test_split(X, y, test_size=0.2, random_state=seed)"
      ],
      "metadata": {
        "id": "3HKdnEmpIYzS"
      },
      "execution_count": null,
      "outputs": []
    },
    {
      "cell_type": "code",
      "source": [
        "X_train_break.shape"
      ],
      "metadata": {
        "colab": {
          "base_uri": "https://localhost:8080/"
        },
        "id": "q_YYBNVOIjfi",
        "outputId": "ae94c2ad-fa39-4dc5-c353-002d27a24a1a"
      },
      "execution_count": null,
      "outputs": [
        {
          "output_type": "execute_result",
          "data": {
            "text/plain": [
              "(1943, 36, 6)"
            ]
          },
          "metadata": {},
          "execution_count": 114
        }
      ]
    },
    {
      "cell_type": "code",
      "source": [
        "#Break sequences in half\n",
        "x_break = X_train_break.copy()\n",
        "y_break = y_train_break.copy()\n",
        "X_break = x_break[0,:18,:]\n",
        "X_break = np.append(X_break,x_break[0,18:,:],axis=0)\n",
        "X_break = X_break.reshape(2,18,6)\n",
        "Y_break = y_break[0]\n",
        "Y_break = np.append(Y_break,y_break[0])"
      ],
      "metadata": {
        "id": "IGiJXm6do9Jb"
      },
      "execution_count": null,
      "outputs": []
    },
    {
      "cell_type": "code",
      "source": [
        "X_break.shape,Y_break.shape"
      ],
      "metadata": {
        "colab": {
          "base_uri": "https://localhost:8080/"
        },
        "id": "1AhYJl-3yQYC",
        "outputId": "0889d0ae-124b-41a8-911c-97f7d3791a49"
      },
      "execution_count": null,
      "outputs": [
        {
          "output_type": "execute_result",
          "data": {
            "text/plain": [
              "((2, 18, 6), (2,))"
            ]
          },
          "metadata": {},
          "execution_count": 116
        }
      ]
    },
    {
      "cell_type": "code",
      "source": [
        "for i in range(len(x_break[:,0,0])-1):\n",
        "  i+=1\n",
        "  x_new = x_break[i,18:,:]\n",
        "  x_old = x_break[i,:18,:]\n",
        "  X_break = np.append(X_break,x_new)\n",
        "  Y_break = np.append(Y_break,y_break[i])\n",
        "  X_break = np.append(X_break,x_new)\n",
        "  Y_break = np.append(Y_break,y_break[i])"
      ],
      "metadata": {
        "id": "yiQMI_LLub_y"
      },
      "execution_count": null,
      "outputs": []
    },
    {
      "cell_type": "code",
      "source": [
        "X_break.shape"
      ],
      "metadata": {
        "colab": {
          "base_uri": "https://localhost:8080/"
        },
        "id": "ieL7tuW5xbGa",
        "outputId": "24b4692b-c130-40f8-9c88-42439057883d"
      },
      "execution_count": null,
      "outputs": [
        {
          "output_type": "execute_result",
          "data": {
            "text/plain": [
              "(419688,)"
            ]
          },
          "metadata": {},
          "execution_count": 118
        }
      ]
    },
    {
      "cell_type": "code",
      "source": [
        "X_break = X_break.reshape(1943*2,18,6)\n",
        "X_break.shape,Y_break.shape"
      ],
      "metadata": {
        "colab": {
          "base_uri": "https://localhost:8080/"
        },
        "id": "y54iXbDL0_Mz",
        "outputId": "cacaa2c9-8c4f-4d40-b3c2-204bc5723166"
      },
      "execution_count": null,
      "outputs": [
        {
          "output_type": "execute_result",
          "data": {
            "text/plain": [
              "((3886, 18, 6), (3886,))"
            ]
          },
          "metadata": {},
          "execution_count": 119
        }
      ]
    },
    {
      "cell_type": "code",
      "source": [
        "# Convert the sparse labels to categorical values\n",
        "Y_break = tfk.utils.to_categorical(Y_break)\n"
      ],
      "metadata": {
        "id": "j5q8xOz71R_z"
      },
      "execution_count": null,
      "outputs": []
    },
    {
      "cell_type": "code",
      "source": [
        "model = build_1DCNN_classifier((18,6), classes)\n",
        "model.summary()"
      ],
      "metadata": {
        "colab": {
          "base_uri": "https://localhost:8080/"
        },
        "id": "gn54P9l21upS",
        "outputId": "3a2d325f-760a-4eef-989c-ea4ac247b2cf"
      },
      "execution_count": null,
      "outputs": [
        {
          "output_type": "stream",
          "name": "stdout",
          "text": [
            "Model: \"model\"\n",
            "_________________________________________________________________\n",
            " Layer (type)                Output Shape              Param #   \n",
            "=================================================================\n",
            " Input (InputLayer)          [(None, 18, 6)]           0         \n",
            "                                                                 \n",
            " conv1d_17 (Conv1D)          (None, 18, 128)           2432      \n",
            "                                                                 \n",
            " average_pooling1d_5 (Averag  (None, 9, 128)           0         \n",
            " ePooling1D)                                                     \n",
            "                                                                 \n",
            " conv1d_18 (Conv1D)          (None, 9, 256)            98560     \n",
            "                                                                 \n",
            " global_average_pooling1d_8   (None, 256)              0         \n",
            " (GlobalAveragePooling1D)                                        \n",
            "                                                                 \n",
            " dropout_16 (Dropout)        (None, 256)               0         \n",
            "                                                                 \n",
            " dense_24 (Dense)            (None, 128)               32896     \n",
            "                                                                 \n",
            " dropout_17 (Dropout)        (None, 128)               0         \n",
            "                                                                 \n",
            " dense_25 (Dense)            (None, 128)               16512     \n",
            "                                                                 \n",
            " dense_26 (Dense)            (None, 12)                1548      \n",
            "                                                                 \n",
            "=================================================================\n",
            "Total params: 151,948\n",
            "Trainable params: 151,948\n",
            "Non-trainable params: 0\n",
            "_________________________________________________________________\n"
          ]
        }
      ]
    },
    {
      "cell_type": "code",
      "source": [
        "#Break sequences in half\n",
        "x_break = X_val_break.copy()\n",
        "y_break = y_val_break.copy()\n",
        "X_break_val = x_break[0,:18,:]\n",
        "X_break_val = np.append(X_break_val,x_break[0,18:,:],axis=0)\n",
        "X_break_val = X_break_val.reshape(2,18,6)\n",
        "Y_break_val = y_break[0]\n",
        "Y_break_val = np.append(Y_break_val,y_break[0])"
      ],
      "metadata": {
        "id": "8A8YdbojI7Ui"
      },
      "execution_count": null,
      "outputs": []
    },
    {
      "cell_type": "code",
      "source": [
        "for i in range(len(x_break[:,0,0])-1):\n",
        "  i+=1\n",
        "  x_new = x_break[i,18:,:]\n",
        "  x_old = x_break[i,:18,:]\n",
        "  X_break_val = np.append(X_break_val,x_new)\n",
        "  Y_break_val = np.append(Y_break_val,y_break[i])\n",
        "  X_break_val = np.append(X_break_val,x_new)\n",
        "  Y_break_val = np.append(Y_break_val,y_break[i])"
      ],
      "metadata": {
        "id": "lgH8QksqJH1p"
      },
      "execution_count": null,
      "outputs": []
    },
    {
      "cell_type": "code",
      "source": [
        "X_break_val = X_break_val.reshape(486*2,18,6)\n",
        "X_break_val.shape,Y_break_val.shape"
      ],
      "metadata": {
        "colab": {
          "base_uri": "https://localhost:8080/"
        },
        "id": "Emw_uX0oJKH6",
        "outputId": "6db20057-fefd-4b3f-e950-8292682a3311"
      },
      "execution_count": null,
      "outputs": [
        {
          "output_type": "execute_result",
          "data": {
            "text/plain": [
              "((972, 18, 6), (972,))"
            ]
          },
          "metadata": {},
          "execution_count": 124
        }
      ]
    },
    {
      "cell_type": "code",
      "source": [
        "Y_break_val = tfk.utils.to_categorical(Y_break_val)"
      ],
      "metadata": {
        "id": "q1WVv9dMKHyq"
      },
      "execution_count": null,
      "outputs": []
    },
    {
      "cell_type": "code",
      "source": [
        "# Train the model\n",
        "history = model.fit(\n",
        "    x = X_break,\n",
        "    y = Y_break,\n",
        "    batch_size = batch_size,\n",
        "    epochs = 300,\n",
        "    validation_data = (X_break_val,Y_break_val),\n",
        "    callbacks = [\n",
        "        tfk.callbacks.EarlyStopping(monitor='val_accuracy', mode='max', patience=40, restore_best_weights=True),\n",
        "        tfk.callbacks.ReduceLROnPlateau(monitor='val_accuracy', mode='max', patience=20, factor=0.5, min_lr=1e-4)\n",
        "    ]\n",
        ").history"
      ],
      "metadata": {
        "id": "TlcDgu2m1Zyz",
        "colab": {
          "base_uri": "https://localhost:8080/"
        },
        "outputId": "25048d90-9ecb-41f6-ce5f-31fe70d6a305"
      },
      "execution_count": null,
      "outputs": [
        {
          "output_type": "stream",
          "name": "stdout",
          "text": [
            "Epoch 1/300\n",
            "122/122 [==============================] - 5s 25ms/step - loss: 8.9096 - accuracy: 0.1969 - val_loss: 4.3942 - val_accuracy: 0.2469 - lr: 0.0010\n",
            "Epoch 2/300\n",
            "122/122 [==============================] - 2s 19ms/step - loss: 4.7142 - accuracy: 0.2856 - val_loss: 2.4996 - val_accuracy: 0.3580 - lr: 0.0010\n",
            "Epoch 3/300\n",
            "122/122 [==============================] - 2s 13ms/step - loss: 2.4763 - accuracy: 0.3603 - val_loss: 2.0626 - val_accuracy: 0.3786 - lr: 0.0010\n",
            "Epoch 4/300\n",
            "122/122 [==============================] - 1s 11ms/step - loss: 2.1025 - accuracy: 0.3847 - val_loss: 1.9128 - val_accuracy: 0.3971 - lr: 0.0010\n",
            "Epoch 5/300\n",
            "122/122 [==============================] - 1s 11ms/step - loss: 2.3305 - accuracy: 0.3824 - val_loss: 1.8964 - val_accuracy: 0.3827 - lr: 0.0010\n",
            "Epoch 6/300\n",
            "122/122 [==============================] - 1s 12ms/step - loss: 2.0152 - accuracy: 0.3881 - val_loss: 1.7958 - val_accuracy: 0.3951 - lr: 0.0010\n",
            "Epoch 7/300\n",
            "122/122 [==============================] - 1s 11ms/step - loss: 1.9436 - accuracy: 0.4081 - val_loss: 1.8275 - val_accuracy: 0.4012 - lr: 0.0010\n",
            "Epoch 8/300\n",
            "122/122 [==============================] - 1s 12ms/step - loss: 1.8732 - accuracy: 0.3984 - val_loss: 1.8417 - val_accuracy: 0.4012 - lr: 0.0010\n",
            "Epoch 9/300\n",
            "122/122 [==============================] - 1s 11ms/step - loss: 1.8164 - accuracy: 0.4308 - val_loss: 1.8772 - val_accuracy: 0.4342 - lr: 0.0010\n",
            "Epoch 10/300\n",
            "122/122 [==============================] - 1s 12ms/step - loss: 1.7600 - accuracy: 0.4436 - val_loss: 1.7171 - val_accuracy: 0.4300 - lr: 0.0010\n",
            "Epoch 11/300\n",
            "122/122 [==============================] - 1s 12ms/step - loss: 1.6821 - accuracy: 0.4629 - val_loss: 1.9776 - val_accuracy: 0.4321 - lr: 0.0010\n",
            "Epoch 12/300\n",
            "122/122 [==============================] - 1s 12ms/step - loss: 1.6677 - accuracy: 0.4658 - val_loss: 1.7613 - val_accuracy: 0.4321 - lr: 0.0010\n",
            "Epoch 13/300\n",
            "122/122 [==============================] - 1s 12ms/step - loss: 1.6470 - accuracy: 0.4768 - val_loss: 1.6258 - val_accuracy: 0.4424 - lr: 0.0010\n",
            "Epoch 14/300\n",
            "122/122 [==============================] - 1s 12ms/step - loss: 1.9234 - accuracy: 0.4575 - val_loss: 1.7859 - val_accuracy: 0.4588 - lr: 0.0010\n",
            "Epoch 15/300\n",
            "122/122 [==============================] - 1s 12ms/step - loss: 1.6823 - accuracy: 0.4784 - val_loss: 1.8488 - val_accuracy: 0.4321 - lr: 0.0010\n",
            "Epoch 16/300\n",
            "122/122 [==============================] - 1s 12ms/step - loss: 1.6777 - accuracy: 0.4820 - val_loss: 1.8251 - val_accuracy: 0.4568 - lr: 0.0010\n",
            "Epoch 17/300\n",
            "122/122 [==============================] - 1s 11ms/step - loss: 1.9735 - accuracy: 0.4707 - val_loss: 2.1519 - val_accuracy: 0.4527 - lr: 0.0010\n",
            "Epoch 18/300\n",
            "122/122 [==============================] - 1s 12ms/step - loss: 1.7461 - accuracy: 0.4655 - val_loss: 1.5827 - val_accuracy: 0.4650 - lr: 0.0010\n",
            "Epoch 19/300\n",
            "122/122 [==============================] - 1s 12ms/step - loss: 1.7491 - accuracy: 0.4763 - val_loss: 1.6627 - val_accuracy: 0.4835 - lr: 0.0010\n",
            "Epoch 20/300\n",
            "122/122 [==============================] - 1s 12ms/step - loss: 1.5614 - accuracy: 0.5095 - val_loss: 1.5512 - val_accuracy: 0.4979 - lr: 0.0010\n",
            "Epoch 21/300\n",
            "122/122 [==============================] - 1s 12ms/step - loss: 1.5084 - accuracy: 0.5134 - val_loss: 1.6804 - val_accuracy: 0.4753 - lr: 0.0010\n",
            "Epoch 22/300\n",
            "122/122 [==============================] - 1s 12ms/step - loss: 1.6776 - accuracy: 0.5126 - val_loss: 1.6879 - val_accuracy: 0.4671 - lr: 0.0010\n",
            "Epoch 23/300\n",
            "122/122 [==============================] - 1s 11ms/step - loss: 1.6572 - accuracy: 0.4902 - val_loss: 1.5156 - val_accuracy: 0.5021 - lr: 0.0010\n",
            "Epoch 24/300\n",
            "122/122 [==============================] - 1s 11ms/step - loss: 1.4037 - accuracy: 0.5347 - val_loss: 1.5804 - val_accuracy: 0.4979 - lr: 0.0010\n",
            "Epoch 25/300\n",
            "122/122 [==============================] - 1s 12ms/step - loss: 1.8422 - accuracy: 0.4925 - val_loss: 1.5376 - val_accuracy: 0.5041 - lr: 0.0010\n",
            "Epoch 26/300\n",
            "122/122 [==============================] - 1s 11ms/step - loss: 1.5153 - accuracy: 0.5211 - val_loss: 1.6709 - val_accuracy: 0.4897 - lr: 0.0010\n",
            "Epoch 27/300\n",
            "122/122 [==============================] - 1s 11ms/step - loss: 1.5976 - accuracy: 0.5234 - val_loss: 1.5170 - val_accuracy: 0.5082 - lr: 0.0010\n",
            "Epoch 28/300\n",
            "122/122 [==============================] - 1s 11ms/step - loss: 1.4111 - accuracy: 0.5386 - val_loss: 1.5776 - val_accuracy: 0.5082 - lr: 0.0010\n",
            "Epoch 29/300\n",
            "122/122 [==============================] - 1s 11ms/step - loss: 1.3508 - accuracy: 0.5471 - val_loss: 1.5266 - val_accuracy: 0.5175 - lr: 0.0010\n",
            "Epoch 30/300\n",
            "122/122 [==============================] - 1s 12ms/step - loss: 1.3126 - accuracy: 0.5656 - val_loss: 1.4479 - val_accuracy: 0.5267 - lr: 0.0010\n",
            "Epoch 31/300\n",
            "122/122 [==============================] - 1s 11ms/step - loss: 1.4630 - accuracy: 0.5561 - val_loss: 1.4491 - val_accuracy: 0.5123 - lr: 0.0010\n",
            "Epoch 32/300\n",
            "122/122 [==============================] - 1s 11ms/step - loss: 1.2417 - accuracy: 0.5787 - val_loss: 1.4688 - val_accuracy: 0.5144 - lr: 0.0010\n",
            "Epoch 33/300\n",
            "122/122 [==============================] - 1s 11ms/step - loss: 1.5490 - accuracy: 0.5510 - val_loss: 1.6309 - val_accuracy: 0.4918 - lr: 0.0010\n",
            "Epoch 34/300\n",
            "122/122 [==============================] - 1s 11ms/step - loss: 1.3044 - accuracy: 0.5630 - val_loss: 1.4222 - val_accuracy: 0.5309 - lr: 0.0010\n",
            "Epoch 35/300\n",
            "122/122 [==============================] - 1s 12ms/step - loss: 1.2683 - accuracy: 0.5708 - val_loss: 1.4158 - val_accuracy: 0.5247 - lr: 0.0010\n",
            "Epoch 36/300\n",
            "122/122 [==============================] - 1s 12ms/step - loss: 1.2685 - accuracy: 0.5718 - val_loss: 1.5755 - val_accuracy: 0.5288 - lr: 0.0010\n",
            "Epoch 37/300\n",
            "122/122 [==============================] - 1s 12ms/step - loss: 1.3153 - accuracy: 0.5731 - val_loss: 1.6182 - val_accuracy: 0.5144 - lr: 0.0010\n",
            "Epoch 38/300\n",
            "122/122 [==============================] - 1s 11ms/step - loss: 1.4418 - accuracy: 0.5762 - val_loss: 1.5805 - val_accuracy: 0.5185 - lr: 0.0010\n",
            "Epoch 39/300\n",
            "122/122 [==============================] - 1s 11ms/step - loss: 1.3062 - accuracy: 0.5697 - val_loss: 1.5320 - val_accuracy: 0.5082 - lr: 0.0010\n",
            "Epoch 40/300\n",
            "122/122 [==============================] - 1s 12ms/step - loss: 1.1879 - accuracy: 0.6022 - val_loss: 1.4432 - val_accuracy: 0.5247 - lr: 0.0010\n",
            "Epoch 41/300\n",
            "122/122 [==============================] - 1s 12ms/step - loss: 1.2515 - accuracy: 0.6004 - val_loss: 1.6862 - val_accuracy: 0.5329 - lr: 0.0010\n",
            "Epoch 42/300\n",
            "122/122 [==============================] - 1s 11ms/step - loss: 1.2203 - accuracy: 0.6109 - val_loss: 1.4645 - val_accuracy: 0.5309 - lr: 0.0010\n",
            "Epoch 43/300\n",
            "122/122 [==============================] - 1s 11ms/step - loss: 1.1712 - accuracy: 0.6073 - val_loss: 1.6039 - val_accuracy: 0.5226 - lr: 0.0010\n",
            "Epoch 44/300\n",
            "122/122 [==============================] - 1s 12ms/step - loss: 1.1132 - accuracy: 0.6212 - val_loss: 1.6412 - val_accuracy: 0.5329 - lr: 0.0010\n",
            "Epoch 45/300\n",
            "122/122 [==============================] - 1s 12ms/step - loss: 1.2101 - accuracy: 0.6143 - val_loss: 1.5517 - val_accuracy: 0.5453 - lr: 0.0010\n",
            "Epoch 46/300\n",
            "122/122 [==============================] - 1s 11ms/step - loss: 1.1235 - accuracy: 0.6253 - val_loss: 1.5281 - val_accuracy: 0.5267 - lr: 0.0010\n",
            "Epoch 47/300\n",
            "122/122 [==============================] - 1s 11ms/step - loss: 1.1557 - accuracy: 0.6297 - val_loss: 1.5740 - val_accuracy: 0.5247 - lr: 0.0010\n",
            "Epoch 48/300\n",
            "122/122 [==============================] - 1s 12ms/step - loss: 1.0877 - accuracy: 0.6343 - val_loss: 1.5583 - val_accuracy: 0.5329 - lr: 0.0010\n",
            "Epoch 49/300\n",
            "122/122 [==============================] - 1s 11ms/step - loss: 1.0515 - accuracy: 0.6446 - val_loss: 1.4892 - val_accuracy: 0.5412 - lr: 0.0010\n",
            "Epoch 50/300\n",
            "122/122 [==============================] - 1s 11ms/step - loss: 1.0425 - accuracy: 0.6536 - val_loss: 1.6102 - val_accuracy: 0.5473 - lr: 0.0010\n",
            "Epoch 51/300\n",
            "122/122 [==============================] - 1s 11ms/step - loss: 1.0099 - accuracy: 0.6549 - val_loss: 1.7158 - val_accuracy: 0.5658 - lr: 0.0010\n",
            "Epoch 52/300\n",
            "122/122 [==============================] - 1s 11ms/step - loss: 0.9763 - accuracy: 0.6704 - val_loss: 1.3974 - val_accuracy: 0.5494 - lr: 0.0010\n",
            "Epoch 53/300\n",
            "122/122 [==============================] - 1s 12ms/step - loss: 1.0966 - accuracy: 0.6454 - val_loss: 1.5745 - val_accuracy: 0.5329 - lr: 0.0010\n",
            "Epoch 54/300\n",
            "122/122 [==============================] - 1s 11ms/step - loss: 1.1878 - accuracy: 0.6454 - val_loss: 1.7429 - val_accuracy: 0.5082 - lr: 0.0010\n",
            "Epoch 55/300\n",
            "122/122 [==============================] - 1s 11ms/step - loss: 1.8920 - accuracy: 0.5566 - val_loss: 1.6648 - val_accuracy: 0.5103 - lr: 0.0010\n",
            "Epoch 56/300\n",
            "122/122 [==============================] - 1s 11ms/step - loss: 1.4758 - accuracy: 0.5772 - val_loss: 1.4710 - val_accuracy: 0.5165 - lr: 0.0010\n",
            "Epoch 57/300\n",
            "122/122 [==============================] - 1s 12ms/step - loss: 1.1242 - accuracy: 0.6207 - val_loss: 1.4346 - val_accuracy: 0.5473 - lr: 0.0010\n",
            "Epoch 58/300\n",
            "122/122 [==============================] - 1s 11ms/step - loss: 1.1972 - accuracy: 0.6336 - val_loss: 1.5286 - val_accuracy: 0.5370 - lr: 0.0010\n",
            "Epoch 59/300\n",
            "122/122 [==============================] - 1s 12ms/step - loss: 1.1734 - accuracy: 0.6359 - val_loss: 1.7817 - val_accuracy: 0.5309 - lr: 0.0010\n",
            "Epoch 60/300\n",
            "122/122 [==============================] - 1s 12ms/step - loss: 1.0030 - accuracy: 0.6547 - val_loss: 1.8045 - val_accuracy: 0.5432 - lr: 0.0010\n",
            "Epoch 61/300\n",
            "122/122 [==============================] - 1s 11ms/step - loss: 0.9517 - accuracy: 0.6812 - val_loss: 1.4373 - val_accuracy: 0.5453 - lr: 0.0010\n",
            "Epoch 62/300\n",
            "122/122 [==============================] - 1s 12ms/step - loss: 1.0236 - accuracy: 0.6678 - val_loss: 1.5374 - val_accuracy: 0.5350 - lr: 0.0010\n",
            "Epoch 63/300\n",
            "122/122 [==============================] - 1s 12ms/step - loss: 0.9580 - accuracy: 0.6858 - val_loss: 1.6009 - val_accuracy: 0.5329 - lr: 0.0010\n",
            "Epoch 64/300\n",
            "122/122 [==============================] - 1s 12ms/step - loss: 1.0406 - accuracy: 0.6601 - val_loss: 1.7990 - val_accuracy: 0.5267 - lr: 0.0010\n",
            "Epoch 65/300\n",
            "122/122 [==============================] - 1s 12ms/step - loss: 0.9775 - accuracy: 0.6843 - val_loss: 1.6978 - val_accuracy: 0.5329 - lr: 0.0010\n",
            "Epoch 66/300\n",
            "122/122 [==============================] - 1s 12ms/step - loss: 0.9586 - accuracy: 0.6812 - val_loss: 1.7473 - val_accuracy: 0.5288 - lr: 0.0010\n",
            "Epoch 67/300\n",
            "122/122 [==============================] - 1s 12ms/step - loss: 0.9852 - accuracy: 0.6801 - val_loss: 1.7033 - val_accuracy: 0.5288 - lr: 0.0010\n",
            "Epoch 68/300\n",
            "122/122 [==============================] - 1s 12ms/step - loss: 0.9437 - accuracy: 0.6920 - val_loss: 1.8475 - val_accuracy: 0.5257 - lr: 0.0010\n",
            "Epoch 69/300\n",
            "122/122 [==============================] - 2s 18ms/step - loss: 0.8764 - accuracy: 0.7023 - val_loss: 1.6758 - val_accuracy: 0.5370 - lr: 0.0010\n",
            "Epoch 70/300\n",
            "122/122 [==============================] - 2s 16ms/step - loss: 0.8806 - accuracy: 0.7090 - val_loss: 1.6839 - val_accuracy: 0.5370 - lr: 0.0010\n",
            "Epoch 71/300\n",
            "122/122 [==============================] - 1s 12ms/step - loss: 0.8397 - accuracy: 0.7221 - val_loss: 1.6842 - val_accuracy: 0.5576 - lr: 0.0010\n",
            "Epoch 72/300\n",
            "122/122 [==============================] - 1s 11ms/step - loss: 0.7793 - accuracy: 0.7308 - val_loss: 1.5570 - val_accuracy: 0.5453 - lr: 5.0000e-04\n",
            "Epoch 73/300\n",
            "122/122 [==============================] - 1s 12ms/step - loss: 0.7657 - accuracy: 0.7504 - val_loss: 1.6239 - val_accuracy: 0.5432 - lr: 5.0000e-04\n",
            "Epoch 74/300\n",
            "122/122 [==============================] - 1s 11ms/step - loss: 0.7490 - accuracy: 0.7517 - val_loss: 1.5633 - val_accuracy: 0.5473 - lr: 5.0000e-04\n",
            "Epoch 75/300\n",
            "122/122 [==============================] - 1s 11ms/step - loss: 0.8606 - accuracy: 0.7360 - val_loss: 1.8271 - val_accuracy: 0.5432 - lr: 5.0000e-04\n",
            "Epoch 76/300\n",
            "122/122 [==============================] - 1s 11ms/step - loss: 0.7535 - accuracy: 0.7483 - val_loss: 1.9551 - val_accuracy: 0.5391 - lr: 5.0000e-04\n",
            "Epoch 77/300\n",
            "122/122 [==============================] - 1s 11ms/step - loss: 0.7274 - accuracy: 0.7540 - val_loss: 2.0246 - val_accuracy: 0.5514 - lr: 5.0000e-04\n",
            "Epoch 78/300\n",
            "122/122 [==============================] - 1s 11ms/step - loss: 0.7025 - accuracy: 0.7635 - val_loss: 1.9231 - val_accuracy: 0.5494 - lr: 5.0000e-04\n",
            "Epoch 79/300\n",
            "122/122 [==============================] - 1s 11ms/step - loss: 0.6665 - accuracy: 0.7725 - val_loss: 2.0533 - val_accuracy: 0.5617 - lr: 5.0000e-04\n",
            "Epoch 80/300\n",
            "122/122 [==============================] - 1s 11ms/step - loss: 0.7189 - accuracy: 0.7764 - val_loss: 1.7315 - val_accuracy: 0.5350 - lr: 5.0000e-04\n",
            "Epoch 81/300\n",
            "122/122 [==============================] - 1s 11ms/step - loss: 0.6577 - accuracy: 0.7792 - val_loss: 1.9808 - val_accuracy: 0.5576 - lr: 5.0000e-04\n",
            "Epoch 82/300\n",
            "122/122 [==============================] - 1s 11ms/step - loss: 0.6611 - accuracy: 0.7900 - val_loss: 2.0488 - val_accuracy: 0.5576 - lr: 5.0000e-04\n",
            "Epoch 83/300\n",
            "122/122 [==============================] - 1s 11ms/step - loss: 0.6149 - accuracy: 0.7954 - val_loss: 1.7775 - val_accuracy: 0.5576 - lr: 5.0000e-04\n",
            "Epoch 84/300\n",
            "122/122 [==============================] - 1s 11ms/step - loss: 0.5973 - accuracy: 0.8011 - val_loss: 1.9607 - val_accuracy: 0.5412 - lr: 5.0000e-04\n",
            "Epoch 85/300\n",
            "122/122 [==============================] - 1s 11ms/step - loss: 0.6098 - accuracy: 0.8019 - val_loss: 1.7915 - val_accuracy: 0.5617 - lr: 5.0000e-04\n",
            "Epoch 86/300\n",
            "122/122 [==============================] - 1s 12ms/step - loss: 0.5599 - accuracy: 0.8152 - val_loss: 2.0505 - val_accuracy: 0.5494 - lr: 5.0000e-04\n",
            "Epoch 87/300\n",
            "122/122 [==============================] - 1s 11ms/step - loss: 0.5614 - accuracy: 0.8062 - val_loss: 2.0331 - val_accuracy: 0.5432 - lr: 5.0000e-04\n",
            "Epoch 88/300\n",
            "122/122 [==============================] - 1s 12ms/step - loss: 0.5632 - accuracy: 0.8160 - val_loss: 2.1977 - val_accuracy: 0.5556 - lr: 5.0000e-04\n",
            "Epoch 89/300\n",
            "122/122 [==============================] - 1s 11ms/step - loss: 0.5311 - accuracy: 0.8242 - val_loss: 2.0401 - val_accuracy: 0.5473 - lr: 5.0000e-04\n",
            "Epoch 90/300\n",
            "122/122 [==============================] - 1s 12ms/step - loss: 0.5152 - accuracy: 0.8227 - val_loss: 1.9777 - val_accuracy: 0.5350 - lr: 5.0000e-04\n",
            "Epoch 91/300\n",
            "122/122 [==============================] - 1s 12ms/step - loss: 0.5037 - accuracy: 0.8240 - val_loss: 2.0138 - val_accuracy: 0.5350 - lr: 5.0000e-04\n"
          ]
        }
      ]
    },
    {
      "cell_type": "code",
      "source": [
        "# Predict the val set with the BiLSTM\n",
        "predictions1 = model.predict(X_break_val)"
      ],
      "metadata": {
        "colab": {
          "base_uri": "https://localhost:8080/"
        },
        "id": "mPz_pA2r2Iyi",
        "outputId": "10d75be1-1eb2-4ab0-8d5e-20512de00a00"
      },
      "execution_count": null,
      "outputs": [
        {
          "output_type": "stream",
          "name": "stdout",
          "text": [
            "31/31 [==============================] - 13s 4ms/step\n"
          ]
        }
      ]
    },
    {
      "cell_type": "code",
      "source": [
        "accuracy = accuracy_score(np.argmax(Y_break_val, axis=-1), np.argmax(predictions1, axis=-1))"
      ],
      "metadata": {
        "id": "aUYKrnuu2gn7"
      },
      "execution_count": null,
      "outputs": []
    },
    {
      "cell_type": "code",
      "source": [
        "accuracy"
      ],
      "metadata": {
        "colab": {
          "base_uri": "https://localhost:8080/"
        },
        "id": "3mz1D7xH2-ur",
        "outputId": "5440a8d8-c2d6-407b-e6b5-f466d8e6cedd"
      },
      "execution_count": null,
      "outputs": [
        {
          "output_type": "execute_result",
          "data": {
            "text/plain": [
              "0.565843621399177"
            ]
          },
          "metadata": {},
          "execution_count": 134
        }
      ]
    },
    {
      "cell_type": "markdown",
      "source": [
        "####Ensemble Model"
      ],
      "metadata": {
        "id": "LLXCwfSPmq_h"
      }
    },
    {
      "cell_type": "markdown",
      "source": [
        "#####Stacking and averaging different models: cnn + convlstm"
      ],
      "metadata": {
        "id": "nkF_hb0j0is8"
      }
    },
    {
      "cell_type": "code",
      "source": [
        "#Load Models\n",
        "cnn =  tfk.models.load_model('CNN_3')\n",
        "lstm_class_weights = tfk.models.load_model('LSTM_12_12')\n",
        "bilstm = tfk.models.load_model('BiLSTM_12-12')\n",
        "convlstm = tfk.models.load_model('CONVLSTM_12_12B')\n",
        "# cnn_augm = tfk.models.load_model('BiLSTM_1')"
      ],
      "metadata": {
        "id": "BVo10-cxnxio"
      },
      "execution_count": null,
      "outputs": []
    },
    {
      "cell_type": "code",
      "source": [
        "cnn._name = \"cnn\"\n",
        "lstm_class_weights._name = \"lstm_class_weights\"\n",
        "bilstm._name = \"bilstm\"\n",
        "convlstm._name = \"convlstm\"\n",
        "# cnn_augm._name = \"cnn_augm\""
      ],
      "metadata": {
        "id": "1i3xMNkknv3B"
      },
      "execution_count": null,
      "outputs": []
    },
    {
      "cell_type": "code",
      "source": [
        "#all on the same dataset\n",
        "models1 = []\n",
        "\n",
        "models1.append(cnn)\n",
        "# models1.append(lstm_class_weights)\n",
        "# models1.append(bilstm)\n",
        "models1.append(convlstm)\n",
        "# models1.append(cnn_augm)"
      ],
      "metadata": {
        "id": "lobgBqNpmtTY"
      },
      "execution_count": null,
      "outputs": []
    },
    {
      "cell_type": "code",
      "source": [
        "def ensembleModels(models, model_input):\n",
        "    # collect outputs of models in a list\n",
        "    yModels=[model(model_input) for model in models] \n",
        "    # averaging outputs\n",
        "    yAvg=tfk.layers.average(yModels) \n",
        "    # build model from same input and avg output\n",
        "    modelEns = tfk.Model(inputs=model_input, outputs=yAvg,    name='ensemble')  \n",
        "   \n",
        "    return modelEns"
      ],
      "metadata": {
        "id": "itv6Fqr_n3yZ"
      },
      "execution_count": null,
      "outputs": []
    },
    {
      "cell_type": "code",
      "source": [
        "model_input = tfk.Input(shape=models1[0].input_shape[1:]) \n",
        "modelEns = ensembleModels(models1, model_input)\n",
        "modelEns.compile(optimizer=tfk.optimizers.Adam(),\n",
        "              loss=tfk.losses.CategoricalCrossentropy(),\n",
        "              metrics='accuracy')\n",
        "modelEns.summary()"
      ],
      "metadata": {
        "id": "H9ckCNlnn5Jg"
      },
      "execution_count": null,
      "outputs": []
    },
    {
      "cell_type": "markdown",
      "source": [
        "####3 CNNs + CONV_LSTM, trained on synthetic data"
      ],
      "metadata": {
        "id": "1FQvWwCvB7QK"
      }
    },
    {
      "cell_type": "code",
      "source": [
        "#Split into train-validation (our test) set\n",
        "X_train1, X_val1, y_train1, y_val1 = train_test_split(X, y, test_size=0.2, random_state=seed)\n",
        "#Split into train-validation (our test) set\n",
        "X_train2, X_val2, y_train2, y_val2 = train_test_split(X, y, test_size=0.2, random_state=seed*2)\n",
        "#Split into train-validation (our test) set\n",
        "X_train3, X_val3, y_train3, y_val3 = train_test_split(X, y, test_size=0.2, random_state=seed*3)\n",
        "#Split into train-validation (our test) set\n",
        "X_train4, X_val4, y_train4, y_val4 = train_test_split(X, y, test_size=0.2, random_state=seed*4)"
      ],
      "metadata": {
        "id": "tJ5PvBy-EcPM"
      },
      "execution_count": null,
      "outputs": []
    },
    {
      "cell_type": "code",
      "source": [
        "x_9 = X.copy()\n",
        "y_9 = y.copy()"
      ],
      "metadata": {
        "id": "0tbi2psRzs0w"
      },
      "execution_count": null,
      "outputs": []
    },
    {
      "cell_type": "code",
      "source": [
        "idx_no_9 = np.where(y_9!=9)[0]\n",
        "idx_9 = np.where(y_9==9)[0]\n",
        "idx_9 = idx_9[:int(len(idx_9)/2)]"
      ],
      "metadata": {
        "id": "Dv4Kgw0bCVnq"
      },
      "execution_count": null,
      "outputs": []
    },
    {
      "cell_type": "code",
      "source": [
        "X_9 =x_9[np.append(idx_9,idx_no_9),:,:]\n",
        "y_9 = y_9[np.append(idx_9,idx_no_9)]"
      ],
      "metadata": {
        "id": "Ge6oybvEL5-6"
      },
      "execution_count": null,
      "outputs": []
    },
    {
      "cell_type": "code",
      "source": [
        "X_train4, X_val4, y_train4, y_val4 = train_test_split(X_9, y_9, test_size=0.2, random_state=seed*4)"
      ],
      "metadata": {
        "id": "VKT3NMxjCJEp"
      },
      "execution_count": null,
      "outputs": []
    },
    {
      "cell_type": "code",
      "source": [
        "y_train4 = tfk.utils.to_categorical(y_train4)\n",
        "y_val4 = tfk.utils.to_categorical(y_val4)\n",
        "y_train3 = tfk.utils.to_categorical(y_train3)\n",
        "y_val3 = tfk.utils.to_categorical(y_val3)\n",
        "y_train2 = tfk.utils.to_categorical(y_train2)\n",
        "y_val2 = tfk.utils.to_categorical(y_val2)\n",
        "y_train1 = tfk.utils.to_categorical(y_train1)\n",
        "y_val1 = tfk.utils.to_categorical(y_val1)"
      ],
      "metadata": {
        "id": "iowwj7u2PcSS"
      },
      "execution_count": null,
      "outputs": []
    },
    {
      "cell_type": "code",
      "source": [
        "sns.countplot(np.argmax(y_val4,axis=1))"
      ],
      "metadata": {
        "colab": {
          "base_uri": "https://localhost:8080/",
          "height": 342
        },
        "id": "OCIu9uGYQhET",
        "outputId": "db29b03d-16d9-4c15-b6d5-2c87203dfef0"
      },
      "execution_count": null,
      "outputs": [
        {
          "output_type": "stream",
          "name": "stderr",
          "text": [
            "/usr/local/lib/python3.8/dist-packages/seaborn/_decorators.py:36: FutureWarning: Pass the following variable as a keyword arg: x. From version 0.12, the only valid positional argument will be `data`, and passing other arguments without an explicit keyword will result in an error or misinterpretation.\n",
            "  warnings.warn(\n"
          ]
        },
        {
          "output_type": "execute_result",
          "data": {
            "text/plain": [
              "<matplotlib.axes._subplots.AxesSubplot at 0x7fc4358c0430>"
            ]
          },
          "metadata": {},
          "execution_count": 418
        },
        {
          "output_type": "display_data",
          "data": {
            "text/plain": [
              "<Figure size 432x288 with 1 Axes>"
            ],
            "image/png": "[encoded data removed]"
          },
          "metadata": {
            "needs_background": "light"
          }
        }
      ]
    },
    {
      "cell_type": "code",
      "source": [
        "def build_1DCNN_classifier(input_shape, classes):\n",
        "    # Build the neural network layer by layer\n",
        "    input_layer = tfkl.Input(shape=input_shape, name='Input')\n",
        "\n",
        "    # Feature extractor\n",
        "    cnn = tfkl.Conv1D(128,3,padding='same',activation='relu')(input_layer)\n",
        "    cnn = tfkl.Conv1D(256,3,dilation_rate = 2,padding='same',activation='relu')(cnn)\n",
        "    gap = tfkl.GlobalAveragePooling1D()(cnn)\n",
        "    dropout = tfkl.Dropout(.3, seed=seed)(gap)\n",
        "\n",
        "    # Classifier\n",
        "    classifier = tfkl.Dense(128, activation='relu')(dropout)\n",
        "    dropout = tfkl.Dropout(.3, seed=seed)(classifier)\n",
        "    classifier = tfkl.Dense(128, activation='relu')(dropout)\n",
        "    output_layer = tfkl.Dense(classes, activation='softmax')(classifier)\n",
        "\n",
        "    # Connect input and output through the Model class\n",
        "    model = tfk.Model(inputs=input_layer, outputs=output_layer, name='model')\n",
        "\n",
        "    # Compile the model\n",
        "    model.compile(loss=tfk.losses.CategoricalCrossentropy(), optimizer=tfk.optimizers.Adam(), metrics='accuracy')\n",
        "\n",
        "    # Return the model\n",
        "    return model"
      ],
      "metadata": {
        "id": "hc2jU8j1GbIp"
      },
      "execution_count": null,
      "outputs": []
    },
    {
      "cell_type": "code",
      "source": [
        "cnnbest_dil_cws = build_1DCNN_classifier(input_shape, classes)"
      ],
      "metadata": {
        "id": "5kFdZ7A_JgwT"
      },
      "execution_count": null,
      "outputs": []
    },
    {
      "cell_type": "code",
      "source": [
        "for i in range(12):\n",
        "  weights[i]=1\n",
        "  if(i!=2 and i!= 3 and i!= 6 and i!=9):\n",
        "    weights[i]=2"
      ],
      "metadata": {
        "id": "q0v9hqZEorPW"
      },
      "execution_count": null,
      "outputs": []
    },
    {
      "cell_type": "code",
      "source": [
        "# Train the model\n",
        "history = cnnbest_dil_cws.fit(\n",
        "    x = X_train4,\n",
        "    y = y_train4,\n",
        "    batch_size = batch_size,\n",
        "    epochs = 300,\n",
        "    class_weight = weights,\n",
        "    validation_data = (X_val4, y_val4),\n",
        "    callbacks = [\n",
        "        tfk.callbacks.EarlyStopping(monitor='val_accuracy', mode='max', patience=50, restore_best_weights=True),\n",
        "        tfk.callbacks.ReduceLROnPlateau(monitor='val_accuracy', mode='max', patience=20, factor=0.5, min_lr=1e-4)\n",
        "    ]\n",
        ").history"
      ],
      "metadata": {
        "id": "rHU1qkNxHFOT"
      },
      "execution_count": null,
      "outputs": []
    },
    {
      "cell_type": "code",
      "source": [
        "# Compute the confusion matrix on the validation set\n",
        "predictions = cnnbest_dil_cws.predict(X_val4)\n",
        "cm = confusion_matrix(np.argmax(y_val4, axis=-1), np.argmax(predictions, axis=-1))\n",
        "\n",
        "# Compute the classification metrics\n",
        "accuracy = accuracy_score(np.argmax(y_val4, axis=-1), np.argmax(predictions, axis=-1))\n",
        "precision = precision_score(np.argmax(y_val4, axis=-1), np.argmax(predictions, axis=-1), average='macro')\n",
        "recall = recall_score(np.argmax(y_val4, axis=-1), np.argmax(predictions, axis=-1), average='macro')\n",
        "f1 = f1_score(np.argmax(y_val4, axis=-1), np.argmax(predictions, axis=-1), average='macro')\n",
        "print('Accuracy:',accuracy.round(4))\n",
        "print('Precision:',precision.round(4))\n",
        "print('Recall:',recall.round(4))\n",
        "print('F1:',f1.round(4))\n",
        "\n",
        "# Plot the confusion matrix\n",
        "plt.figure(figsize=(10,8))\n",
        "sns.heatmap(cm.T, cmap='Blues', xticklabels=list(label_mapping.values()), yticklabels=list(label_mapping.values()))\n",
        "plt.xlabel('True labels')\n",
        "plt.ylabel('Predicted labels')\n",
        "plt.show()"
      ],
      "metadata": {
        "colab": {
          "base_uri": "https://localhost:8080/",
          "height": 678
        },
        "id": "VhG_guqgKLqE",
        "outputId": "9927d885-2b31-41aa-ef32-217464dc3eec"
      },
      "execution_count": null,
      "outputs": [
        {
          "output_type": "stream",
          "name": "stdout",
          "text": [
            "16/16 [==============================] - 0s 6ms/step\n",
            "Accuracy: 0.7119\n",
            "Precision: 0.6673\n",
            "Recall: 0.6084\n",
            "F1: 0.6292\n"
          ]
        },
        {
          "output_type": "display_data",
          "data": {
            "text/plain": [
              "<Figure size 720x576 with 2 Axes>"
            ],
            "image/png": "[encoded data removed]"
          },
          "metadata": {
            "needs_background": "light"
          }
        }
      ]
    },
    {
      "cell_type": "code",
      "source": [
        "cnnbest_dil_cws.save(\"cnnbest_dil_cws7163\")"
      ],
      "metadata": {
        "colab": {
          "base_uri": "https://localhost:8080/"
        },
        "id": "J4Xu3DU1sehm",
        "outputId": "f4d08410-3c50-4eca-a92c-c9f6d8f98631"
      },
      "execution_count": null,
      "outputs": [
        {
          "output_type": "stream",
          "name": "stderr",
          "text": [
            "WARNING:absl:Function `_wrapped_model` contains input name(s) Input with unsupported characters which will be renamed to input in the SavedModel.\n",
            "WARNING:absl:Found untraced functions such as _jit_compiled_convolution_op, _jit_compiled_convolution_op while saving (showing 2 of 2). These functions will not be directly callable after loading.\n"
          ]
        }
      ]
    },
    {
      "cell_type": "code",
      "source": [
        "def build_1DCNN_classifier2(input_shape, classes):\n",
        "    # Build the neural network layer by layer\n",
        "    input_layer = tfkl.Input(shape=input_shape, name='Input')\n",
        "\n",
        "    # Feature extractor\n",
        "    cnn = tfkl.Conv1D(16,3,padding='same',activation='relu')(input_layer)\n",
        "    cnn = tfkl.Conv1D(32,3,padding='same',activation='relu')(cnn)\n",
        "    cnn = tfkl.Conv1D(64,3,padding='same',activation='relu')(cnn)\n",
        "\n",
        "    gap = tfkl.GlobalAveragePooling1D()(cnn)\n",
        "    dropout = tfkl.Dropout(.3, seed=seed)(gap)\n",
        "\n",
        "    # Classifier\n",
        "    classifier = tfkl.Dense(128, activation='relu')(dropout)\n",
        "    dropout = tfkl.Dropout(.3, seed=seed)(classifier)\n",
        "    classifier = tfkl.Dense(128, activation='relu')(dropout)\n",
        "    output_layer = tfkl.Dense(classes, activation='softmax')(classifier)\n",
        "\n",
        "    # Connect input and output through the Model class\n",
        "    model = tfk.Model(inputs=input_layer, outputs=output_layer, name='model')\n",
        "\n",
        "    # Compile the model\n",
        "    model.compile(loss=tfk.losses.CategoricalCrossentropy(), optimizer=tfk.optimizers.Adam(), metrics='accuracy')\n",
        "\n",
        "    # Return the model\n",
        "    return model"
      ],
      "metadata": {
        "id": "16RiQzQhGsdL"
      },
      "execution_count": null,
      "outputs": []
    },
    {
      "cell_type": "code",
      "source": [
        "def build_CONV_LSTM_model(input_shape, classes):\n",
        "    # Build the neural network layer by layer\n",
        "    input_layer = tfkl.Input(shape=input_shape, name='Input')\n",
        "\n",
        "    convlstm = tfkl.Conv1D(32, 3, padding='same', activation='relu')(input_layer)\n",
        "    convlstm = tfkl.Conv1D(64, 3, padding='same', activation='relu')(convlstm)\n",
        "    convlstm = tfkl.Conv1D(128, 3, padding='same', activation='relu')(convlstm)\n",
        "\n",
        "    convlstm = tfkl.Bidirectional(tfkl.LSTM(128, return_sequences=True))(convlstm)\n",
        "    convlstm = tfkl.Bidirectional(tfkl.LSTM(128))(convlstm)\n",
        "\n",
        "    convlstm = tfkl.Dropout(.2)(convlstm)\n",
        "\n",
        "    convlstm = tfkl.Dense(64, activation='relu')(convlstm)\n",
        "\n",
        "    convlstm = tfkl.Dropout(.2, seed=seed)(convlstm)\n",
        "\n",
        "    convlstm = tfkl.Dense(64, activation='relu')(convlstm)\n",
        "\n",
        "    output_layer = tfkl.Dense(classes, activation='softmax')(convlstm)\n",
        "\n",
        "    # Connect input and output through the Model class\n",
        "    model = tfk.Model(inputs=input_layer, outputs=output_layer, name='model')\n",
        "\n",
        "    # Compile the model\n",
        "    model.compile(loss=tfk.losses.CategoricalCrossentropy(), optimizer=tfk.optimizers.Adam(), metrics='accuracy')\n",
        "\n",
        "    # Return the model\n",
        "    return model    \n"
      ],
      "metadata": {
        "id": "IIVOg7wzP9Zy"
      },
      "execution_count": null,
      "outputs": []
    },
    {
      "cell_type": "code",
      "source": [
        "convlstm = build_CONV_LSTM_model(input_shape, classes)"
      ],
      "metadata": {
        "id": "f9va3oBnQKf7"
      },
      "execution_count": null,
      "outputs": []
    },
    {
      "cell_type": "code",
      "source": [
        "# Train the model\n",
        "history = convlstm.fit(\n",
        "    x = X_train2,\n",
        "    y = y_train2,\n",
        "    batch_size = batch_size,\n",
        "    epochs = 300,\n",
        "    validation_data = (X_val2, y_val2),\n",
        "    callbacks = [\n",
        "        tfk.callbacks.EarlyStopping(monitor='val_accuracy', mode='max', patience=40, restore_best_weights=True),\n",
        "        tfk.callbacks.ReduceLROnPlateau(monitor='val_accuracy', mode='max', patience=15, factor=0.5, min_lr=1e-4)\n",
        "    ]\n",
        ").history"
      ],
      "metadata": {
        "id": "mf7qjK5qQJXf"
      },
      "execution_count": null,
      "outputs": []
    },
    {
      "cell_type": "code",
      "source": [
        "# Train the model\n",
        "# cnn_low_filters_synth = build_1DCNN_classifier2(input_shape, classes)\n",
        "convlstm_synth = build_CONV_LSTM_model(input_shape, classes)\n",
        "history = convlstm_synth.fit(\n",
        "    x = x_aug,\n",
        "    y = y_aug,\n",
        "    batch_size = batch_size,\n",
        "    epochs = 300,\n",
        "    validation_data = (X_val_aug, y_val_aug),\n",
        "    callbacks = [\n",
        "        tfk.callbacks.EarlyStopping(monitor='val_accuracy', mode='max', patience=20, restore_best_weights=True),\n",
        "        tfk.callbacks.ReduceLROnPlateau(monitor='val_accuracy', mode='max', patience=10, factor=0.5, min_lr=1e-4)\n",
        "    ]\n",
        ").history"
      ],
      "metadata": {
        "id": "PgC3kzhYyFCS"
      },
      "execution_count": null,
      "outputs": []
    },
    {
      "cell_type": "code",
      "source": [
        "# Compute the confusion matrix on the validation set\n",
        "predictions = convlstm_synth.predict(X_val_aug)\n",
        "cm = confusion_matrix(np.argmax(y_val_aug, axis=-1), np.argmax(predictions, axis=-1))\n",
        "\n",
        "# Compute the classification metrics\n",
        "accuracy = accuracy_score(np.argmax(y_val_aug, axis=-1), np.argmax(predictions, axis=-1))\n",
        "precision = precision_score(np.argmax(y_val_aug, axis=-1), np.argmax(predictions, axis=-1), average='macro')\n",
        "recall = recall_score(np.argmax(y_val_aug, axis=-1), np.argmax(predictions, axis=-1), average='macro')\n",
        "f1 = f1_score(np.argmax(y_val_aug, axis=-1), np.argmax(predictions, axis=-1), average='macro')\n",
        "print('Accuracy:',accuracy.round(4))\n",
        "print('Precision:',precision.round(4))\n",
        "print('Recall:',recall.round(4))\n",
        "print('F1:',f1.round(4))\n",
        "\n",
        "# Plot the confusion matrix\n",
        "plt.figure(figsize=(10,8))\n",
        "sns.heatmap(cm.T, cmap='Blues', xticklabels=list(label_mapping.values()), yticklabels=list(label_mapping.values()))\n",
        "plt.xlabel('True labels')\n",
        "plt.ylabel('Predicted labels')\n",
        "plt.show()"
      ],
      "metadata": {
        "colab": {
          "base_uri": "https://localhost:8080/",
          "height": 678
        },
        "id": "4mendFnJQTcz",
        "outputId": "4342de71-7641-410b-c6ab-57440fd125d6"
      },
      "execution_count": null,
      "outputs": [
        {
          "output_type": "stream",
          "name": "stdout",
          "text": [
            "19/19 [==============================] - 3s 86ms/step\n",
            "Accuracy: 0.6891\n",
            "Precision: 0.6599\n",
            "Recall: 0.5797\n",
            "F1: 0.5957\n"
          ]
        },
        {
          "output_type": "display_data",
          "data": {
            "text/plain": [
              "<Figure size 720x576 with 2 Axes>"
            ],
            "image/png": "[encoded data removed]"
          },
          "metadata": {
            "needs_background": "light"
          }
        }
      ]
    },
    {
      "cell_type": "code",
      "source": [
        "# Compute the confusion matrix on the validation set\n",
        "predictions = cnn_low_filters_synth.predict(X_val_aug)\n",
        "cm = confusion_matrix(np.argmax(y_val_aug, axis=-1), np.argmax(predictions, axis=-1))\n",
        "\n",
        "# Compute the classification metrics\n",
        "accuracy = accuracy_score(np.argmax(y_val_aug, axis=-1), np.argmax(predictions, axis=-1))\n",
        "precision = precision_score(np.argmax(y_val_aug, axis=-1), np.argmax(predictions, axis=-1), average='macro')\n",
        "recall = recall_score(np.argmax(y_val_aug, axis=-1), np.argmax(predictions, axis=-1), average='macro')\n",
        "f1 = f1_score(np.argmax(y_val_aug, axis=-1), np.argmax(predictions, axis=-1), average='macro')\n",
        "print('Accuracy:',accuracy.round(4))\n",
        "print('Precision:',precision.round(4))\n",
        "print('Recall:',recall.round(4))\n",
        "print('F1:',f1.round(4))\n",
        "\n",
        "# Plot the confusion matrix\n",
        "plt.figure(figsize=(10,8))\n",
        "sns.heatmap(cm.T, cmap='Blues', xticklabels=list(label_mapping.values()), yticklabels=list(label_mapping.values()))\n",
        "plt.xlabel('True labels')\n",
        "plt.ylabel('Predicted labels')\n",
        "plt.show()"
      ],
      "metadata": {
        "colab": {
          "base_uri": "https://localhost:8080/",
          "height": 732
        },
        "id": "1zjbSzLKsEyH",
        "outputId": "9958206c-b000-43eb-8a2e-1f29d77cde38"
      },
      "execution_count": null,
      "outputs": [
        {
          "output_type": "stream",
          "name": "stdout",
          "text": [
            "19/19 [==============================] - 0s 3ms/step\n",
            "Accuracy: 0.7105\n",
            "Precision: 0.7322\n",
            "Recall: 0.5863\n",
            "F1: 0.6179\n"
          ]
        },
        {
          "output_type": "stream",
          "name": "stderr",
          "text": [
            "/usr/local/lib/python3.8/dist-packages/sklearn/metrics/_classification.py:1318: UndefinedMetricWarning: Precision is ill-defined and being set to 0.0 in labels with no predicted samples. Use `zero_division` parameter to control this behavior.\n",
            "  _warn_prf(average, modifier, msg_start, len(result))\n"
          ]
        },
        {
          "output_type": "display_data",
          "data": {
            "text/plain": [
              "<Figure size 720x576 with 2 Axes>"
            ],
            "image/png": "[encoded data removed]"
          },
          "metadata": {
            "needs_background": "light"
          }
        }
      ]
    },
    {
      "cell_type": "code",
      "source": [
        "x_aug = X.copy()\n",
        "y_aug = y.copy()\n",
        "x_aug, X_val_aug, y_aug, y_val_aug = train_test_split(x_aug, y_aug, test_size=0.2, random_state=seed*2)\n",
        "#Create new data from noise for training and validation (since the are very few samples for some classes)\n",
        "for i in range(12):\n",
        "    \n",
        "    if i==0 or i==4 or i==11:\n",
        "    #if i!=9 and i!=2 and i!=3 and i!=6 :\n",
        "\n",
        "        #consider the class i samples and make j times new augmented data\n",
        "        x_temp = x_aug[np.where(y_aug==i)[0],:,:]\n",
        "\n",
        "        for j in range(1):\n",
        "            x_temp = create_from_noise(x_temp)\n",
        "            \n",
        "\n",
        "            x_aug = np.append(x_aug, x_temp, axis=0)\n",
        "            #append the labels of the class i\n",
        "            y_aug = np.append(y_aug,np.array([[i] for k in range(len(x_temp[:,0,0]))]))\n",
        "y_aug = tfk.utils.to_categorical(y_aug)\n",
        "y_val_aug = tfk.utils.to_categorical(y_val_aug)"
      ],
      "metadata": {
        "id": "cktWxUEQOjg8"
      },
      "execution_count": null,
      "outputs": []
    },
    {
      "cell_type": "code",
      "source": [
        "lstm_synth = build_LSTM_classifier((36,6),classes)"
      ],
      "metadata": {
        "id": "qS4nlrZ8OLzb"
      },
      "execution_count": null,
      "outputs": []
    },
    {
      "cell_type": "code",
      "source": [
        "weights"
      ],
      "metadata": {
        "colab": {
          "base_uri": "https://localhost:8080/"
        },
        "id": "JGBhXgbePPur",
        "outputId": "aad4cc8b-3f22-4101-8ad7-3af994948127"
      },
      "execution_count": null,
      "outputs": [
        {
          "output_type": "execute_result",
          "data": {
            "text/plain": [
              "{0: 2, 1: 2, 2: 1, 3: 1, 4: 2, 5: 2, 6: 1, 7: 2, 8: 2, 9: 1, 10: 2, 11: 2}"
            ]
          },
          "metadata": {},
          "execution_count": 143
        }
      ]
    },
    {
      "cell_type": "code",
      "source": [
        "# Train the model\n",
        "# cnn_low_filters_synth = build_1DCNN_classifier2(input_shape, classes)\n",
        "history = lstm_synth.fit(\n",
        "    x = x_aug,\n",
        "    y = y_aug,\n",
        "    batch_size = batch_size,\n",
        "    epochs = 300,\n",
        "    validation_data = (X_val_aug, y_val_aug),\n",
        "    callbacks = [\n",
        "        tfk.callbacks.EarlyStopping(monitor='val_accuracy', mode='max', patience=20, restore_best_weights=True),\n",
        "        tfk.callbacks.ReduceLROnPlateau(monitor='val_accuracy', mode='max', patience=10, factor=0.5, min_lr=1e-4)\n",
        "    ]\n",
        ").history"
      ],
      "metadata": {
        "id": "q6s-7ndoN4ia"
      },
      "execution_count": null,
      "outputs": []
    },
    {
      "cell_type": "code",
      "source": [
        "# Compute the confusion matrix on the validation set\n",
        "predictions = lstm_synth.predict(X_val_aug)\n",
        "cm = confusion_matrix(np.argmax(y_val_aug, axis=-1), np.argmax(predictions, axis=-1))\n",
        "\n",
        "# Compute the classification metrics\n",
        "accuracy = accuracy_score(np.argmax(y_val_aug, axis=-1), np.argmax(predictions, axis=-1))\n",
        "precision = precision_score(np.argmax(y_val_aug, axis=-1), np.argmax(predictions, axis=-1), average='macro')\n",
        "recall = recall_score(np.argmax(y_val_aug, axis=-1), np.argmax(predictions, axis=-1), average='macro')\n",
        "f1 = f1_score(np.argmax(y_val_aug, axis=-1), np.argmax(predictions, axis=-1), average='macro')\n",
        "print('Accuracy:',accuracy.round(4))\n",
        "print('Precision:',precision.round(4))\n",
        "print('Recall:',recall.round(4))\n",
        "print('F1:',f1.round(4))\n",
        "\n",
        "# Plot the confusion matrix\n",
        "plt.figure(figsize=(10,8))\n",
        "sns.heatmap(cm.T, cmap='Blues', xticklabels=list(label_mapping.values()), yticklabels=list(label_mapping.values()))\n",
        "plt.xlabel('True labels')\n",
        "plt.ylabel('Predicted labels')\n",
        "plt.show()"
      ],
      "metadata": {
        "colab": {
          "base_uri": "https://localhost:8080/",
          "height": 678
        },
        "id": "TF15IArgQrZ0",
        "outputId": "ab8c6e85-19b9-49ac-cd61-7d0f9add859f"
      },
      "execution_count": null,
      "outputs": [
        {
          "output_type": "stream",
          "name": "stdout",
          "text": [
            "16/16 [==============================] - 1s 39ms/step\n",
            "Accuracy: 0.644\n",
            "Precision: 0.6158\n",
            "Recall: 0.5542\n",
            "F1: 0.573\n"
          ]
        },
        {
          "output_type": "display_data",
          "data": {
            "text/plain": [
              "<Figure size 720x576 with 2 Axes>"
            ],
            "image/png": "[encoded data removed]"
          },
          "metadata": {
            "needs_background": "light"
          }
        }
      ]
    },
    {
      "cell_type": "code",
      "source": [
        "lstm_synth.save(\"lstm_synth\")"
      ],
      "metadata": {
        "colab": {
          "base_uri": "https://localhost:8080/"
        },
        "id": "D6sXgMiCTGnr",
        "outputId": "6d25e243-4e7f-473f-b4ef-dd31bbc982fe"
      },
      "execution_count": null,
      "outputs": [
        {
          "output_type": "stream",
          "name": "stderr",
          "text": [
            "WARNING:absl:Function `_wrapped_model` contains input name(s) Input with unsupported characters which will be renamed to input in the SavedModel.\n",
            "WARNING:absl:Found untraced functions such as lstm_cell_8_layer_call_fn, lstm_cell_8_layer_call_and_return_conditional_losses, lstm_cell_9_layer_call_fn, lstm_cell_9_layer_call_and_return_conditional_losses while saving (showing 4 of 4). These functions will not be directly callable after loading.\n"
          ]
        }
      ]
    },
    {
      "cell_type": "code",
      "source": [
        "x_aug = X.copy()\n",
        "y_aug = y.copy()\n",
        "x_aug, X_val_aug, y_aug, y_val_aug = train_test_split(x_aug, y_aug, test_size=0.2, random_state=seed*3121)\n",
        "#Create new data from noise for training and validation (since the are very few samples for some classes)\n",
        "for i in range(12):\n",
        "    \n",
        "    if i==0 or i==4 or i==11:\n",
        "    #if i!=9 and i!=2 and i!=3 and i!=6 :\n",
        "\n",
        "        #consider the class i samples and make j times new augmented data\n",
        "        x_temp = x_aug[np.where(y_aug==i)[0],:,:]\n",
        "\n",
        "        for j in range(1):\n",
        "            x_temp = create_from_noise(x_temp)\n",
        "            \n",
        "\n",
        "            x_aug = np.append(x_aug, x_temp, axis=0)\n",
        "            #append the labels of the class i\n",
        "            y_aug = np.append(y_aug,np.array([[i] for k in range(len(x_temp[:,0,0]))]))\n",
        "y_aug = tfk.utils.to_categorical(y_aug)\n",
        "y_val_aug = tfk.utils.to_categorical(y_val_aug)"
      ],
      "metadata": {
        "id": "yNR3VZ3rN3jS"
      },
      "execution_count": null,
      "outputs": []
    },
    {
      "cell_type": "code",
      "source": [
        "cnn_low_synth2 = build_1DCNN_classifier2((36,6),classes)"
      ],
      "metadata": {
        "id": "dqBbXmkGPxnz"
      },
      "execution_count": null,
      "outputs": []
    },
    {
      "cell_type": "code",
      "source": [
        "# Train the model\n",
        "# cnn_low_filters_synth = build_1DCNN_classifier2(input_shape, classes)\n",
        "history = cnn_low_synth2.fit(\n",
        "    x = x_aug,\n",
        "    y = y_aug,\n",
        "    batch_size = batch_size,\n",
        "    epochs = 500,\n",
        "    validation_data = (X_val_aug, y_val_aug),\n",
        "    class_weight = weights,\n",
        "    callbacks = [\n",
        "        tfk.callbacks.EarlyStopping(monitor='val_accuracy', mode='max', patience=100, restore_best_weights=True),\n",
        "        tfk.callbacks.ReduceLROnPlateau(monitor='val_accuracy', mode='max', patience=100, factor=0.5, min_lr=1e-4)\n",
        "    ]\n",
        ").history"
      ],
      "metadata": {
        "id": "o_NT37nBPlYU"
      },
      "execution_count": null,
      "outputs": []
    },
    {
      "cell_type": "code",
      "source": [
        "# Compute the confusion matrix on the validation set\n",
        "predictions = cnn_low_synth2.predict(X_val_aug)\n",
        "cm = confusion_matrix(np.argmax(y_val_aug, axis=-1), np.argmax(predictions, axis=-1))\n",
        "\n",
        "# Compute the classification metrics\n",
        "accuracy = accuracy_score(np.argmax(y_val_aug, axis=-1), np.argmax(predictions, axis=-1))\n",
        "precision = precision_score(np.argmax(y_val_aug, axis=-1), np.argmax(predictions, axis=-1), average='macro')\n",
        "recall = recall_score(np.argmax(y_val_aug, axis=-1), np.argmax(predictions, axis=-1), average='macro')\n",
        "f1 = f1_score(np.argmax(y_val_aug, axis=-1), np.argmax(predictions, axis=-1), average='macro')\n",
        "print('Accuracy:',accuracy.round(4))\n",
        "print('Precision:',precision.round(4))\n",
        "print('Recall:',recall.round(4))\n",
        "print('F1:',f1.round(4))\n",
        "\n",
        "# Plot the confusion matrix\n",
        "plt.figure(figsize=(10,8))\n",
        "sns.heatmap(cm.T, cmap='Blues', xticklabels=list(label_mapping.values()), yticklabels=list(label_mapping.values()))\n",
        "plt.xlabel('True labels')\n",
        "plt.ylabel('Predicted labels')\n",
        "plt.show()"
      ],
      "metadata": {
        "colab": {
          "base_uri": "https://localhost:8080/",
          "height": 681
        },
        "id": "ToL2LB1zUbe7",
        "outputId": "35b135aa-8660-476e-b183-4955decb5504"
      },
      "execution_count": null,
      "outputs": [
        {
          "output_type": "stream",
          "name": "stdout",
          "text": [
            "16/16 [==============================] - 0s 3ms/step\n",
            "Accuracy: 0.6728\n",
            "Precision: 0.6601\n",
            "Recall: 0.6046\n",
            "F1: 0.6049\n"
          ]
        },
        {
          "output_type": "display_data",
          "data": {
            "text/plain": [
              "<Figure size 720x576 with 2 Axes>"
            ],
            "image/png": "[encoded data removed]"
          },
          "metadata": {
            "needs_background": "light"
          }
        }
      ]
    },
    {
      "cell_type": "code",
      "source": [
        "cnn_low_synth2.save(\"cnn_low_filters_synth2\")"
      ],
      "metadata": {
        "colab": {
          "base_uri": "https://localhost:8080/"
        },
        "id": "P4DidBNOXW3S",
        "outputId": "3fccd8a7-8d5d-46bc-9dda-e86fcff8ddca"
      },
      "execution_count": null,
      "outputs": [
        {
          "output_type": "stream",
          "name": "stderr",
          "text": [
            "WARNING:absl:Function `_wrapped_model` contains input name(s) Input with unsupported characters which will be renamed to input in the SavedModel.\n",
            "WARNING:absl:Found untraced functions such as _jit_compiled_convolution_op, _jit_compiled_convolution_op, _jit_compiled_convolution_op while saving (showing 3 of 3). These functions will not be directly callable after loading.\n"
          ]
        }
      ]
    },
    {
      "cell_type": "markdown",
      "source": [
        "cnn with cws and dilation time on normal data +\n",
        "cnn 128 avg pool 256 filters on synth data +\n",
        "cnn 16 32 64 filters on synth data + convlstm synth\n"
      ],
      "metadata": {
        "id": "6h8CboVExBgG"
      }
    },
    {
      "cell_type": "code",
      "source": [
        "cnn1 = tfk.models.load_model(\"cnn_synth_7265\")\n",
        "cnn2 = tfk.models.load_model(\"cnn_low_filters_synth2\")\n",
        "# cnn3 = tfk.models.load_model(\"cnnbest_dil_cws7163\")\n",
        "convlstm = tfk.models.load_model(\"convlstm_synth\")\n",
        "lstm = tfk.models.load_model(\"lstm_synth\")"
      ],
      "metadata": {
        "id": "B--uj9kzXdgr"
      },
      "execution_count": null,
      "outputs": []
    },
    {
      "cell_type": "code",
      "source": [
        "# cnnbest._name = \"cnn1\"\n",
        "cnn1._name = \"cnn1\"\n",
        "cnn2._name = \"cnn2\"\n",
        "lstm._name = \"lstm\"\n",
        "convlstm._name = \"convlstm\""
      ],
      "metadata": {
        "id": "_zMTGGtXXkXz"
      },
      "execution_count": null,
      "outputs": []
    },
    {
      "cell_type": "code",
      "source": [
        "models = []\n",
        "models.append(cnn1)\n",
        "models.append(cnn2)\n",
        "models.append(lstm)\n",
        "models.append(convlstm)"
      ],
      "metadata": {
        "id": "0yKnDHdvXvFL"
      },
      "execution_count": null,
      "outputs": []
    },
    {
      "cell_type": "code",
      "source": [
        "cnn1 = tfk.models.load_model(\"cnn_synth_7265\")\n",
        "cnn2 = tfk.models.load_model(\"cnn_low_filters_synth\")\n",
        "cnn3 = tfk.models.load_model(\"cnnbest_dil_cws7163\")\n",
        "convlstm = tfk.models.load_model(\"convlstm_synth\")"
      ],
      "metadata": {
        "id": "g95L-gThvmM_"
      },
      "execution_count": null,
      "outputs": []
    },
    {
      "cell_type": "code",
      "source": [
        "# cnnbest._name = \"cnn1\"\n",
        "cnn1._name = \"cnn1\"\n",
        "cnn2._name = \"cnn2\"\n",
        "cnn3._name = \"cnn3\"\n",
        "convlstm._name = \"convlstm\""
      ],
      "metadata": {
        "id": "7q-w9I5hvLcO"
      },
      "execution_count": null,
      "outputs": []
    },
    {
      "cell_type": "code",
      "source": [
        "models = []\n",
        "models.append(cnn1)\n",
        "models.append(cnn2)\n",
        "models.append(cnn3)\n",
        "models.append(convlstm)"
      ],
      "metadata": {
        "id": "0NcjayfIvH_g"
      },
      "execution_count": null,
      "outputs": []
    },
    {
      "cell_type": "code",
      "source": [
        "def ensembleModels(models, model_input):\n",
        "    # collect outputs of models in a list\n",
        "    yModels=[model(model_input) for model in models] \n",
        "    # averaging outputs\n",
        "    yAvg=tfk.layers.average(yModels) \n",
        "    # build model from same input and avg output\n",
        "    modelEns = tfk.Model(inputs=model_input, outputs=yAvg,    name='ensemble')  \n",
        "   \n",
        "    return modelEns"
      ],
      "metadata": {
        "id": "bXQ7IHDJ0KMx"
      },
      "execution_count": null,
      "outputs": []
    },
    {
      "cell_type": "code",
      "source": [
        "model_input = tfk.Input(shape=models[0].input_shape[1:]) \n",
        "modelEns = ensembleModels(models, model_input)\n",
        "modelEns.compile(optimizer=tfk.optimizers.Adam(),\n",
        "              loss=tfk.losses.CategoricalCrossentropy(),\n",
        "              metrics='accuracy')\n",
        "modelEns.summary()"
      ],
      "metadata": {
        "colab": {
          "base_uri": "https://localhost:8080/"
        },
        "id": "O3O6KNLE0KMx",
        "outputId": "57dbb152-693d-4c30-e19f-b7a634a87eba"
      },
      "execution_count": null,
      "outputs": [
        {
          "output_type": "stream",
          "name": "stdout",
          "text": [
            "Model: \"ensemble\"\n",
            "__________________________________________________________________________________________________\n",
            " Layer (type)                   Output Shape         Param #     Connected to                     \n",
            "==================================================================================================\n",
            " input_1 (InputLayer)           [(None, 36, 6)]      0           []                               \n",
            "                                                                                                  \n",
            " cnn1 (Functional)              (None, 12)           151948      ['input_1[0][0]']                \n",
            "                                                                                                  \n",
            " cnn2 (Functional)              (None, 12)           34460       ['input_1[0][0]']                \n",
            "                                                                                                  \n",
            " lstm (Functional)              (None, 12)           235276      ['input_1[0][0]']                \n",
            "                                                                                                  \n",
            " convlstm (Functional)          (None, 12)           710316      ['input_1[0][0]']                \n",
            "                                                                                                  \n",
            " average (Average)              (None, 12)           0           ['cnn1[0][0]',                   \n",
            "                                                                  'cnn2[0][0]',                   \n",
            "                                                                  'lstm[0][0]',                   \n",
            "                                                                  'convlstm[0][0]']               \n",
            "                                                                                                  \n",
            "==================================================================================================\n",
            "Total params: 1,132,000\n",
            "Trainable params: 1,132,000\n",
            "Non-trainable params: 0\n",
            "__________________________________________________________________________________________________\n"
          ]
        }
      ]
    },
    {
      "cell_type": "code",
      "source": [
        "modelEns.save(\"16_12_2cnn_lstm_convlstm_synth\")"
      ],
      "metadata": {
        "colab": {
          "base_uri": "https://localhost:8080/"
        },
        "id": "7tiBQaOO1E1f",
        "outputId": "869b72b0-7f8c-48e9-db9e-8d837db9e2b8"
      },
      "execution_count": null,
      "outputs": [
        {
          "output_type": "stream",
          "name": "stderr",
          "text": [
            "WARNING:absl:Found untraced functions such as _jit_compiled_convolution_op, _jit_compiled_convolution_op, _jit_compiled_convolution_op, _jit_compiled_convolution_op, _jit_compiled_convolution_op while saving (showing 5 of 20). These functions will not be directly callable after loading.\n"
          ]
        }
      ]
    },
    {
      "cell_type": "code",
      "source": [
        "# modelEns.save(\"3CNNs\")"
      ],
      "metadata": {
        "colab": {
          "base_uri": "https://localhost:8080/"
        },
        "id": "XRPebYk3-IJn",
        "outputId": "231ee903-d559-4353-906a-6073f249d884"
      },
      "execution_count": null,
      "outputs": [
        {
          "output_type": "stream",
          "name": "stderr",
          "text": [
            "WARNING:absl:Found untraced functions such as _jit_compiled_convolution_op, _jit_compiled_convolution_op, _jit_compiled_convolution_op, _jit_compiled_convolution_op, _jit_compiled_convolution_op while saving (showing 5 of 7). These functions will not be directly callable after loading.\n"
          ]
        }
      ]
    },
    {
      "cell_type": "markdown",
      "source": [
        "####Ensemble models with \"soft\" class weights"
      ],
      "metadata": {
        "id": "ffOU5qU3_H3I"
      }
    },
    {
      "cell_type": "code",
      "source": [
        "# X_train, X_val, y_train, y_val = train_test_split(X, y, test_size=0.2, random_state=seed*10)\n",
        "X_train, X_val, y_train, y_val = train_test_split(X, y, test_size=0.2, random_state=seed*11)\n",
        "# X_train, X_val, y_train, y_val = train_test_split(X, y, test_size=0.2, random_state=seed*12)\n",
        "# X_train, X_val, y_train, y_val = train_test_split(X, y, test_size=0.2, random_state=seed*13)#\n",
        "# X_train, X_val, y_train, y_val = train_test_split(X, y, test_size=0.2, random_state=seed*14)"
      ],
      "metadata": {
        "id": "YmHKm5rT_MWf"
      },
      "execution_count": null,
      "outputs": []
    },
    {
      "cell_type": "code",
      "source": [
        "from sklearn.utils import class_weight\n",
        "cws = class_weight.compute_class_weight(class_weight = \"balanced\" , classes = np.unique(y_train), y= y_train)"
      ],
      "metadata": {
        "id": "mH1xlm_qA50m"
      },
      "execution_count": null,
      "outputs": []
    },
    {
      "cell_type": "code",
      "source": [
        "# Convert the sparse labels to categorical values\n",
        "y_train = tfk.utils.to_categorical(y_train)\n",
        "y_val = tfk.utils.to_categorical(y_val)\n",
        "X_train.shape, y_train.shape, X_val.shape, y_val.shape"
      ],
      "metadata": {
        "colab": {
          "base_uri": "https://localhost:8080/"
        },
        "outputId": "2406a93d-0b33-4765-bfd6-038ac5efe002",
        "id": "2HEZw5dSA50m"
      },
      "execution_count": null,
      "outputs": [
        {
          "output_type": "execute_result",
          "data": {
            "text/plain": [
              "((1943, 36, 6), (1943, 12), (486, 36, 6), (486, 12))"
            ]
          },
          "metadata": {},
          "execution_count": 165
        }
      ]
    },
    {
      "cell_type": "code",
      "source": [
        "weights = {i : cws[i] for i in range(12)}"
      ],
      "metadata": {
        "id": "fIJAcpjd_s6u"
      },
      "execution_count": null,
      "outputs": []
    },
    {
      "cell_type": "code",
      "source": [
        "#lower weights\n",
        "for i in range(12):\n",
        "  weights[i]=1\n",
        "  if(i!=2 and i!= 3 and i!= 6 and i!=9):\n",
        "    weights[i]=2\n",
        "  if(i==9):\n",
        "    weights[i]=0.5"
      ],
      "metadata": {
        "id": "uxyaWFYu_s6u"
      },
      "execution_count": null,
      "outputs": []
    },
    {
      "cell_type": "code",
      "source": [
        "weights"
      ],
      "metadata": {
        "colab": {
          "base_uri": "https://localhost:8080/"
        },
        "id": "Cu9Om_-XRTYg",
        "outputId": "17955233-1ac7-4422-9304-cf6a585c8030"
      },
      "execution_count": null,
      "outputs": [
        {
          "output_type": "execute_result",
          "data": {
            "text/plain": [
              "{0: 2, 1: 2, 2: 1, 3: 1, 4: 2, 5: 2, 6: 1, 7: 2, 8: 2, 9: 0.5, 10: 2, 11: 2}"
            ]
          },
          "metadata": {},
          "execution_count": 99
        }
      ]
    },
    {
      "cell_type": "code",
      "source": [
        "# model = build_LSTM_classifier(input_shape,classes)\n",
        "model = build_1DCNN_classifier(input_shape,classes)\n",
        "# model = build_1DCNN_classifier2(input_shape,classes)\n",
        "# model = build_1DCNN_classifier3(input_shape,classes)\n",
        "# model = build_CONV_LSTM_model(input_shape,classes)"
      ],
      "metadata": {
        "id": "0gNiR-P_BUZH"
      },
      "execution_count": null,
      "outputs": []
    },
    {
      "cell_type": "code",
      "source": [
        "# Train the model with class weights\n",
        "history = model.fit(\n",
        "    x = X_train,\n",
        "    y = y_train,\n",
        "    batch_size = batch_size,\n",
        "    epochs = 400,\n",
        "    validation_data = (X_val,y_val),\n",
        "    class_weight = weights,\n",
        "    callbacks = [\n",
        "        tfk.callbacks.EarlyStopping(monitor='val_accuracy', mode='max', patience=50, restore_best_weights=True),\n",
        "        tfk.callbacks.ReduceLROnPlateau(monitor='val_accuracy', mode='max', patience=20, factor=0.5, min_lr=1e-5)\n",
        "    ]\n",
        ").history"
      ],
      "metadata": {
        "id": "cNSmkfVL_s6v"
      },
      "execution_count": null,
      "outputs": []
    },
    {
      "cell_type": "code",
      "source": [
        "# Train the model\n",
        "history = model.fit(\n",
        "    x = X_train,\n",
        "    y = y_train,\n",
        "    batch_size = batch_size,\n",
        "    epochs = 400,\n",
        "    validation_data = (X_val,y_val),\n",
        "    callbacks = [\n",
        "        tfk.callbacks.EarlyStopping(monitor='val_accuracy', mode='max', patience=50, restore_best_weights=True),\n",
        "        tfk.callbacks.ReduceLROnPlateau(monitor='val_accuracy', mode='max', patience=20, factor=0.5, min_lr=1e-5)\n",
        "    ]\n",
        ").history"
      ],
      "metadata": {
        "id": "pGTxXUlcc-OL"
      },
      "execution_count": null,
      "outputs": []
    },
    {
      "cell_type": "code",
      "source": [
        "# Predict the val set with the BiLSTM\n",
        "predictions = model.predict(X_val)"
      ],
      "metadata": {
        "colab": {
          "base_uri": "https://localhost:8080/"
        },
        "outputId": "11ee9be7-d5e7-47f6-f297-c5e068535ae6",
        "id": "dnBnX3pNRjww"
      },
      "execution_count": null,
      "outputs": [
        {
          "output_type": "stream",
          "name": "stdout",
          "text": [
            "16/16 [==============================] - 0s 2ms/step\n"
          ]
        }
      ]
    },
    {
      "cell_type": "code",
      "source": [
        "lstm = tfk.models.load_model(\"lstm_13_12\")\n",
        "convlstm = tfk.models.load_model(\"17_12_cws_convlstm\")\n",
        "# convlstm = tfk.models.load_model(\"ConvBilstm_13_12\")\n",
        "cnn1 = tfk.models.load_model(\"cnn74_14_12\")\n",
        "cnn2 = tfk.models.load_model(\"17_12_cws_conv2\")\n",
        "cnn3 = tfk.models.load_model(\"17_12_cws_conv3\")"
      ],
      "metadata": {
        "id": "OP90ZNbxbLSP"
      },
      "execution_count": null,
      "outputs": []
    },
    {
      "cell_type": "code",
      "source": [
        "cnn1._name = \"cnn1\"\n",
        "cnn2._name = \"cnn2\"\n",
        "cnn3._name = \"cnn3\"\n",
        "lstm._name = 'lstm'\n",
        "convlstm._name = 'convlstm'"
      ],
      "metadata": {
        "id": "oc9Qt13HfSeZ"
      },
      "execution_count": null,
      "outputs": []
    },
    {
      "cell_type": "code",
      "source": [
        "models = []\n",
        "\n",
        "models.append(cnn1)\n",
        "models.append(cnn2)\n",
        "models.append(cnn3)\n",
        "models.append(convlstm)\n",
        "models.append(lstm)"
      ],
      "metadata": {
        "id": "YgrygGoLbBOJ"
      },
      "execution_count": null,
      "outputs": []
    },
    {
      "cell_type": "code",
      "source": [
        "def ensembleModels(models, model_input):\n",
        "    # collect outputs of models in a list\n",
        "    yModels=[model(model_input) for model in models] \n",
        "    # averaging outputs\n",
        "    yAvg=tfk.layers.average(yModels) \n",
        "    # build model from same input and avg output\n",
        "    modelEns = tfk.Model(inputs=model_input, outputs=yAvg,    name='ensemble')  \n",
        "   \n",
        "    return modelEns"
      ],
      "metadata": {
        "id": "ztNLoqN_fB3C"
      },
      "execution_count": null,
      "outputs": []
    },
    {
      "cell_type": "code",
      "source": [
        "model_input = tfk.Input(shape=models[0].input_shape[1:]) \n",
        "modelEns = ensembleModels(models,model_input)\n",
        "modelEns.compile(optimizer=tfk.optimizers.Adam(),\n",
        "              loss=tfk.losses.CategoricalCrossentropy(),\n",
        "              metrics='accuracy')\n",
        "modelEns.summary()"
      ],
      "metadata": {
        "colab": {
          "base_uri": "https://localhost:8080/"
        },
        "outputId": "131bbf9e-0fd8-477b-ec1a-bd7119b92de8",
        "id": "arKyshSbbBOJ"
      },
      "execution_count": null,
      "outputs": [
        {
          "output_type": "stream",
          "name": "stdout",
          "text": [
            "Model: \"ensemble\"\n",
            "__________________________________________________________________________________________________\n",
            " Layer (type)                   Output Shape         Param #     Connected to                     \n",
            "==================================================================================================\n",
            " input_1 (InputLayer)           [(None, 36, 6)]      0           []                               \n",
            "                                                                                                  \n",
            " cnn1 (Functional)              (None, 12)           151948      ['input_1[0][0]']                \n",
            "                                                                                                  \n",
            " cnn2 (Functional)              (None, 12)           34460       ['input_1[0][0]']                \n",
            "                                                                                                  \n",
            " cnn3 (Functional)              (None, 12)           151948      ['input_1[0][0]']                \n",
            "                                                                                                  \n",
            " convlstm (Functional)          (None, 12)           710316      ['input_1[0][0]']                \n",
            "                                                                                                  \n",
            " lstm (Functional)              (None, 12)           235276      ['input_1[0][0]']                \n",
            "                                                                                                  \n",
            " average (Average)              (None, 12)           0           ['cnn1[0][0]',                   \n",
            "                                                                  'cnn2[0][0]',                   \n",
            "                                                                  'cnn3[0][0]',                   \n",
            "                                                                  'convlstm[0][0]',               \n",
            "                                                                  'lstm[0][0]']                   \n",
            "                                                                                                  \n",
            "==================================================================================================\n",
            "Total params: 1,283,948\n",
            "Trainable params: 1,283,948\n",
            "Non-trainable params: 0\n",
            "__________________________________________________________________________________________________\n"
          ]
        }
      ]
    },
    {
      "cell_type": "code",
      "source": [
        "modelEns.save(\"ABC\")"
      ],
      "metadata": {
        "colab": {
          "base_uri": "https://localhost:8080/"
        },
        "id": "7ruMUg9NfgcK",
        "outputId": "b2206231-5320-47d8-aad2-57a836b3642a"
      },
      "execution_count": null,
      "outputs": [
        {
          "output_type": "stream",
          "name": "stderr",
          "text": [
            "WARNING:absl:Found untraced functions such as _jit_compiled_convolution_op, _jit_compiled_convolution_op, _jit_compiled_convolution_op, _jit_compiled_convolution_op, _jit_compiled_convolution_op while saving (showing 5 of 22). These functions will not be directly callable after loading.\n"
          ]
        }
      ]
    },
    {
      "cell_type": "markdown",
      "source": [
        "#####Bagging 5 CNNs"
      ],
      "metadata": {
        "id": "jncLMhsp0qlk"
      }
    },
    {
      "cell_type": "code",
      "source": [
        "# Accuracy: 0.7202\n",
        "# Precision: 0.7498\n",
        "# Recall: 0.5464\n",
        "# F1: 0.5908\n",
        "def build_1DCNN_classifier1(input_shape, classes):\n",
        "    # Build the neural network layer by layer\n",
        "    input_layer = tfkl.Input(shape=input_shape, name='Input')\n",
        "\n",
        "    # Feature extractor\n",
        "    cnn = tfkl.Conv1D(16,3,padding='same',activation='relu')(input_layer)\n",
        "    cnn = tfkl.Conv1D(32,3,padding='same',activation='relu')(cnn)\n",
        "    cnn = tfkl.Conv1D(64,3,padding='same',activation='relu')(cnn)\n",
        "\n",
        "    gap = tfkl.GlobalAveragePooling1D()(cnn)\n",
        "    dropout = tfkl.Dropout(.3, seed=seed)(gap)\n",
        "\n",
        "    # Classifier\n",
        "    classifier = tfkl.Dense(128, activation='relu')(dropout)\n",
        "    dropout = tfkl.Dropout(.3, seed=seed)(classifier)\n",
        "    classifier = tfkl.Dense(128, activation='relu')(dropout)\n",
        "    output_layer = tfkl.Dense(classes, activation='softmax')(classifier)\n",
        "\n",
        "    # Connect input and output through the Model class\n",
        "    model = tfk.Model(inputs=input_layer, outputs=output_layer, name='model')\n",
        "\n",
        "    # Compile the model\n",
        "    model.compile(loss=tfk.losses.CategoricalCrossentropy(), optimizer=tfk.optimizers.Adam(), metrics='accuracy')\n",
        "\n",
        "    # Return the model\n",
        "    return model"
      ],
      "metadata": {
        "id": "jvoFz1xB1HnF"
      },
      "execution_count": null,
      "outputs": []
    },
    {
      "cell_type": "code",
      "source": [
        "cnn1 = build_1DCNN_classifier1(input_shape, classes)\n",
        "# cnn1.summary()"
      ],
      "metadata": {
        "id": "k1MwzdjC1_Dz"
      },
      "execution_count": null,
      "outputs": []
    },
    {
      "cell_type": "code",
      "source": [
        "# Accuracy: 0.7407\n",
        "# Precision: 0.7124\n",
        "# Recall: 0.6806\n",
        "# F1: 0.6735\n",
        "def build_1DCNN_classifier2(input_shape, classes):\n",
        "    # Build the neural network layer by layer\n",
        "    input_layer = tfkl.Input(shape=input_shape, name='Input')\n",
        "\n",
        "    # Feature extractor\n",
        "    cnn = tfkl.Conv1D(128,3,padding='same',activation='relu')(input_layer)\n",
        "    cnn = tfkl.AveragePooling1D()(cnn)# \n",
        "    cnn = tfkl.Conv1D(256,3,padding='same',activation='relu')(cnn)\n",
        "    gap = tfkl.GlobalAveragePooling1D()(cnn)\n",
        "    dropout = tfkl.Dropout(.3, seed=seed)(gap)\n",
        "\n",
        "    # Classifier\n",
        "    classifier = tfkl.Dense(128, activation='relu')(dropout)\n",
        "    dropout = tfkl.Dropout(.3, seed=seed)(classifier)\n",
        "    classifier = tfkl.Dense(128, activation='relu')(dropout)\n",
        "    output_layer = tfkl.Dense(classes, activation='softmax')(classifier)\n",
        "\n",
        "    # Connect input and output through the Model class\n",
        "    model = tfk.Model(inputs=input_layer, outputs=output_layer, name='model')\n",
        "\n",
        "    # Compile the model\n",
        "    model.compile(loss=tfk.losses.CategoricalCrossentropy(), optimizer=tfk.optimizers.Adam(), metrics='accuracy')\n",
        "\n",
        "    # Return the model\n",
        "    return model"
      ],
      "metadata": {
        "id": "e5esrsUx0yq8"
      },
      "execution_count": null,
      "outputs": []
    },
    {
      "cell_type": "code",
      "source": [
        "cnn2 = build_1DCNN_classifier2(input_shape, classes)\n",
        "# cnn2.summary()"
      ],
      "metadata": {
        "id": "uiJHB6kr2Dhz"
      },
      "execution_count": null,
      "outputs": []
    },
    {
      "cell_type": "code",
      "source": [
        "\n",
        "def build_1DCNN_classifier3(input_shape, classes):\n",
        "    # Build the neural network layer by layer\n",
        "    input_layer = tfkl.Input(shape=input_shape, name='Input')\n",
        "\n",
        "    # Feature extractor\n",
        "    cnn = tfkl.Conv1D(128,3,dilation_rate = 2,padding='same',activation='relu')(input_layer)\n",
        "    cnn = tfkl.Conv1D(256,3,dilation_rate = 2,padding='same',activation='relu')(cnn)\n",
        "    gap = tfkl.GlobalAveragePooling1D()(cnn)\n",
        "    dropout = tfkl.Dropout(.3, seed=seed)(gap)\n",
        "\n",
        "    # Classifier\n",
        "    classifier = tfkl.Dense(128, activation='relu')(dropout)\n",
        "    dropout = tfkl.Dropout(.3, seed=seed)(classifier)\n",
        "    classifier = tfkl.Dense(128, activation='relu')(dropout)\n",
        "    output_layer = tfkl.Dense(classes, activation='softmax')(classifier)\n",
        "\n",
        "    # Connect input and output through the Model class\n",
        "    model = tfk.Model(inputs=input_layer, outputs=output_layer, name='model')\n",
        "\n",
        "    # Compile the model\n",
        "    model.compile(loss=tfk.losses.CategoricalCrossentropy(), optimizer=tfk.optimizers.Adam(), metrics='accuracy')\n",
        "\n",
        "    # Return the model\n",
        "    return model"
      ],
      "metadata": {
        "id": "XILSAT7o1Lcc"
      },
      "execution_count": null,
      "outputs": []
    },
    {
      "cell_type": "code",
      "source": [
        "cnn3 = build_1DCNN_classifier3(input_shape, classes)\n",
        "# cnn3.summary()"
      ],
      "metadata": {
        "id": "vti-Ooyq2EED"
      },
      "execution_count": null,
      "outputs": []
    },
    {
      "cell_type": "code",
      "source": [
        "def build_1DCNN_classifier4(input_shape, classes):\n",
        "    # Build the neural network layer by layer\n",
        "    input_layer = tfkl.Input(shape=input_shape, name='Input')\n",
        "\n",
        "    # Feature extractor\n",
        "    cnn = tfkl.Conv1D(16,5,padding='same',activation='relu')(input_layer)\n",
        "    cnn = tfkl.Conv1D(32,5,padding='same',activation='relu')(cnn)\n",
        "    cnn = tfkl.Conv1D(64,5,padding='same',activation='relu')(cnn)\n",
        "\n",
        "    gap = tfkl.GlobalAveragePooling1D()(cnn)\n",
        "    dropout = tfkl.Dropout(.3, seed=seed)(gap)\n",
        "\n",
        "    # Classifier\n",
        "    classifier = tfkl.Dense(128, activation='relu')(dropout)\n",
        "    dropout = tfkl.Dropout(.3, seed=seed)(classifier)\n",
        "    classifier = tfkl.Dense(128, activation='relu')(dropout)\n",
        "    output_layer = tfkl.Dense(classes, activation='softmax')(classifier)\n",
        "\n",
        "    # Connect input and output through the Model class\n",
        "    model = tfk.Model(inputs=input_layer, outputs=output_layer, name='model')\n",
        "\n",
        "    # Compile the model\n",
        "    model.compile(loss=tfk.losses.CategoricalCrossentropy(), optimizer=tfk.optimizers.Adam(), metrics='accuracy')\n",
        "\n",
        "    # Return the model\n",
        "    return model"
      ],
      "metadata": {
        "id": "WIubzVDj1nOI"
      },
      "execution_count": null,
      "outputs": []
    },
    {
      "cell_type": "code",
      "source": [
        "cnn4 = build_1DCNN_classifier4(input_shape, classes)\n",
        "# cnn4.summary()"
      ],
      "metadata": {
        "id": "jTIk3Xs52EnD"
      },
      "execution_count": null,
      "outputs": []
    },
    {
      "cell_type": "code",
      "source": [
        "# Accuracy: 0.7284\n",
        "# Precision: 0.6541\n",
        "# Recall: 0.549\n",
        "# F1: 0.5787\n",
        "def build_1DCNN_classifier5(input_shape, classes):\n",
        "    # Build the neural network layer by layer\n",
        "    input_layer = tfkl.Input(shape=input_shape, name='Input')\n",
        "\n",
        "    # Feature extractor\n",
        "    cnn = tfkl.Conv1D(128,3,padding='same',activation='relu')(input_layer)\n",
        "    cnn = tfkl.AveragePooling1D(pool_size = 6)(cnn)\n",
        "    cnn = tfkl.Conv1D(512,3,padding='same',activation='relu')(cnn)\n",
        "\n",
        "    gap = tfkl.GlobalAveragePooling1D()(cnn)\n",
        "    dropout = tfkl.Dropout(.3, seed=seed)(gap)\n",
        "\n",
        "    # Classifier\n",
        "    classifier = tfkl.Dense(128, activation='relu')(dropout)\n",
        "    dropout = tfkl.Dropout(.3, seed=seed)(classifier)\n",
        "    classifier = tfkl.Dense(128, activation='relu')(dropout)\n",
        "    output_layer = tfkl.Dense(classes, activation='softmax')(classifier)\n",
        "\n",
        "    # Connect input and output through the Model class\n",
        "    model = tfk.Model(inputs=input_layer, outputs=output_layer, name='model')\n",
        "\n",
        "    # Compile the model\n",
        "    model.compile(loss=tfk.losses.CategoricalCrossentropy(), optimizer=tfk.optimizers.Adam(), metrics='accuracy')\n",
        "\n",
        "    # Return the model\n",
        "    return model"
      ],
      "metadata": {
        "id": "zktIkXbA1tkh"
      },
      "execution_count": null,
      "outputs": []
    },
    {
      "cell_type": "code",
      "source": [
        "cnn5 = build_1DCNN_classifier5(input_shape, classes)\n",
        "# cnn5.summary()"
      ],
      "metadata": {
        "id": "zpv1dOmz2FEE"
      },
      "execution_count": null,
      "outputs": []
    },
    {
      "cell_type": "code",
      "source": [
        "X_train1, X_val1, y_train1, y_val1 = train_test_split(X, y, test_size=0.1, random_state=seed+1)\n",
        "y_train1 = tfk.utils.to_categorical(y_train1)\n",
        "y_val1 = tfk.utils.to_categorical(y_val1)\n",
        "# Train the model\n",
        "history = cnn1.fit(\n",
        "    x = X_train1,\n",
        "    y = y_train1,\n",
        "    batch_size = batch_size,\n",
        "    epochs = 200,\n",
        "    validation_data= (X_val1,y_val1),\n",
        "    callbacks = [\n",
        "        tfk.callbacks.EarlyStopping(monitor='val_accuracy', mode='max', patience=50, restore_best_weights=True),\n",
        "        tfk.callbacks.ReduceLROnPlateau(monitor='val_accuracy', mode='max', patience=20, factor=0.5, min_lr=1e-4)\n",
        "    ]\n",
        ").history"
      ],
      "metadata": {
        "id": "4p42Foyz2SY8"
      },
      "execution_count": null,
      "outputs": []
    },
    {
      "cell_type": "code",
      "source": [
        "predictions = cnn1.predict(X_val1)\n",
        "accuracy = accuracy_score(np.argmax(y_val1, axis=-1), np.argmax(predictions, axis=-1))\n",
        "print(accuracy)"
      ],
      "metadata": {
        "colab": {
          "base_uri": "https://localhost:8080/"
        },
        "id": "ivR0mSb3477c",
        "outputId": "d16e405c-f83b-4ce4-ac87-729912f85173"
      },
      "execution_count": null,
      "outputs": [
        {
          "output_type": "stream",
          "name": "stdout",
          "text": [
            "8/8 [==============================] - 0s 2ms/step\n",
            "0.720164609053498\n"
          ]
        }
      ]
    },
    {
      "cell_type": "code",
      "source": [
        "X_train2, X_val2, y_train2, y_val2 = train_test_split(X, y, test_size=0.1, random_state=seed+2)\n",
        "y_train2 = tfk.utils.to_categorical(y_train2)\n",
        "y_val2 = tfk.utils.to_categorical(y_val2)\n",
        "# Train the model\n",
        "history = cnn2.fit(\n",
        "    x = X_train2,\n",
        "    y = y_train2,\n",
        "    batch_size = batch_size,\n",
        "    epochs = 200,\n",
        "    validation_data= (X_val2,y_val2),\n",
        "    callbacks = [\n",
        "        tfk.callbacks.EarlyStopping(monitor='val_accuracy', mode='max', patience=50, restore_best_weights=True),\n",
        "        tfk.callbacks.ReduceLROnPlateau(monitor='val_accuracy', mode='max', patience=20, factor=0.5, min_lr=1e-4)\n",
        "    ]\n",
        ").history"
      ],
      "metadata": {
        "id": "akM6AYZC46Jk"
      },
      "execution_count": null,
      "outputs": []
    },
    {
      "cell_type": "code",
      "source": [
        "predictions = cnn2.predict(X_val2)\n",
        "accuracy = accuracy_score(np.argmax(y_val2, axis=-1), np.argmax(predictions, axis=-1))\n",
        "print(accuracy)"
      ],
      "metadata": {
        "colab": {
          "base_uri": "https://localhost:8080/"
        },
        "id": "TCondpap6yRs",
        "outputId": "ad3fdf13-b58f-44ae-c124-135dc7c7ad05"
      },
      "execution_count": null,
      "outputs": [
        {
          "output_type": "stream",
          "name": "stdout",
          "text": [
            "8/8 [==============================] - 0s 2ms/step\n",
            "0.6872427983539094\n"
          ]
        }
      ]
    },
    {
      "cell_type": "code",
      "source": [
        "X_train3, X_val3, y_train3, y_val3 = train_test_split(X, y, test_size=0.1, random_state=seed+3)\n",
        "y_train3 = tfk.utils.to_categorical(y_train3)\n",
        "y_val3 = tfk.utils.to_categorical(y_val3)\n",
        "# Train the model\n",
        "history = cnn3.fit(\n",
        "    x = X_train3,\n",
        "    y = y_train3,\n",
        "    batch_size = batch_size,\n",
        "    epochs = 300,\n",
        "    validation_data= (X_val3,y_val3),\n",
        "    callbacks = [\n",
        "        tfk.callbacks.EarlyStopping(monitor='val_accuracy', mode='max', patience=50, restore_best_weights=True),\n",
        "        tfk.callbacks.ReduceLROnPlateau(monitor='val_accuracy', mode='max', patience=20, factor=0.5, min_lr=1e-4)\n",
        "    ]\n",
        ").history"
      ],
      "metadata": {
        "id": "ozNIq2iQ6zCE"
      },
      "execution_count": null,
      "outputs": []
    },
    {
      "cell_type": "code",
      "source": [
        "np.max(history[\"val_accuracy\"])"
      ],
      "metadata": {
        "colab": {
          "base_uri": "https://localhost:8080/"
        },
        "id": "XMOYYp4RWHDz",
        "outputId": "f921b010-8195-45ba-a23e-0d67be3f1622"
      },
      "execution_count": null,
      "outputs": [
        {
          "output_type": "execute_result",
          "data": {
            "text/plain": [
              "0.7078189253807068"
            ]
          },
          "metadata": {},
          "execution_count": 241
        }
      ]
    },
    {
      "cell_type": "code",
      "source": [
        "predictions = cnn3.predict(X_val3)\n",
        "accuracy = accuracy_score(np.argmax(y_val3, axis=-1), np.argmax(predictions, axis=-1))\n",
        "print(accuracy)"
      ],
      "metadata": {
        "colab": {
          "base_uri": "https://localhost:8080/"
        },
        "id": "Zzzf-r6a6-ut",
        "outputId": "b107d9bb-5f3c-4ae6-8508-d23ac75bea2a"
      },
      "execution_count": null,
      "outputs": [
        {
          "output_type": "stream",
          "name": "stdout",
          "text": [
            "8/8 [==============================] - 0s 2ms/step\n",
            "0.7078189300411523\n"
          ]
        }
      ]
    },
    {
      "cell_type": "code",
      "source": [
        "X_train4, X_val4, y_train4, y_val4 = train_test_split(X, y, test_size=0.1, random_state=seed+4)\n",
        "y_train4 = tfk.utils.to_categorical(y_train4)\n",
        "y_val4 = tfk.utils.to_categorical(y_val4)\n",
        "# Train the model\n",
        "history = cnn4.fit(\n",
        "    x = X_train4,\n",
        "    y = y_train4,\n",
        "    batch_size = batch_size,\n",
        "    epochs = 200,\n",
        "    validation_data= (X_val4,y_val4),\n",
        "    callbacks = [\n",
        "        tfk.callbacks.EarlyStopping(monitor='val_accuracy', mode='max', patience=50, restore_best_weights=True),\n",
        "        tfk.callbacks.ReduceLROnPlateau(monitor='val_accuracy', mode='max', patience=20, factor=0.5, min_lr=1e-4)\n",
        "    ]\n",
        ").history"
      ],
      "metadata": {
        "id": "6lLKy7Rq6_3E"
      },
      "execution_count": null,
      "outputs": []
    },
    {
      "cell_type": "code",
      "source": [
        "predictions = cnn4.predict(X_val4)\n",
        "accuracy = accuracy_score(np.argmax(y_val4, axis=-1), np.argmax(predictions, axis=-1))\n",
        "print(accuracy)"
      ],
      "metadata": {
        "colab": {
          "base_uri": "https://localhost:8080/"
        },
        "id": "0kSClX6j7DSz",
        "outputId": "962e17fb-ed95-4883-81e9-3f0cf0ee0a9b"
      },
      "execution_count": null,
      "outputs": [
        {
          "output_type": "stream",
          "name": "stdout",
          "text": [
            "8/8 [==============================] - 0s 3ms/step\n",
            "0.691358024691358\n"
          ]
        }
      ]
    },
    {
      "cell_type": "code",
      "source": [
        "X_train5, X_val5, y_train5, y_val5 = train_test_split(X, y, test_size=0.1, random_state=seed+5)\n",
        "y_train5 = tfk.utils.to_categorical(y_train5)\n",
        "y_val5 = tfk.utils.to_categorical(y_val5)\n",
        "# Train the model\n",
        "history = cnn5.fit(\n",
        "    x = X_train5,\n",
        "    y = y_train5,\n",
        "    batch_size = batch_size,\n",
        "    epochs = 200,\n",
        "    validation_data= (X_val5,y_val5),\n",
        "    callbacks = [\n",
        "        tfk.callbacks.EarlyStopping(monitor='val_accuracy', mode='max', patience=50, restore_best_weights=True),\n",
        "        tfk.callbacks.ReduceLROnPlateau(monitor='val_accuracy', mode='max', patience=20, factor=0.5, min_lr=1e-4)\n",
        "    ]\n",
        ").history"
      ],
      "metadata": {
        "id": "_9y5vnw_7FgE"
      },
      "execution_count": null,
      "outputs": []
    },
    {
      "cell_type": "code",
      "source": [
        "predictions = cnn5.predict(X_val5)\n",
        "accuracy = accuracy_score(np.argmax(y_val5, axis=-1), np.argmax(predictions, axis=-1))\n",
        "print(accuracy)"
      ],
      "metadata": {
        "colab": {
          "base_uri": "https://localhost:8080/"
        },
        "id": "Mx0bmv3k7IrE",
        "outputId": "0264c910-0f02-4efe-cc92-4eb89245917d"
      },
      "execution_count": null,
      "outputs": [
        {
          "output_type": "stream",
          "name": "stdout",
          "text": [
            "8/8 [==============================] - 0s 2ms/step\n",
            "0.7283950617283951\n"
          ]
        }
      ]
    },
    {
      "cell_type": "code",
      "source": [
        "# Compute the confusion matrix on the validation set\n",
        "predictions = convlstm1.predict(X_val)\n",
        "cm = confusion_matrix(np.argmax(y_val, axis=-1), np.argmax(predictions, axis=-1))\n",
        "\n",
        "# Compute the classification metrics\n",
        "accuracy = accuracy_score(np.argmax(y_val, axis=-1), np.argmax(predictions, axis=-1))\n",
        "precision = precision_score(np.argmax(y_val, axis=-1), np.argmax(predictions, axis=-1), average='macro')\n",
        "recall = recall_score(np.argmax(y_val, axis=-1), np.argmax(predictions, axis=-1), average='macro')\n",
        "f1 = f1_score(np.argmax(y_val, axis=-1), np.argmax(predictions, axis=-1), average='macro')\n",
        "print('Accuracy:',accuracy.round(4))\n",
        "print('Precision:',precision.round(4))\n",
        "print('Recall:',recall.round(4))\n",
        "print('F1:',f1.round(4))\n",
        "\n",
        "# Plot the confusion matrix\n",
        "plt.figure(figsize=(10,8))\n",
        "sns.heatmap(cm.T, cmap='Blues', xticklabels=list(label_mapping.values()), yticklabels=list(label_mapping.values()))\n",
        "plt.xlabel('True labels')\n",
        "plt.ylabel('Predicted labels')\n",
        "plt.show()"
      ],
      "metadata": {
        "id": "9PVJdvpHXoz3"
      },
      "execution_count": null,
      "outputs": []
    },
    {
      "cell_type": "code",
      "source": [
        "cnn1._name = \"cnn1\"\n",
        "cnn2._name = \"cnn2\"\n",
        "cnn3._name = \"cnn3\"\n",
        "cnn4._name = \"cnn4\"\n",
        "cnn5._name = \"cnn5\""
      ],
      "metadata": {
        "id": "DN-Edi4e73vl"
      },
      "execution_count": null,
      "outputs": []
    },
    {
      "cell_type": "code",
      "source": [
        "models = []\n",
        "\n",
        "models.append(cnn1)\n",
        "models.append(cnn2)\n",
        "models.append(cnn3)\n",
        "models.append(cnn4)\n",
        "models.append(cnn5)"
      ],
      "metadata": {
        "id": "oAVQGANG7cmU"
      },
      "execution_count": null,
      "outputs": []
    },
    {
      "cell_type": "code",
      "source": [
        "def ensembleModels(models, model_input):\n",
        "    # collect outputs of models in a list\n",
        "    yModels=[model(model_input) for model in models] \n",
        "    # averaging outputs\n",
        "    yAvg=tfk.layers.average(yModels) \n",
        "    # build model from same input and avg output\n",
        "    modelEns = tfk.Model(inputs=model_input, outputs=yAvg,    name='ensemble')  \n",
        "   \n",
        "    return modelEns"
      ],
      "metadata": {
        "id": "p94hbOlD7Klc"
      },
      "execution_count": null,
      "outputs": []
    },
    {
      "cell_type": "code",
      "source": [
        "model_input = tfk.Input(shape=models[0].input_shape[1:]) \n",
        "modelEns = ensembleModels(models,model_input)\n",
        "modelEns.compile(optimizer=tfk.optimizers.Adam(),\n",
        "              loss=tfk.losses.CategoricalCrossentropy(),\n",
        "              metrics='accuracy')\n",
        "modelEns.summary()"
      ],
      "metadata": {
        "id": "e-6TXFB-7UmE"
      },
      "execution_count": null,
      "outputs": []
    },
    {
      "cell_type": "code",
      "source": [
        "# modelEns.save(\"5cnns_13_12\")"
      ],
      "metadata": {
        "id": "23ZlNciFLbM1",
        "colab": {
          "base_uri": "https://localhost:8080/"
        },
        "outputId": "fbd1cfe1-bf28-41bc-a060-9f598849b7cc"
      },
      "execution_count": null,
      "outputs": [
        {
          "output_type": "stream",
          "name": "stderr",
          "text": [
            "WARNING:absl:Found untraced functions such as _jit_compiled_convolution_op, _jit_compiled_convolution_op, _jit_compiled_convolution_op, _jit_compiled_convolution_op, _jit_compiled_convolution_op while saving (showing 5 of 5). These functions will not be directly callable after loading.\n"
          ]
        }
      ]
    }
  ]
}