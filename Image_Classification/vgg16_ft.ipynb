{
  "cells": [
    {
      "cell_type": "markdown",
      "metadata": {
        "id": "IsCIEMhfbkfn"
      },
      "source": [
        "pre-trained on imagenet by keras.applications"
      ]
    },
    {
      "cell_type": "code",
      "execution_count": null,
      "metadata": {
        "colab": {
          "base_uri": "https://localhost:8080/"
        },
        "id": "UE2VwqR4H0vd",
        "outputId": "b9b795dc-aa86-4d2d-ac30-1a05e3b69bb4"
      },
      "outputs": [
        {
          "name": "stdout",
          "output_type": "stream",
          "text": [
            "Mounted at /gdrive\n",
            "/gdrive/MyDrive/Challenge1\n"
          ]
        }
      ],
      "source": [
        "from google.colab import drive\n",
        "drive.mount('/gdrive')\n",
        "\n",
        "%cd /gdrive/MyDrive/Challenge1/\n",
        "dataset_dir = 'training_data_final'"
      ]
    },
    {
      "cell_type": "code",
      "execution_count": null,
      "metadata": {
        "id": "x-lnX7U-cb7f"
      },
      "outputs": [],
      "source": [
        "import os\n",
        "import numpy as np\n",
        "import tensorflow as tf\n",
        "import pandas as pd\n",
        "import seaborn as sns\n",
        "from sklearn.model_selection import train_test_split\n",
        "from sklearn.metrics import accuracy_score, f1_score, precision_score, recall_score\n",
        "from sklearn.metrics import confusion_matrix\n",
        "\n",
        "tfk = tf.keras\n",
        "tfkl = tf.keras.layers"
      ]
    },
    {
      "cell_type": "code",
      "execution_count": null,
      "metadata": {
        "id": "ghdIRqhhcaQF"
      },
      "outputs": [],
      "source": [
        "# Random seed for reproducibility\n",
        "seed = 127\n",
        "os.environ['PYTHONHASHSEED'] = str(seed)\n",
        "np.random.seed(seed)\n",
        "tf.random.set_seed(seed)\n",
        "tf.compat.v1.set_random_seed(seed)"
      ]
    },
    {
      "cell_type": "code",
      "execution_count": null,
      "metadata": {
        "id": "cu2ASuym7BMH"
      },
      "outputs": [],
      "source": [
        "# Utility function to create folders and callbacks for training\n",
        "from datetime import datetime\n",
        "\n",
        "def create_folders_and_callbacks(model_name):\n",
        "\n",
        "  exps_dir = os.path.join('model_14_11_vgg16_global')\n",
        "  if not os.path.exists(exps_dir):\n",
        "      os.makedirs(exps_dir)\n",
        "\n",
        "  now = datetime.now().strftime('%b%d_%H-%M-%S')\n",
        "\n",
        "  exp_dir = os.path.join(exps_dir, model_name + '_' + str(now))\n",
        "  if not os.path.exists(exp_dir):\n",
        "      os.makedirs(exp_dir)\n",
        "      \n",
        "  callbacks = []\n",
        "\n",
        "  # Model checkpoint\n",
        "  # ----------------\n",
        "  ckpt_dir = os.path.join(exp_dir, 'ckpts')\n",
        "  if not os.path.exists(ckpt_dir):\n",
        "      os.makedirs(ckpt_dir)\n",
        "\n",
        "  ckpt_callback = tf.keras.callbacks.ModelCheckpoint(filepath=os.path.join(ckpt_dir, 'cp.ckpt'), \n",
        "                                                     save_weights_only=True, # True to save only weights\n",
        "                                                     save_best_only=False) # True to save only the best epoch \n",
        "  callbacks.append(ckpt_callback)\n",
        "\n",
        "  # Visualize Learning on Tensorboard\n",
        "  # ---------------------------------\n",
        "  tb_dir = os.path.join(exp_dir, 'tb_logs')\n",
        "  if not os.path.exists(tb_dir):\n",
        "      os.makedirs(tb_dir)\n",
        "      \n",
        "  # By default shows losses and metrics for both training and validation\n",
        "  tb_callback = tf.keras.callbacks.TensorBoard(log_dir=tb_dir, \n",
        "                                               profile_batch=0,\n",
        "                                               histogram_freq=1)  # if > 0 (epochs) shows weights histograms\n",
        "  callbacks.append(tb_callback)\n",
        "\n",
        "  # Early Stopping\n",
        "  # --------------\n",
        "  es_callback = tf.keras.callbacks.EarlyStopping(monitor='val_accuracy', patience=20, restore_best_weights=True)\n",
        "  callbacks.append(es_callback)\n",
        "\n",
        "  return callbacks"
      ]
    },
    {
      "cell_type": "code",
      "execution_count": null,
      "metadata": {
        "colab": {
          "base_uri": "https://localhost:8080/"
        },
        "id": "tqnHIwY0bmJG",
        "outputId": "357d8772-bb15-40ea-db54-6201495cbdb5"
      },
      "outputs": [
        {
          "name": "stdout",
          "output_type": "stream",
          "text": [
            "Found 3015 images belonging to 8 classes.\n",
            "Found 527 images belonging to 8 classes.\n"
          ]
        }
      ],
      "source": [
        "from tensorflow.keras.preprocessing.image import ImageDataGenerator\n",
        "\n",
        "batch = 32\n",
        "\n",
        "\n",
        "data_gen = ImageDataGenerator(validation_split=0.15,\n",
        "                              rotation_range=10,\n",
        "                              height_shift_range=10,\n",
        "                              width_shift_range=10,\n",
        "                              zoom_range=0.15,\n",
        "                              horizontal_flip=True,\n",
        "                              vertical_flip=True, \n",
        "                              fill_mode='reflect',\n",
        "                              preprocessing_function = tf.keras.applications.vgg16.preprocess_input) #PREPROCESS FOR vgg16)\n",
        "\n",
        "train_gen = data_gen.flow_from_directory(directory=dataset_dir,\n",
        "                                                           target_size=(96,96),\n",
        "                                                           color_mode='rgb',\n",
        "                                                           classes=None,\n",
        "                                                           class_mode='categorical',\n",
        "                                                           batch_size=batch,\n",
        "                                                           shuffle=True,\n",
        "                                                           seed=seed,\n",
        "                                                           subset='training') # set as training data\n",
        "\n",
        "val_gen = data_gen.flow_from_directory(directory=dataset_dir,\n",
        "                                                           target_size=(96,96),\n",
        "                                                           color_mode='rgb',\n",
        "                                                           classes=None,\n",
        "                                                           class_mode='categorical',\n",
        "                                                           batch_size=batch,\n",
        "                                                           shuffle=True,\n",
        "                                                           seed=seed,\n",
        "                                                           subset='validation') # set as validation data"
      ]
    },
    {
      "cell_type": "code",
      "execution_count": null,
      "metadata": {
        "colab": {
          "base_uri": "https://localhost:8080/"
        },
        "id": "BJaHYMIHso-G",
        "outputId": "bbe058f7-348f-416e-c4fa-e17e75bed0ac"
      },
      "outputs": [
        {
          "name": "stdout",
          "output_type": "stream",
          "text": [
            "Model: \"vgg16\"\n",
            "_________________________________________________________________\n",
            " Layer (type)                Output Shape              Param #   \n",
            "=================================================================\n",
            " input_7 (InputLayer)        [(None, 96, 96, 3)]       0         \n",
            "                                                                 \n",
            " block1_conv1 (Conv2D)       (None, 96, 96, 64)        1792      \n",
            "                                                                 \n",
            " block1_conv2 (Conv2D)       (None, 96, 96, 64)        36928     \n",
            "                                                                 \n",
            " block1_pool (MaxPooling2D)  (None, 48, 48, 64)        0         \n",
            "                                                                 \n",
            " block2_conv1 (Conv2D)       (None, 48, 48, 128)       73856     \n",
            "                                                                 \n",
            " block2_conv2 (Conv2D)       (None, 48, 48, 128)       147584    \n",
            "                                                                 \n",
            " block2_pool (MaxPooling2D)  (None, 24, 24, 128)       0         \n",
            "                                                                 \n",
            " block3_conv1 (Conv2D)       (None, 24, 24, 256)       295168    \n",
            "                                                                 \n",
            " block3_conv2 (Conv2D)       (None, 24, 24, 256)       590080    \n",
            "                                                                 \n",
            " block3_conv3 (Conv2D)       (None, 24, 24, 256)       590080    \n",
            "                                                                 \n",
            " block3_pool (MaxPooling2D)  (None, 12, 12, 256)       0         \n",
            "                                                                 \n",
            " block4_conv1 (Conv2D)       (None, 12, 12, 512)       1180160   \n",
            "                                                                 \n",
            " block4_conv2 (Conv2D)       (None, 12, 12, 512)       2359808   \n",
            "                                                                 \n",
            " block4_conv3 (Conv2D)       (None, 12, 12, 512)       2359808   \n",
            "                                                                 \n",
            " block4_pool (MaxPooling2D)  (None, 6, 6, 512)         0         \n",
            "                                                                 \n",
            " block5_conv1 (Conv2D)       (None, 6, 6, 512)         2359808   \n",
            "                                                                 \n",
            " block5_conv2 (Conv2D)       (None, 6, 6, 512)         2359808   \n",
            "                                                                 \n",
            " block5_conv3 (Conv2D)       (None, 6, 6, 512)         2359808   \n",
            "                                                                 \n",
            " block5_pool (MaxPooling2D)  (None, 3, 3, 512)         0         \n",
            "                                                                 \n",
            "=================================================================\n",
            "Total params: 14,714,688\n",
            "Trainable params: 14,714,688\n",
            "Non-trainable params: 0\n",
            "_________________________________________________________________\n"
          ]
        }
      ],
      "source": [
        "# Download and plot the VGG16 model\n",
        "supernet = tf.keras.applications.vgg16.VGG16(\n",
        "    include_top=False,\n",
        "    weights=\"imagenet\",\n",
        "    input_shape=(96,96,3)\n",
        ")\n",
        "supernet.summary()\n",
        "#tfk.utils.plot_model(supernet)"
      ]
    },
    {
      "cell_type": "code",
      "execution_count": null,
      "metadata": {
        "colab": {
          "base_uri": "https://localhost:8080/"
        },
        "id": "MqbFCgn-spcg",
        "outputId": "2aa133fa-acdc-4e54-fe11-fb8f22ea7201"
      },
      "outputs": [
        {
          "name": "stdout",
          "output_type": "stream",
          "text": [
            "0 input_7 True\n",
            "1 block1_conv1 True\n",
            "2 block1_conv2 True\n",
            "3 block1_pool True\n",
            "4 block2_conv1 True\n",
            "5 block2_conv2 True\n",
            "6 block2_pool True\n",
            "7 block3_conv1 True\n",
            "8 block3_conv2 True\n",
            "9 block3_conv3 True\n",
            "10 block3_pool True\n",
            "11 block4_conv1 True\n",
            "12 block4_conv2 True\n",
            "13 block4_conv3 True\n",
            "14 block4_pool True\n",
            "15 block5_conv1 True\n",
            "16 block5_conv2 True\n",
            "17 block5_conv3 True\n",
            "18 block5_pool True\n"
          ]
        }
      ],
      "source": [
        "# Use the supernet as feature extractor\n",
        "supernet.trainable = False\n",
        "\n",
        "inputs = tfk.Input(shape=(96,96,3))\n",
        "x = tfkl.Resizing(96, 96, interpolation=\"bicubic\")(inputs)\n",
        "x = supernet(x)\n",
        "#x = tfkl.Flatten(name='Flattening')(x)\n",
        "x = tfkl.GlobalMaxPooling2D()(x)\n",
        "x = tfkl.Dense(\n",
        "    256, \n",
        "    activation='relu',\n",
        "    kernel_initializer = tfk.initializers.HeUniform(seed))(x)\n",
        "\n",
        "x = tfkl.Dropout(0.3, seed=seed)(x)\n",
        "\n",
        "x = tfkl.Dense(\n",
        "    256, \n",
        "    activation='relu',\n",
        "    kernel_initializer = tfk.initializers.HeUniform(seed))(x)\n",
        "\n",
        "x = tfkl.Dropout(0.3, seed=seed)(x)\n",
        "\n",
        "outputs = tfkl.Dense(\n",
        "    8, \n",
        "    activation='softmax',\n",
        "    kernel_initializer = tfk.initializers.GlorotUniform(seed))(x)\n",
        "\n",
        "\n",
        "# Connect input and output through the Model class\n",
        "tl_model = tfk.Model(inputs=inputs, outputs=outputs, name='model')\n",
        "\n",
        "tl_model.get_layer('vgg16').trainable = True\n",
        "for i, layer in enumerate(tl_model.get_layer('vgg16').layers):\n",
        "   print(i, layer.name, layer.trainable)\n",
        "\n",
        "# Compile the model\n",
        "tl_model.compile(loss=tfk.losses.CategoricalCrossentropy(), optimizer=tfk.optimizers.Adam(1e-5), metrics='accuracy')\n"
      ]
    },
    {
      "cell_type": "code",
      "execution_count": null,
      "metadata": {
        "colab": {
          "base_uri": "https://localhost:8080/"
        },
        "id": "wcO9yZP6UbQ3",
        "outputId": "88058022-144f-4ecb-b5f0-20551954e8de"
      },
      "outputs": [
        {
          "name": "stdout",
          "output_type": "stream",
          "text": [
            "Model: \"model\"\n",
            "_________________________________________________________________\n",
            " Layer (type)                Output Shape              Param #   \n",
            "=================================================================\n",
            " input_9 (InputLayer)        [(None, 96, 96, 3)]       0         \n",
            "                                                                 \n",
            " resizing_4 (Resizing)       (None, 96, 96, 3)         0         \n",
            "                                                                 \n",
            " vgg16 (Functional)          (None, 3, 3, 512)         14714688  \n",
            "                                                                 \n",
            " global_max_pooling2d (Globa  (None, 512)              0         \n",
            " lMaxPooling2D)                                                  \n",
            "                                                                 \n",
            " dense_10 (Dense)            (None, 256)               131328    \n",
            "                                                                 \n",
            " dropout_8 (Dropout)         (None, 256)               0         \n",
            "                                                                 \n",
            " dense_11 (Dense)            (None, 256)               65792     \n",
            "                                                                 \n",
            " dropout_9 (Dropout)         (None, 256)               0         \n",
            "                                                                 \n",
            " dense_12 (Dense)            (None, 8)                 2056      \n",
            "                                                                 \n",
            "=================================================================\n",
            "Total params: 14,913,864\n",
            "Trainable params: 14,913,864\n",
            "Non-trainable params: 0\n",
            "_________________________________________________________________\n"
          ]
        }
      ],
      "source": [
        "tl_model.summary()"
      ]
    },
    {
      "cell_type": "code",
      "execution_count": null,
      "metadata": {
        "colab": {
          "base_uri": "https://localhost:8080/"
        },
        "id": "IeOotzHMsqyJ",
        "outputId": "156f6281-3796-46c5-a50c-43bc1c5fe180"
      },
      "outputs": [
        {
          "name": "stdout",
          "output_type": "stream",
          "text": [
            "Epoch 1/200\n",
            "100/100 [==============================] - 24s 228ms/step - loss: 3.2976 - accuracy: 0.1542 - val_loss: 1.9237 - val_accuracy: 0.2593\n",
            "Epoch 2/200\n",
            "100/100 [==============================] - 21s 214ms/step - loss: 1.9547 - accuracy: 0.2460 - val_loss: 1.6540 - val_accuracy: 0.4302\n",
            "Epoch 3/200\n",
            "100/100 [==============================] - 21s 209ms/step - loss: 1.7214 - accuracy: 0.3670 - val_loss: 1.4546 - val_accuracy: 0.4786\n",
            "Epoch 4/200\n",
            "100/100 [==============================] - 21s 209ms/step - loss: 1.5548 - accuracy: 0.4400 - val_loss: 1.3321 - val_accuracy: 0.5413\n",
            "Epoch 5/200\n",
            "100/100 [==============================] - 21s 214ms/step - loss: 1.4392 - accuracy: 0.4748 - val_loss: 1.1587 - val_accuracy: 0.5670\n",
            "Epoch 6/200\n",
            "100/100 [==============================] - 21s 209ms/step - loss: 1.3211 - accuracy: 0.5381 - val_loss: 1.1005 - val_accuracy: 0.6182\n",
            "Epoch 7/200\n",
            "100/100 [==============================] - 21s 208ms/step - loss: 1.2592 - accuracy: 0.5603 - val_loss: 1.0085 - val_accuracy: 0.6838\n",
            "Epoch 8/200\n",
            "100/100 [==============================] - 21s 205ms/step - loss: 1.1778 - accuracy: 0.5879 - val_loss: 0.9594 - val_accuracy: 0.6724\n",
            "Epoch 9/200\n",
            "100/100 [==============================] - 22s 218ms/step - loss: 1.1057 - accuracy: 0.6133 - val_loss: 0.8949 - val_accuracy: 0.7123\n",
            "Epoch 10/200\n",
            "100/100 [==============================] - 21s 210ms/step - loss: 1.0214 - accuracy: 0.6587 - val_loss: 0.9621 - val_accuracy: 0.6752\n",
            "Epoch 11/200\n",
            "100/100 [==============================] - 20s 204ms/step - loss: 1.0004 - accuracy: 0.6706 - val_loss: 0.9601 - val_accuracy: 0.6667\n",
            "Epoch 12/200\n",
            "100/100 [==============================] - 21s 205ms/step - loss: 0.9434 - accuracy: 0.6813 - val_loss: 0.7681 - val_accuracy: 0.7208\n",
            "Epoch 13/200\n",
            "100/100 [==============================] - 21s 209ms/step - loss: 0.8807 - accuracy: 0.7051 - val_loss: 0.7587 - val_accuracy: 0.7350\n",
            "Epoch 14/200\n",
            "100/100 [==============================] - 21s 207ms/step - loss: 0.8622 - accuracy: 0.7070 - val_loss: 0.7255 - val_accuracy: 0.7607\n",
            "Epoch 15/200\n",
            "100/100 [==============================] - 21s 207ms/step - loss: 0.8180 - accuracy: 0.7327 - val_loss: 0.6899 - val_accuracy: 0.7521\n",
            "Epoch 16/200\n",
            "100/100 [==============================] - 20s 202ms/step - loss: 0.7852 - accuracy: 0.7421 - val_loss: 0.6803 - val_accuracy: 0.7664\n",
            "Epoch 17/200\n",
            "100/100 [==============================] - 20s 203ms/step - loss: 0.7528 - accuracy: 0.7487 - val_loss: 0.6499 - val_accuracy: 0.7977\n",
            "Epoch 18/200\n",
            "100/100 [==============================] - 21s 206ms/step - loss: 0.7062 - accuracy: 0.7631 - val_loss: 0.6300 - val_accuracy: 0.7892\n",
            "Epoch 19/200\n",
            "100/100 [==============================] - 20s 202ms/step - loss: 0.6941 - accuracy: 0.7656 - val_loss: 0.7134 - val_accuracy: 0.7607\n",
            "Epoch 20/200\n",
            "100/100 [==============================] - 20s 202ms/step - loss: 0.6399 - accuracy: 0.7860 - val_loss: 0.5997 - val_accuracy: 0.8120\n",
            "Epoch 21/200\n",
            "100/100 [==============================] - 22s 216ms/step - loss: 0.6491 - accuracy: 0.7853 - val_loss: 0.6174 - val_accuracy: 0.7863\n",
            "Epoch 22/200\n",
            "100/100 [==============================] - 20s 203ms/step - loss: 0.5894 - accuracy: 0.8038 - val_loss: 0.6403 - val_accuracy: 0.7835\n",
            "Epoch 23/200\n",
            "100/100 [==============================] - 21s 205ms/step - loss: 0.6049 - accuracy: 0.7963 - val_loss: 0.6322 - val_accuracy: 0.8006\n",
            "Epoch 24/200\n",
            "100/100 [==============================] - 20s 201ms/step - loss: 0.5815 - accuracy: 0.8041 - val_loss: 0.5728 - val_accuracy: 0.8006\n",
            "Epoch 25/200\n",
            "100/100 [==============================] - 20s 203ms/step - loss: 0.5549 - accuracy: 0.8142 - val_loss: 0.5869 - val_accuracy: 0.8291\n",
            "Epoch 26/200\n",
            "100/100 [==============================] - 20s 204ms/step - loss: 0.5214 - accuracy: 0.8242 - val_loss: 0.5713 - val_accuracy: 0.7977\n",
            "Epoch 27/200\n",
            "100/100 [==============================] - 20s 201ms/step - loss: 0.5109 - accuracy: 0.8336 - val_loss: 0.5951 - val_accuracy: 0.8262\n",
            "Epoch 28/200\n",
            "100/100 [==============================] - 20s 202ms/step - loss: 0.4640 - accuracy: 0.8515 - val_loss: 0.5415 - val_accuracy: 0.8177\n",
            "Epoch 29/200\n",
            "100/100 [==============================] - 21s 209ms/step - loss: 0.4770 - accuracy: 0.8414 - val_loss: 0.5499 - val_accuracy: 0.8091\n",
            "Epoch 30/200\n",
            "100/100 [==============================] - 20s 203ms/step - loss: 0.4564 - accuracy: 0.8505 - val_loss: 0.4968 - val_accuracy: 0.8205\n",
            "Epoch 31/200\n",
            "100/100 [==============================] - 21s 206ms/step - loss: 0.4403 - accuracy: 0.8533 - val_loss: 0.5095 - val_accuracy: 0.8405\n",
            "Epoch 32/200\n",
            "100/100 [==============================] - 20s 203ms/step - loss: 0.4105 - accuracy: 0.8621 - val_loss: 0.4646 - val_accuracy: 0.8462\n",
            "Epoch 33/200\n",
            "100/100 [==============================] - 21s 211ms/step - loss: 0.4203 - accuracy: 0.8656 - val_loss: 0.4841 - val_accuracy: 0.8490\n",
            "Epoch 34/200\n",
            "100/100 [==============================] - 21s 205ms/step - loss: 0.3646 - accuracy: 0.8756 - val_loss: 0.5783 - val_accuracy: 0.8262\n",
            "Epoch 35/200\n",
            "100/100 [==============================] - 20s 202ms/step - loss: 0.3853 - accuracy: 0.8693 - val_loss: 0.6331 - val_accuracy: 0.8120\n",
            "Epoch 36/200\n",
            "100/100 [==============================] - 20s 202ms/step - loss: 0.3287 - accuracy: 0.8897 - val_loss: 0.5278 - val_accuracy: 0.8319\n",
            "Epoch 37/200\n",
            "100/100 [==============================] - 20s 203ms/step - loss: 0.3612 - accuracy: 0.8768 - val_loss: 0.4994 - val_accuracy: 0.8547\n",
            "Epoch 38/200\n",
            "100/100 [==============================] - 20s 199ms/step - loss: 0.3211 - accuracy: 0.8941 - val_loss: 0.4771 - val_accuracy: 0.8547\n",
            "Epoch 39/200\n",
            "100/100 [==============================] - 20s 203ms/step - loss: 0.3240 - accuracy: 0.8972 - val_loss: 0.5116 - val_accuracy: 0.8433\n",
            "Epoch 40/200\n",
            "100/100 [==============================] - 20s 199ms/step - loss: 0.3076 - accuracy: 0.8944 - val_loss: 0.4542 - val_accuracy: 0.8547\n",
            "Epoch 41/200\n",
            "100/100 [==============================] - 20s 199ms/step - loss: 0.2792 - accuracy: 0.9088 - val_loss: 0.4925 - val_accuracy: 0.8519\n",
            "Epoch 42/200\n",
            "100/100 [==============================] - 21s 205ms/step - loss: 0.2567 - accuracy: 0.9141 - val_loss: 0.5094 - val_accuracy: 0.8519\n",
            "Epoch 43/200\n",
            "100/100 [==============================] - 20s 201ms/step - loss: 0.2528 - accuracy: 0.9144 - val_loss: 0.5023 - val_accuracy: 0.8490\n",
            "Epoch 44/200\n",
            "100/100 [==============================] - 20s 204ms/step - loss: 0.3207 - accuracy: 0.9019 - val_loss: 0.4907 - val_accuracy: 0.8376\n",
            "Epoch 45/200\n",
            "100/100 [==============================] - 21s 214ms/step - loss: 0.2497 - accuracy: 0.9170 - val_loss: 0.4376 - val_accuracy: 0.8718\n",
            "Epoch 46/200\n",
            "100/100 [==============================] - 20s 202ms/step - loss: 0.2382 - accuracy: 0.9207 - val_loss: 0.5058 - val_accuracy: 0.8547\n",
            "Epoch 47/200\n",
            "100/100 [==============================] - 20s 204ms/step - loss: 0.2196 - accuracy: 0.9279 - val_loss: 0.4630 - val_accuracy: 0.8575\n",
            "Epoch 48/200\n",
            "100/100 [==============================] - 20s 202ms/step - loss: 0.2261 - accuracy: 0.9257 - val_loss: 0.4756 - val_accuracy: 0.8547\n",
            "Epoch 49/200\n",
            "100/100 [==============================] - 20s 203ms/step - loss: 0.2190 - accuracy: 0.9304 - val_loss: 0.4501 - val_accuracy: 0.8604\n",
            "Epoch 50/200\n",
            "100/100 [==============================] - 21s 205ms/step - loss: 0.2261 - accuracy: 0.9295 - val_loss: 0.5237 - val_accuracy: 0.8604\n",
            "Epoch 51/200\n",
            "100/100 [==============================] - 20s 201ms/step - loss: 0.1793 - accuracy: 0.9405 - val_loss: 0.6205 - val_accuracy: 0.8462\n",
            "Epoch 52/200\n",
            "100/100 [==============================] - 20s 199ms/step - loss: 0.1840 - accuracy: 0.9367 - val_loss: 0.4563 - val_accuracy: 0.8689\n",
            "Epoch 53/200\n",
            "100/100 [==============================] - 20s 202ms/step - loss: 0.2024 - accuracy: 0.9370 - val_loss: 0.5461 - val_accuracy: 0.8205\n",
            "Epoch 54/200\n",
            "100/100 [==============================] - 20s 203ms/step - loss: 0.1491 - accuracy: 0.9492 - val_loss: 0.4966 - val_accuracy: 0.8661\n",
            "Epoch 55/200\n",
            "100/100 [==============================] - 20s 202ms/step - loss: 0.1442 - accuracy: 0.9549 - val_loss: 0.5218 - val_accuracy: 0.8547\n",
            "Epoch 56/200\n",
            "100/100 [==============================] - 20s 199ms/step - loss: 0.1492 - accuracy: 0.9495 - val_loss: 0.5227 - val_accuracy: 0.8433\n",
            "Epoch 57/200\n",
            "100/100 [==============================] - 21s 212ms/step - loss: 0.1405 - accuracy: 0.9527 - val_loss: 0.5223 - val_accuracy: 0.8462\n",
            "Epoch 58/200\n",
            "100/100 [==============================] - 20s 204ms/step - loss: 0.1894 - accuracy: 0.9358 - val_loss: 0.5010 - val_accuracy: 0.8604\n",
            "Epoch 59/200\n",
            "100/100 [==============================] - 21s 205ms/step - loss: 0.1405 - accuracy: 0.9580 - val_loss: 0.5797 - val_accuracy: 0.8433\n",
            "Epoch 60/200\n",
            "100/100 [==============================] - 20s 198ms/step - loss: 0.1307 - accuracy: 0.9574 - val_loss: 0.4328 - val_accuracy: 0.8832\n",
            "Epoch 61/200\n",
            "100/100 [==============================] - 20s 198ms/step - loss: 0.1209 - accuracy: 0.9561 - val_loss: 0.4341 - val_accuracy: 0.8604\n",
            "Epoch 62/200\n",
            "100/100 [==============================] - 20s 203ms/step - loss: 0.1038 - accuracy: 0.9621 - val_loss: 0.5481 - val_accuracy: 0.8632\n",
            "Epoch 63/200\n",
            "100/100 [==============================] - 20s 204ms/step - loss: 0.1037 - accuracy: 0.9646 - val_loss: 0.6125 - val_accuracy: 0.8519\n",
            "Epoch 64/200\n",
            "100/100 [==============================] - 20s 200ms/step - loss: 0.1100 - accuracy: 0.9624 - val_loss: 0.6588 - val_accuracy: 0.8462\n",
            "Epoch 65/200\n",
            "100/100 [==============================] - 20s 201ms/step - loss: 0.1166 - accuracy: 0.9636 - val_loss: 0.4838 - val_accuracy: 0.8575\n",
            "Epoch 66/200\n",
            "100/100 [==============================] - 20s 200ms/step - loss: 0.1029 - accuracy: 0.9668 - val_loss: 0.5332 - val_accuracy: 0.8860\n",
            "Epoch 67/200\n",
            "100/100 [==============================] - 20s 199ms/step - loss: 0.0899 - accuracy: 0.9727 - val_loss: 0.5155 - val_accuracy: 0.8689\n",
            "Epoch 68/200\n",
            "100/100 [==============================] - 21s 212ms/step - loss: 0.1010 - accuracy: 0.9643 - val_loss: 0.5849 - val_accuracy: 0.8575\n",
            "Epoch 69/200\n",
            "100/100 [==============================] - 20s 197ms/step - loss: 0.1304 - accuracy: 0.9599 - val_loss: 0.4818 - val_accuracy: 0.8775\n",
            "Epoch 70/200\n",
            "100/100 [==============================] - 20s 198ms/step - loss: 0.0973 - accuracy: 0.9677 - val_loss: 0.5081 - val_accuracy: 0.8604\n",
            "Epoch 71/200\n",
            "100/100 [==============================] - 21s 207ms/step - loss: 0.0594 - accuracy: 0.9799 - val_loss: 0.5627 - val_accuracy: 0.8632\n",
            "Epoch 72/200\n",
            "100/100 [==============================] - 20s 200ms/step - loss: 0.0668 - accuracy: 0.9765 - val_loss: 0.8990 - val_accuracy: 0.8348\n",
            "Epoch 73/200\n",
            "100/100 [==============================] - 20s 201ms/step - loss: 0.1015 - accuracy: 0.9674 - val_loss: 0.5584 - val_accuracy: 0.8746\n",
            "Epoch 74/200\n",
            "100/100 [==============================] - 20s 204ms/step - loss: 0.1055 - accuracy: 0.9643 - val_loss: 0.5218 - val_accuracy: 0.8689\n",
            "Epoch 75/200\n",
            "100/100 [==============================] - 20s 199ms/step - loss: 0.0699 - accuracy: 0.9781 - val_loss: 0.5507 - val_accuracy: 0.8689\n",
            "Epoch 76/200\n",
            "100/100 [==============================] - 20s 203ms/step - loss: 0.0686 - accuracy: 0.9756 - val_loss: 0.7440 - val_accuracy: 0.8405\n",
            "Epoch 77/200\n",
            "100/100 [==============================] - 20s 201ms/step - loss: 0.0826 - accuracy: 0.9715 - val_loss: 0.4643 - val_accuracy: 0.8946\n",
            "Epoch 78/200\n",
            "100/100 [==============================] - 20s 201ms/step - loss: 0.0942 - accuracy: 0.9702 - val_loss: 0.7091 - val_accuracy: 0.8462\n",
            "Epoch 79/200\n",
            "100/100 [==============================] - 20s 199ms/step - loss: 0.0768 - accuracy: 0.9762 - val_loss: 0.7369 - val_accuracy: 0.8433\n",
            "Epoch 80/200\n",
            "100/100 [==============================] - 21s 208ms/step - loss: 0.0732 - accuracy: 0.9768 - val_loss: 0.7270 - val_accuracy: 0.8376\n",
            "Epoch 81/200\n",
            "100/100 [==============================] - 20s 199ms/step - loss: 0.0851 - accuracy: 0.9774 - val_loss: 0.6578 - val_accuracy: 0.8689\n",
            "Epoch 82/200\n",
            "100/100 [==============================] - 20s 198ms/step - loss: 0.0480 - accuracy: 0.9846 - val_loss: 0.5562 - val_accuracy: 0.8889\n",
            "Epoch 83/200\n",
            "100/100 [==============================] - 20s 198ms/step - loss: 0.0461 - accuracy: 0.9862 - val_loss: 0.6358 - val_accuracy: 0.8718\n",
            "Epoch 84/200\n",
            "100/100 [==============================] - 20s 199ms/step - loss: 0.0655 - accuracy: 0.9768 - val_loss: 0.6509 - val_accuracy: 0.8775\n",
            "Epoch 85/200\n",
            "100/100 [==============================] - 20s 200ms/step - loss: 0.0595 - accuracy: 0.9825 - val_loss: 0.5717 - val_accuracy: 0.8832\n",
            "Epoch 86/200\n",
            "100/100 [==============================] - 20s 203ms/step - loss: 0.0520 - accuracy: 0.9859 - val_loss: 0.6429 - val_accuracy: 0.8661\n",
            "Epoch 87/200\n",
            "100/100 [==============================] - 20s 199ms/step - loss: 0.0447 - accuracy: 0.9868 - val_loss: 0.6564 - val_accuracy: 0.8661\n",
            "Epoch 88/200\n",
            "100/100 [==============================] - 20s 199ms/step - loss: 0.0625 - accuracy: 0.9818 - val_loss: 0.8090 - val_accuracy: 0.8405\n",
            "Epoch 89/200\n",
            "100/100 [==============================] - 21s 206ms/step - loss: 0.0773 - accuracy: 0.9737 - val_loss: 0.6364 - val_accuracy: 0.8746\n",
            "Epoch 90/200\n",
            "100/100 [==============================] - 20s 199ms/step - loss: 0.0405 - accuracy: 0.9859 - val_loss: 0.6949 - val_accuracy: 0.8718\n",
            "Epoch 91/200\n",
            "100/100 [==============================] - 20s 202ms/step - loss: 0.0699 - accuracy: 0.9774 - val_loss: 0.5866 - val_accuracy: 0.8775\n",
            "Epoch 92/200\n",
            "100/100 [==============================] - 22s 218ms/step - loss: 0.0543 - accuracy: 0.9821 - val_loss: 0.6501 - val_accuracy: 0.8632\n",
            "Epoch 93/200\n",
            "100/100 [==============================] - 20s 198ms/step - loss: 0.0591 - accuracy: 0.9837 - val_loss: 0.6121 - val_accuracy: 0.8718\n",
            "Epoch 94/200\n",
            "100/100 [==============================] - 20s 201ms/step - loss: 0.0760 - accuracy: 0.9787 - val_loss: 0.6799 - val_accuracy: 0.8433\n",
            "Epoch 95/200\n",
            "100/100 [==============================] - 20s 199ms/step - loss: 0.0278 - accuracy: 0.9915 - val_loss: 0.7212 - val_accuracy: 0.8775\n",
            "Epoch 96/200\n",
            "100/100 [==============================] - 20s 199ms/step - loss: 0.0357 - accuracy: 0.9893 - val_loss: 0.8086 - val_accuracy: 0.8604\n",
            "Epoch 97/200\n",
            "100/100 [==============================] - 20s 197ms/step - loss: 0.0869 - accuracy: 0.9759 - val_loss: 0.6852 - val_accuracy: 0.8405\n"
          ]
        }
      ],
      "source": [
        "# Create folders and callbacks and fit\n",
        "callbacks = create_folders_and_callbacks(model_name='CNN_VGG16_small_data_augm')\n",
        "\n",
        "epochs = 200\n",
        "# Train the model\n",
        "history = tl_model.fit(\n",
        "    x = train_gen,\n",
        "    epochs = epochs,\n",
        "    validation_data = val_gen,\n",
        "    callbacks = callbacks,\n",
        ").history"
      ]
    },
    {
      "cell_type": "code",
      "execution_count": null,
      "metadata": {
        "colab": {
          "base_uri": "https://localhost:8080/"
        },
        "id": "y2-H4W3q4xVR",
        "outputId": "39dbd46f-c8ce-42ff-f137-f8e5f73b1c21"
      },
      "outputs": [
        {
          "name": "stderr",
          "output_type": "stream",
          "text": [
            "WARNING:absl:Found untraced functions such as _jit_compiled_convolution_op, _jit_compiled_convolution_op, _jit_compiled_convolution_op, _jit_compiled_convolution_op, _jit_compiled_convolution_op while saving (showing 5 of 13). These functions will not be directly callable after loading.\n"
          ]
        }
      ],
      "source": [
        "tl_model.save(\"model_VGG16/CNN_VGG16\")"
      ]
    },
    {
      "cell_type": "code",
      "execution_count": null,
      "metadata": {
        "colab": {
          "base_uri": "https://localhost:8080/"
        },
        "id": "4W_3hDaQm3rP",
        "outputId": "374ed973-f4b5-4a22-c1d7-b86368daf858"
      },
      "outputs": [
        {
          "name": "stdout",
          "output_type": "stream",
          "text": [
            "11/11 [==============================] - 2s 147ms/step - loss: 0.6312 - accuracy: 0.8803\n",
            "\n",
            "Test metrics without data augmentation\n",
            "{'loss': 0.6311548352241516, 'accuracy': 0.8803418874740601}\n"
          ]
        }
      ],
      "source": [
        "# Evaluate on validation set\n",
        "\n",
        "model_test_metrics = tl_model.evaluate(val_gen, return_dict=True)\n",
        "\n",
        "print()\n",
        "print(model_test_metrics)"
      ]
    },
    {
      "cell_type": "code",
      "execution_count": null,
      "metadata": {
        "colab": {
          "base_uri": "https://localhost:8080/",
          "height": 655
        },
        "id": "6U_ppl9fscQf",
        "outputId": "441edbe5-56d3-47aa-ad7d-752faa044c44"
      },
      "outputs": [
        {
          "data": {
            "image/png": "[encoded data removed]",
            "text/plain": [
              "<Figure size 1080x360 with 1 Axes>"
            ]
          },
          "metadata": {
            "needs_background": "light"
          },
          "output_type": "display_data"
        },
        {
          "data": {
            "image/png": "[encoded data removed]",
            "text/plain": [
              "<Figure size 1080x360 with 1 Axes>"
            ]
          },
          "metadata": {
            "needs_background": "light"
          },
          "output_type": "display_data"
        }
      ],
      "source": [
        "import matplotlib.pyplot as plt\n",
        "# Plot the training\n",
        "plt.figure(figsize=(15,5))\n",
        "plt.plot(history['loss'], label='Training', alpha=.3, color='#ff7f0e', linestyle='--')\n",
        "plt.plot(history['val_loss'], label='Validation', alpha=.8, color='#ff7f0e')\n",
        "plt.legend(loc='upper left')\n",
        "plt.title('Categorical Crossentropy')\n",
        "plt.grid(alpha=.3)\n",
        "\n",
        "plt.figure(figsize=(15,5))\n",
        "plt.plot(history['accuracy'], label='Training', alpha=.8, color='#ff7f0e', linestyle='--')\n",
        "plt.plot(history['val_accuracy'], label='Validation', alpha=.8, color='#ff7f0e')\n",
        "plt.legend(loc='upper left')\n",
        "plt.title('Accuracy')\n",
        "plt.grid(alpha=.3)\n",
        "\n",
        "plt.show()"
      ]
    }
  ],
  "metadata": {
    "accelerator": "GPU",
    "colab": {
      "provenance": []
    },
    "gpuClass": "standard",
    "kernelspec": {
      "display_name": "Python 3",
      "name": "python3"
    },
    "language_info": {
      "name": "python"
    }
  },
  "nbformat": 4,
  "nbformat_minor": 0
}
