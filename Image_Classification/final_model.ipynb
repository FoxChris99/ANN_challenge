{
  "cells": [
    {
      "cell_type": "markdown",
      "source": [
        "#Final Ensemble Model"
      ],
      "metadata": {
        "id": "KneEnDxChRnM"
      }
    },
    {
      "cell_type": "code",
      "source": [
        "from google.colab import drive\n",
        "drive.mount('/gdrive')\n",
        "\n",
        "%cd /gdrive/MyDrive/Challenge1\n"
      ],
      "metadata": {
        "colab": {
          "base_uri": "https://localhost:8080/"
        },
        "id": "nHtaheCeZ1jX",
        "outputId": "439691a0-4ce2-489b-8a50-246962d04e90"
      },
      "execution_count": null,
      "outputs": [
        {
          "output_type": "stream",
          "name": "stdout",
          "text": [
            "Drive already mounted at /gdrive; to attempt to forcibly remount, call drive.mount(\"/gdrive\", force_remount=True).\n",
            "/gdrive/MyDrive/Challenge1\n"
          ]
        }
      ]
    },
    {
      "cell_type": "code",
      "source": [
        "dataset_dir = 'training_data_final'"
      ],
      "metadata": {
        "id": "DF3P8--zy7Cj"
      },
      "execution_count": null,
      "outputs": []
    },
    {
      "cell_type": "code",
      "execution_count": null,
      "metadata": {
        "id": "x-lnX7U-cb7f"
      },
      "outputs": [],
      "source": [
        "import os\n",
        "import numpy as np\n",
        "import tensorflow as tf\n",
        "import pandas as pd\n",
        "import seaborn as sns\n",
        "\n",
        "tfk = tf.keras\n",
        "tfkl = tf.keras.layers"
      ]
    },
    {
      "cell_type": "code",
      "execution_count": null,
      "metadata": {
        "id": "ghdIRqhhcaQF"
      },
      "outputs": [],
      "source": [
        "# Random seed for reproducibility\n",
        "seed = 1270\n",
        "os.environ['PYTHONHASHSEED'] = str(seed)\n",
        "np.random.seed(seed)\n",
        "tf.random.set_seed(seed)\n",
        "tf.compat.v1.set_random_seed(seed)"
      ]
    },
    {
      "cell_type": "markdown",
      "source": [
        "load the models"
      ],
      "metadata": {
        "id": "oi1s-ryPhZOi"
      }
    },
    {
      "cell_type": "code",
      "source": [
        "vgg16 = tfk.models.load_model(\"model_vgg16/CNN_vgg16Best\")\n",
        "efficientnetb6 = tfk.models.load_model(\"effnet6/effnet6_ftl\")\n",
        "#xception = tfk.models.load_model(\"xception/xception89_colab\")"
      ],
      "metadata": {
        "id": "7swBxKEk9gWt"
      },
      "execution_count": null,
      "outputs": []
    },
    {
      "cell_type": "code",
      "source": [
        "models = []\n",
        "\n",
        "models.append(vgg16)\n",
        "models.append(efficientnetb6)\n",
        "#models.append(mymodel)\n",
        "# models.append(xception)"
      ],
      "metadata": {
        "id": "MX2O8jk29oCr"
      },
      "execution_count": null,
      "outputs": []
    },
    {
      "cell_type": "code",
      "source": [
        "vgg16._name = \"vgg16\"\n",
        "efficientnetb6._name = \"eff6\"\n",
        "# mymodel._name = \"mine\"\n",
        "# xception._name ='xception'"
      ],
      "metadata": {
        "id": "aKGkC_Js9sqj"
      },
      "execution_count": null,
      "outputs": []
    },
    {
      "cell_type": "code",
      "source": [
        "#function to collect models outputs and to average them\n",
        "def ensembleModels(models, model_input):\n",
        "  \n",
        "    Models=[model(model_input) for model in models] \n",
        "\n",
        "    Avg=tfk.layers.average(Models) \n",
        "    \n",
        "    modelEns = tfk.Model(inputs=model_input, outputs=Avg, name='ensemble')  \n",
        "   \n",
        "    return modelEns"
      ],
      "metadata": {
        "id": "6V0wEU0x9uvL"
      },
      "execution_count": null,
      "outputs": []
    },
    {
      "cell_type": "code",
      "source": [
        "model_input = tfk.Input(shape=models[0].input_shape[1:]) # c*h*w\n",
        "ensemble_model = ensembleModels(models, model_input)\n",
        "ensemble_model.compile(optimizer=tfk.optimizers.Adam(),\n",
        "              loss=tfk.losses.CategoricalCrossentropy(),\n",
        "              metrics='accuracy')\n",
        "ensemble_model.summary()"
      ],
      "metadata": {
        "colab": {
          "base_uri": "https://localhost:8080/"
        },
        "id": "sq60XdL1-Dp0",
        "outputId": "8c91950f-ea1c-4012-9503-05d9735ddc17"
      },
      "execution_count": null,
      "outputs": [
        {
          "output_type": "stream",
          "name": "stdout",
          "text": [
            "Model: \"ensemble\"\n",
            "__________________________________________________________________________________________________\n",
            " Layer (type)                   Output Shape         Param #     Connected to                     \n",
            "==================================================================================================\n",
            " input_14 (InputLayer)          [(None, 96, 96, 3)]  0           []                               \n",
            "                                                                                                  \n",
            " vgg16 (Functional)             (None, 8)            14913864    ['input_14[0][0]']               \n",
            "                                                                                                  \n",
            " eff6 (Functional)              (None, 8)            42407063    ['input_14[0][0]']               \n",
            "                                                                                                  \n",
            " average_9 (Average)            (None, 8)            0           ['vgg16[9][0]',                  \n",
            "                                                                  'eff6[4][0]']                   \n",
            "                                                                                                  \n",
            "==================================================================================================\n",
            "Total params: 57,320,927\n",
            "Trainable params: 57,096,488\n",
            "Non-trainable params: 224,439\n",
            "__________________________________________________________________________________________________\n"
          ]
        }
      ]
    },
    {
      "cell_type": "code",
      "source": [
        "ensemble_model = tfk.models.load_model(\"EnsembleModel1\")"
      ],
      "metadata": {
        "id": "ENS5aOWbiXHT"
      },
      "execution_count": null,
      "outputs": []
    },
    {
      "cell_type": "code",
      "source": [
        "from tensorflow.keras.preprocessing.image import ImageDataGenerator\n",
        "batch = 32\n",
        "\n",
        "data_gen = ImageDataGenerator(validation_split=0.15,rotation_range=10, height_shift_range=10, width_shift_range=10,zoom_range=0.15,horizontal_flip=True,  vertical_flip=True,  fill_mode='reflect') \n",
        "\n",
        "train_gen = data_gen.flow_from_directory(directory=dataset_dir,target_size=(96,96),color_mode='rgb', classes=None, class_mode='categorical',batch_size=batch,shuffle=True,seed=seed,subset='training') # set as training data\n",
        "\n",
        "val_gen = data_gen.flow_from_directory(directory=dataset_dir,target_size=(96,96),color_mode='rgb',classes=None,class_mode='categorical',batch_size=batch, shuffle=True, seed=seed, subset='validation') # set as validation data"
      ],
      "metadata": {
        "id": "FtcBX6owi8e7"
      },
      "execution_count": null,
      "outputs": []
    },
    {
      "cell_type": "markdown",
      "source": [
        "This evaulation is distorted since we have trained the single models on different subsets of the training set"
      ],
      "metadata": {
        "id": "bev7UPXYijWq"
      }
    },
    {
      "cell_type": "code",
      "source": [
        "# Evaluate on validation set\n",
        "\n",
        "model_test_metrics = modelEns.evaluate(val_gen, return_dict=True)\n",
        "\n",
        "print()\n",
        "print(model_test_metrics)"
      ],
      "metadata": {
        "colab": {
          "base_uri": "https://localhost:8080/"
        },
        "id": "4UMf2JjjBTix",
        "outputId": "2de5538e-2faa-4f7c-cf7b-201c61b80e43"
      },
      "execution_count": null,
      "outputs": [
        {
          "output_type": "stream",
          "name": "stdout",
          "text": [
            "17/17 [==============================] - 11s 169ms/step - loss: 0.1766 - accuracy: 0.9620\n",
            "\n",
            "Test metrics without data augmentation\n",
            "{'loss': 0.17658136785030365, 'accuracy': 0.9620493650436401}\n"
          ]
        }
      ]
    },
    {
      "cell_type": "code",
      "source": [
        "# ensemble_model.save(\"EnsembleModel1\")"
      ],
      "metadata": {
        "colab": {
          "base_uri": "https://localhost:8080/"
        },
        "id": "D4ASRLx_92XL",
        "outputId": "6b7657cc-77d8-4281-d0a9-1da41955fd37"
      },
      "execution_count": null,
      "outputs": [
        {
          "output_type": "stream",
          "name": "stderr",
          "text": [
            "WARNING:absl:Found untraced functions such as _jit_compiled_convolution_op, _jit_compiled_convolution_op, _jit_compiled_convolution_op, _jit_compiled_convolution_op, _jit_compiled_convolution_op while saving (showing 5 of 277). These functions will not be directly callable after loading.\n"
          ]
        }
      ]
    }
  ],
  "metadata": {
    "accelerator": "GPU",
    "colab": {
      "provenance": []
    },
    "gpuClass": "standard",
    "kernelspec": {
      "display_name": "Python 3.9.7 ('base')",
      "language": "python",
      "name": "python3"
    },
    "language_info": {
      "codemirror_mode": {
        "name": "ipython",
        "version": 3
      },
      "file_extension": ".py",
      "mimetype": "text/x-python",
      "name": "python",
      "nbconvert_exporter": "python",
      "pygments_lexer": "ipython3",
      "version": "3.9.7"
    },
    "vscode": {
      "interpreter": {
        "hash": "f1838362fc3c72254db1311c9d5db56b79b6520b93de3800103ebfd8112b592e"
      }
    }
  },
  "nbformat": 4,
  "nbformat_minor": 0
}